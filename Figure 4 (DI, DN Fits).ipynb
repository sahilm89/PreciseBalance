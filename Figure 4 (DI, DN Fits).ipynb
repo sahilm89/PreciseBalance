{
 "cells": [
  {
   "cell_type": "code",
   "execution_count": 1,
   "metadata": {},
   "outputs": [
    {
     "name": "stderr",
     "output_type": "stream",
     "text": [
      "/usr/local/lib/python2.7/dist-packages/statsmodels/compat/pandas.py:56: FutureWarning: The pandas.core.datetools module is deprecated and will be removed in a future version. Please use the pandas.tseries module instead.\n",
      "  from pandas.core import datetools\n"
     ]
    }
   ],
   "source": [
    "import glob\n",
    "import matplotlib\n",
    "import matplotlib.pyplot as plt\n",
    "import pickle\n",
    "from pickle import dump\n",
    "import lmfit\n",
    "import numpy as np\n",
    "import scipy.stats as ss\n",
    "plt.style.use('neuron')\n",
    "import statsmodels.api as sm\n",
    "from statsmodels.sandbox.regression.predstd import wls_prediction_std\n",
    "from statsmodels.formula.api import ols, rlm\n",
    "import sys\n",
    "sys.path.append('../')\n",
    "from Linearity import Neuron\n",
    "from matplotlib import  rc\n",
    "rc('text', usetex=False)"
   ]
  },
  {
   "cell_type": "code",
   "execution_count": 2,
   "metadata": {
    "collapsed": true
   },
   "outputs": [],
   "source": [
    "def simpleaxis(axes, every=False):\n",
    "    if not isinstance(axes, (list, np.ndarray)):\n",
    "        axes = [axes]\n",
    "    for ax in axes:\n",
    "        ax.spines['top'].set_visible(False)\n",
    "        ax.spines['right'].set_visible(False)\n",
    "        if every:\n",
    "            ax.spines['bottom'].set_visible(False)\n",
    "            ax.spines['left'].set_visible(False)\n",
    "        ax.get_xaxis().tick_bottom()\n",
    "        ax.get_yaxis().tick_left()\n",
    "        ax.set_title('')"
   ]
  },
  {
   "cell_type": "markdown",
   "metadata": {},
   "source": [
    "## 4 A Different models schematic (Beta is 1. for DN))"
   ]
  },
  {
   "cell_type": "code",
   "execution_count": 3,
   "metadata": {
    "scrolled": false
   },
   "outputs": [
    {
     "data": {
      "image/png": "[encoded data removed]",
      "text/plain": [
       "<matplotlib.figure.Figure at 0x7f125172e650>"
      ]
     },
     "metadata": {},
     "output_type": "display_data"
    },
    {
     "data": {
      "image/png": "[encoded data removed]",
      "text/plain": [
       "<matplotlib.figure.Figure at 0x7f124f5f7510>"
      ]
     },
     "metadata": {},
     "output_type": "display_data"
    },
    {
     "data": {
      "image/png": "[encoded data removed]",
      "text/plain": [
       "<matplotlib.figure.Figure at 0x7f124f4e4410>"
      ]
     },
     "metadata": {},
     "output_type": "display_data"
    }
   ],
   "source": [
    "maxE = 15\n",
    "numPoints = 1000\n",
    "a = np.linspace(0,maxE,numPoints)\n",
    "markersize = 3\n",
    "markevery = 75\n",
    "\n",
    "fig,ax = plt.subplots()\n",
    "ax.plot(a, a)\n",
    "ax.plot(a, a - 4, '8--', color='brown', label=\"$\\\\alpha = 4$\", markersize=markersize, markevery=markevery)\n",
    "ax.plot(a, a - 8, 'p--', color='brown', label=\"$\\\\alpha = 8$\", markersize=markersize, markevery=markevery)\n",
    "# ax.plot(a, a - 9, '.--', color='brown', label=\"$\\\\alpha = 9$\", markersize=markersize, markevery=markevery)\n",
    "ax.plot(a, a - 12, '^--', color='brown', label=\"$\\\\alpha = 12$\", markersize=markersize, markevery=markevery)\n",
    "ax.set_xlabel(\"E\")\n",
    "ax.set_ylabel(\"O\")\n",
    "ax.set_ylim((0,maxE))\n",
    "ax.set_xlim((0,maxE))\n",
    "ax.set_title(\"Subtractive Inhibition $O = E - \\\\alpha$\")\n",
    "ax.legend()\n",
    "simpleaxis(ax)\n",
    "fig.set_figwidth(1.4)\n",
    "fig.set_figheight(1.4)\n",
    "dump(fig,file('figures/fig4/4a1.pkl','wb'))\n",
    "plt.show()\n",
    "\n",
    "fig,ax = plt.subplots()\n",
    "ax.plot(a, a)\n",
    "ax.plot(a, a - a*0.3, '8--', color='green', label=\"$\\\\beta = 0.3$\", markersize=markersize, markevery=markevery)\n",
    "# ax.plot(a, a - a*0.4, 'p--', color='green', label=\"$\\\\beta = 0.4$\", markersize=markersize, markevery=markevery)\n",
    "ax.plot(a, a - a*0.6, '.--', color='green', label=\"$\\\\beta = 0.6$\", markersize=markersize, markevery=markevery)\n",
    "ax.plot(a, a - a*0.9, '^--', color='green', label=\"$\\\\beta = 0.9$\", markersize=markersize, markevery=markevery)\n",
    "ax.set_xlabel(\"E\")\n",
    "ax.set_ylabel(\"O\")\n",
    "ax.set_ylim((0,maxE))\n",
    "ax.set_xlim((0,maxE))\n",
    "ax.legend()\n",
    "ax.set_title(\"Divisive Inhibition $O = E - \\\\beta \\\\times E$\")\n",
    "simpleaxis(ax)\n",
    "fig.set_figwidth(1.4)\n",
    "fig.set_figheight(1.4)\n",
    "dump(fig,file('figures/fig4/4a2.pkl','wb'))\n",
    "plt.show()\n",
    "\n",
    "fig,ax = plt.subplots()\n",
    "ax.plot(a, a)\n",
    "ax.plot(a, (3*a)/(3 + a), '8--', color='purple', label=\"$\\\\gamma = 3$\", markersize=markersize, markevery=markevery)\n",
    "ax.plot(a, (9*a)/(9 + a), 'p--', color='purple', label=\"$\\\\gamma = 9$\", markersize=markersize, markevery=markevery)\n",
    "# ax.plot(a, (15*a)/(15 + a), '.--', color='purple', label=\"$\\\\gamma = 15$\", markersize=markersize, markevery=markevery)\n",
    "ax.plot(a, (27*a)/(27 + a), '^--', color='purple', label=\"$\\\\gamma = 27$\", markersize=markersize, markevery=markevery)\n",
    "\n",
    "ax.set_xlabel(\"E\")\n",
    "ax.set_ylabel(\"O\")\n",
    "ax.set_ylim((0,maxE))\n",
    "ax.set_xlim((0,maxE))\n",
    "fig.set_figwidth(1.4)\n",
    "fig.set_figheight(1.4)\n",
    "ax.legend()\n",
    "ax.set_title(\"Divisive Normalization $O = E - \\\\frac{ \\\\gamma E}{ \\\\gamma E + 1} \\\\times E $\")\n",
    "simpleaxis(ax)\n",
    "dump(fig,file('figures/fig4/4a3.pkl','wb'))\n",
    "plt.show()"
   ]
  },
  {
   "cell_type": "code",
   "execution_count": 38,
   "metadata": {},
   "outputs": [],
   "source": [
    "currentClampFiles = prefix + '/media/sahil/NCBS_Shares_BGStim/patch_data/normalization_files.txt'\n",
    "with open (currentClampFiles,'r') as r:\n",
    "    dirnames = r.read().splitlines()"
   ]
  },
  {
   "cell_type": "code",
   "execution_count": 40,
   "metadata": {},
   "outputs": [
    {
     "name": "stdout",
     "output_type": "stream",
     "text": [
      "/home/bhalla/Documents/Codes/data/media/sahil/NCBS_Shares_BGStim/patch_data/RS_Analysis/Patch_Recording/Control_RS_short/2_c1_150828/plots/2_c1_150828.pkl not found.\n"
     ]
    },
    {
     "ename": "AttributeError",
     "evalue": "'NoneType' object has no attribute 'date'",
     "output_type": "error",
     "traceback": [
      "\u001b[0;31m---------------------------------------------------------------------------\u001b[0m",
      "\u001b[0;31mAttributeError\u001b[0m                            Traceback (most recent call last)",
      "\u001b[0;32m<ipython-input-40-c86ff648dc4e>\u001b[0m in \u001b[0;36m<module>\u001b[0;34m()\u001b[0m\n\u001b[1;32m      5\u001b[0m     \u001b[0mfilename\u001b[0m \u001b[0;34m=\u001b[0m \u001b[0mprefix\u001b[0m \u001b[0;34m+\u001b[0m \u001b[0mdirname\u001b[0m \u001b[0;34m+\u001b[0m \u001b[0;34m'plots/'\u001b[0m \u001b[0;34m+\u001b[0m \u001b[0mcellIndex\u001b[0m \u001b[0;34m+\u001b[0m \u001b[0;34m'.pkl'\u001b[0m\u001b[0;34m\u001b[0m\u001b[0m\n\u001b[1;32m      6\u001b[0m     \u001b[0mn\u001b[0m \u001b[0;34m=\u001b[0m \u001b[0mNeuron\u001b[0m\u001b[0;34m.\u001b[0m\u001b[0mload\u001b[0m\u001b[0;34m(\u001b[0m\u001b[0mfilename\u001b[0m\u001b[0;34m)\u001b[0m\u001b[0;34m\u001b[0m\u001b[0m\n\u001b[0;32m----> 7\u001b[0;31m     \u001b[0mneurons\u001b[0m\u001b[0;34m[\u001b[0m\u001b[0mstr\u001b[0m\u001b[0;34m(\u001b[0m\u001b[0mn\u001b[0m\u001b[0;34m.\u001b[0m\u001b[0mdate\u001b[0m\u001b[0;34m)\u001b[0m \u001b[0;34m+\u001b[0m \u001b[0;34m'_'\u001b[0m \u001b[0;34m+\u001b[0m \u001b[0mstr\u001b[0m\u001b[0;34m(\u001b[0m\u001b[0mn\u001b[0m\u001b[0;34m.\u001b[0m\u001b[0mindex\u001b[0m\u001b[0;34m)\u001b[0m\u001b[0;34m]\u001b[0m \u001b[0;34m=\u001b[0m \u001b[0mn\u001b[0m\u001b[0;34m\u001b[0m\u001b[0m\n\u001b[0m",
      "\u001b[0;31mAttributeError\u001b[0m: 'NoneType' object has no attribute 'date'"
     ]
    }
   ],
   "source": [
    "neurons = {}\n",
    "prefix = '/home/bhalla/Documents/Codes/data'\n",
    "for dirname in dirnames:\n",
    "    cellIndex = dirname.split('/')[-2]\n",
    "    filename = prefix + dirname + 'plots/' + cellIndex + '.pkl'\n",
    "    n = Neuron.load(filename)\n",
    "    neurons[str(n.date) + '_' + str(n.index)] = n"
   ]
  },
  {
   "cell_type": "code",
   "execution_count": 9,
   "metadata": {
    "collapsed": true
   },
   "outputs": [],
   "source": [
    "#Colorscheme for squares\n",
    "color_sqr = { index+1: color for index, color in enumerate(matplotlib.cm.viridis(np.linspace(0,1,9)))}"
   ]
  },
  {
   "cell_type": "code",
   "execution_count": 11,
   "metadata": {
    "collapsed": true
   },
   "outputs": [],
   "source": [
    "control_result2_rsquared_adj = []\n",
    "control_result1_rsquared_adj = []\n",
    "control_var_expected = []\n",
    "gabazine_result2_rsquared_adj = []\n",
    "gabazine_result1_rsquared_adj = []\n",
    "gabazine_var_expected = []\n",
    "tolerance = 5e-4"
   ]
  },
  {
   "cell_type": "code",
   "execution_count": 12,
   "metadata": {
    "collapsed": true
   },
   "outputs": [],
   "source": [
    "def linearModel(x, beta=100):\n",
    "    # Linear model\n",
    "    return (x*(1-beta))\n",
    "\n",
    "def DN_model(x, beta=1, gamma=100):\n",
    "    # Divisive normalization model\n",
    "    #return x - a*(x**2)/(b+x)\n",
    "    #return ((x**2)*(1-beta) + (gamma*x))/(x+gamma)\n",
    "    return (gamma*x)/(x+gamma)"
   ]
  },
  {
   "cell_type": "code",
   "execution_count": 9,
   "metadata": {},
   "outputs": [
    {
     "data": {
      "text/plain": [
       "{'150828_c2': <Linearity.Neuron instance at 0x7f24860935f0>,\n",
       " '150902_c1': <Linearity.Neuron instance at 0x7f248864bb48>,\n",
       " '150902_c2': <Linearity.Neuron instance at 0x7f2488670200>,\n",
       " '150904_c1': <Linearity.Neuron instance at 0x7f2487df8098>,\n",
       " '160209_c4': <Linearity.Neuron instance at 0x7f2486dab758>,\n",
       " '160219_c5': <Linearity.Neuron instance at 0x7f2485e3bb90>,\n",
       " '160223_c2': <Linearity.Neuron instance at 0x7f2487d64908>,\n",
       " '160223_c3': <Linearity.Neuron instance at 0x7f2486d0a710>,\n",
       " '160513_c5': <Linearity.Neuron instance at 0x7f248649f9e0>,\n",
       " '160617_c5': <Linearity.Neuron instance at 0x7f2485af30e0>,\n",
       " '160817_c2': <Linearity.Neuron instance at 0x7f2488496bd8>,\n",
       " '160830_c1': <Linearity.Neuron instance at 0x7f2485a8d9e0>,\n",
       " '160920_c1': <Linearity.Neuron instance at 0x7f24870a5758>,\n",
       " '160927_c5': <Linearity.Neuron instance at 0x7f2487df80e0>,\n",
       " '160928_c3': <Linearity.Neuron instance at 0x7f248864bd88>,\n",
       " '161013_c1': <Linearity.Neuron instance at 0x7f2487c80bd8>,\n",
       " '161027_c3': <Linearity.Neuron instance at 0x7f248a791518>,\n",
       " '161109_c3': <Linearity.Neuron instance at 0x7f2488650f80>,\n",
       " '161117_c1': <Linearity.Neuron instance at 0x7f2488641cb0>,\n",
       " '161228_c1': <Linearity.Neuron instance at 0x7f2486e7af38>,\n",
       " '170104_c4': <Linearity.Neuron instance at 0x7f24875b0320>,\n",
       " '170208_c3': <Linearity.Neuron instance at 0x7f24880390e0>,\n",
       " '170220_c1': <Linearity.Neuron instance at 0x7f24cc6f4cb0>,\n",
       " '170222_c2': <Linearity.Neuron instance at 0x7f2488677128>,\n",
       " '170303_c1': <Linearity.Neuron instance at 0x7f2486ad38c0>,\n",
       " '170317_c1': <Linearity.Neuron instance at 0x7f2487997998>,\n",
       " '170317_c4': <Linearity.Neuron instance at 0x7f24875504d0>,\n",
       " 'Control_RS_short_1_c4_150827': <Linearity.Neuron instance at 0x7f248480a878>,\n",
       " 'Control_RS_short_2_c1_150828': <Linearity.Neuron instance at 0x7f248750e5f0>,\n",
       " 'Control_RS_short_3_c1_150929': <Linearity.Neuron instance at 0x7f2486ee0ab8>,\n",
       " 'Control_RS_short_6_c2_160513': <Linearity.Neuron instance at 0x7f24848c17a0>,\n",
       " 'RS_TBS_short_5_c4_160122': <Linearity.Neuron instance at 0x7f24862304d0>}"
      ]
     },
     "execution_count": 9,
     "metadata": {},
     "output_type": "execute_result"
    }
   ],
   "source": [
    "neurons"
   ]
  },
  {
   "cell_type": "markdown",
   "metadata": {},
   "source": [
    "## 4 B Divisive Normalization representative cell"
   ]
  },
  {
   "cell_type": "code",
   "execution_count": null,
   "metadata": {
    "collapsed": true
   },
   "outputs": [],
   "source": [
    "neuron = neurons['170303_c1']"
   ]
  },
  {
   "cell_type": "code",
   "execution_count": 32,
   "metadata": {
    "collapsed": true,
    "scrolled": false
   },
   "outputs": [],
   "source": [
    "feature = 0 # Area under the curve\n",
    "expected, observed, g_expected, g_observed = {}, {}, {}, {}\n",
    "for expType, exp in neuron:\n",
    "    ## Control case\n",
    "    if(expType == \"Control\"):\n",
    "        for sqr in exp:\n",
    "            if sqr > 1:\n",
    "                expected[sqr] = []\n",
    "                observed[sqr] = []\n",
    "                for coord in exp[sqr].coordwise:\n",
    "                    for trial in exp[sqr].coordwise[coord].trials:\n",
    "                        if all([value == 0 for value in trial.flags.values()]):\n",
    "                            expected[sqr].append(exp[sqr].coordwise[coord].expected_feature[feature])\n",
    "                            observed[sqr].append(trial.feature[feature])"
   ]
  },
  {
   "cell_type": "code",
   "execution_count": 33,
   "metadata": {
    "scrolled": false
   },
   "outputs": [
    {
     "data": {
      "image/png": "[encoded data removed]",
      "text/plain": [
       "<matplotlib.figure.Figure at 0x7f124f4fddd0>"
      ]
     },
     "metadata": {},
     "output_type": "display_data"
    }
   ],
   "source": [
    "lin_aic = []\n",
    "dn_aic = []\n",
    "lin_chi = []\n",
    "dn_chi = []\n",
    "max_exp, max_g_exp = 0.,0.\n",
    "fig, ax = plt.subplots()\n",
    "squareVal = []\n",
    "list_control_expected = []\n",
    "list_control_observed = []\n",
    "\n",
    "for sqr in sorted(observed):\n",
    "    squareVal.append(ax.scatter(expected[sqr], observed[sqr], label=str(sqr), c=color_sqr[sqr], alpha=0.8, s=8))\n",
    "    max_exp = max(max_exp, max(expected[sqr]))\n",
    "    list_control_expected += expected[sqr]\n",
    "    list_control_observed += observed[sqr]\n",
    "    \n",
    "X = np.array(list_control_expected)\n",
    "y = np.array(list_control_observed)\n",
    "idx   = np.argsort(X)\n",
    "X = X[idx]\n",
    "y = y[idx]\n",
    "\n",
    "linear_Model = lmfit.Model(linearModel)\n",
    "DN_Model = lmfit.Model(DN_model)\n",
    "\n",
    "lin_pars = linear_Model.make_params()\n",
    "lin_result = linear_Model.fit(y, lin_pars, x=X)\n",
    "lin_aic.append(lin_result.aic)\n",
    "lin_chi.append(lin_result.redchi)\n",
    "\n",
    "DN_pars = DN_Model.make_params()\n",
    "DN_result = DN_Model.fit(y, DN_pars, x=X)\n",
    "dn_aic.append(DN_result.aic)\n",
    "dn_chi.append(DN_result.redchi)\n",
    "\n",
    "# print (lin_result.fit_report())\n",
    "# print (DN_result.fit_report())\n",
    "\n",
    "ax.set_xlim(xmin=0.)\n",
    "ax.set_ylim(ymin=0.)\n",
    "ax.set_xlabel(\"Expected\")\n",
    "ax.set_ylabel(\"Observed\")\n",
    "ax.set_title(\"Divisive Normalization and Inhibition fits\")\n",
    "# div_inh = ax.plot(X, lin_result.best_fit, '-', color='green', lw=2)\n",
    "# div_norm = ax.plot(X, DN_result.best_fit, '-', color='purple', lw=2)\n",
    "\n",
    "\n",
    "max_exp *=1.1\n",
    "max_g_exp *=1.1\n",
    "ax.set_xlim(0,max_exp)\n",
    "ax.set_ylim(0,max_exp)\n",
    "ax.set_xlabel(\"Expected Sum (mV)\")\n",
    "ax.set_ylabel(\"Observed Sum (mV)\")\n",
    "linear = ax.plot((0,max_exp), (0,max_exp), 'k--')\n",
    "\n",
    "legends = div_inh + div_norm + linear +  squareVal\n",
    "# labels = [\"Divisive Inhibition, $\\\\beta$ = {:.2f}\".format(lin_result.params['beta'].value), \"Divisive Normalization, $\\\\beta$ = {:.2f}, $\\\\gamma$ = {:.2f}\".format(DN_result.params['beta'].value, DN_result.params['gamma'].value), \"Linear sum\"] +  sorted(observed.keys()) \n",
    "labels = [\"Divisive Inhibition, $\\\\beta$ = {:.2f}\".format(lin_result.params['beta'].value), \"Divisive Normalization, $\\\\gamma$ = {:.2f}\".format(DN_result.params['gamma'].value), \"Linear sum\"] +  sorted(observed.keys()) \n",
    "\n",
    "# ax.legend(legends, labels, loc='upper left')\n",
    "\n",
    "simpleaxis(ax)\n",
    "fig.set_figwidth(2.5)\n",
    "fig.set_figheight(2.5)\n",
    "dump(fig,file('figures/fig4/4b.pkl','wb'))\n",
    "plt.show()"
   ]
  },
  {
   "cell_type": "code",
   "execution_count": 25,
   "metadata": {},
   "outputs": [
    {
     "ename": "NameError",
     "evalue": "name 'neurons' is not defined",
     "output_type": "error",
     "traceback": [
      "\u001b[0;31m---------------------------------------------------------------------------\u001b[0m",
      "\u001b[0;31mNameError\u001b[0m                                 Traceback (most recent call last)",
      "\u001b[0;32m<ipython-input-25-dd454d2732b5>\u001b[0m in \u001b[0;36m<module>\u001b[0;34m()\u001b[0m\n\u001b[1;32m      8\u001b[0m \u001b[0mdelta\u001b[0m \u001b[0;34m=\u001b[0m \u001b[0;34m[\u001b[0m\u001b[0;34m]\u001b[0m\u001b[0;34m\u001b[0m\u001b[0m\n\u001b[1;32m      9\u001b[0m \u001b[0mzeta\u001b[0m\u001b[0;34m,\u001b[0m \u001b[0mzeta2\u001b[0m \u001b[0;34m=\u001b[0m \u001b[0;34m[\u001b[0m\u001b[0;34m]\u001b[0m\u001b[0;34m,\u001b[0m \u001b[0;34m[\u001b[0m\u001b[0;34m]\u001b[0m\u001b[0;34m\u001b[0m\u001b[0m\n\u001b[0;32m---> 10\u001b[0;31m \u001b[0;32mfor\u001b[0m \u001b[0mindex\u001b[0m \u001b[0;32min\u001b[0m \u001b[0mneurons\u001b[0m\u001b[0;34m:\u001b[0m\u001b[0;34m\u001b[0m\u001b[0m\n\u001b[0m\u001b[1;32m     11\u001b[0m \u001b[0;31m#     print (index)\u001b[0m\u001b[0;34m\u001b[0m\u001b[0;34m\u001b[0m\u001b[0m\n\u001b[1;32m     12\u001b[0m     \u001b[0mneuron\u001b[0m \u001b[0;34m=\u001b[0m \u001b[0mneurons\u001b[0m\u001b[0;34m[\u001b[0m\u001b[0mindex\u001b[0m\u001b[0;34m]\u001b[0m\u001b[0;34m\u001b[0m\u001b[0m\n",
      "\u001b[0;31mNameError\u001b[0m: name 'neurons' is not defined"
     ]
    }
   ],
   "source": [
    "feature = 0 # Area under the curve\n",
    "lin_bic = []\n",
    "dn_bic = []\n",
    "lin_chi = []\n",
    "dn_chi = []\n",
    "beta = []\n",
    "gamma = []\n",
    "delta = []\n",
    "zeta, zeta2 = [], []\n",
    "for index in neurons:\n",
    "#     print (index)\n",
    "    neuron = neurons[index]\n",
    "    expected, observed, g_expected, g_observed = {}, {}, {}, {}\n",
    "    for expType, exp in neuron:\n",
    "        ## Control case\n",
    "        if(expType == \"Control\"):\n",
    "            for sqr in exp:\n",
    "                if sqr > 1:\n",
    "                    expected[sqr] = []\n",
    "                    observed[sqr] = []\n",
    "                    for coord in exp[sqr].coordwise:\n",
    "                        for trial in exp[sqr].coordwise[coord].trials:\n",
    "                            if all([value == 0 for value in trial.flags.values()]):\n",
    "                                expected[sqr].append(exp[sqr].coordwise[coord].expected_feature[feature])\n",
    "                                observed[sqr].append(trial.feature[feature])\n",
    "\n",
    "            max_exp, max_g_exp = 0.,0.\n",
    "\n",
    "            squareVal = []\n",
    "            list_control_expected = []\n",
    "            list_control_observed = []\n",
    "\n",
    "            for sqr in sorted(observed):\n",
    "                squareVal.append(ax.scatter(expected[sqr], observed[sqr], label=str(sqr), c=color_sqr[sqr], alpha=0.8))\n",
    "                max_exp = max(max_exp, max(expected[sqr]))\n",
    "                list_control_expected += expected[sqr]\n",
    "                list_control_observed += observed[sqr]\n",
    "\n",
    "            X = np.array(list_control_expected)\n",
    "            y = np.array(list_control_observed)\n",
    "            idx   = np.argsort(X)\n",
    "            X = X[idx]\n",
    "            y = y[idx]\n",
    "\n",
    "            linear_Model = lmfit.Model(linearModel)\n",
    "            DN_Model = lmfit.Model(DN_model)\n",
    "\n",
    "            lin_pars = linear_Model.make_params()\n",
    "            lin_result = linear_Model.fit(y, lin_pars, x=X)\n",
    "            lin_bic.append(lin_result.bic)\n",
    "            lin_chi.append(lin_result.redchi)\n",
    "            beta.append(lin_result.params['beta'])\n",
    "\n",
    "            DN_pars = DN_Model.make_params()\n",
    "            DN_result = DN_Model.fit(y, DN_pars, x=X)\n",
    "            dn_bic.append(DN_result.bic)\n",
    "            dn_chi.append(DN_result.redchi)\n",
    "            gamma.append(DN_result.params['gamma'])\n",
    "            delta.append(DN_result.params['beta'])"
   ]
  },
  {
   "cell_type": "markdown",
   "metadata": {},
   "source": [
    "## 4 C (Chi-squares population)"
   ]
  },
  {
   "cell_type": "code",
   "execution_count": 14,
   "metadata": {},
   "outputs": [
    {
     "name": "stdout",
     "output_type": "stream",
     "text": [
      "Ttest_relResult(statistic=4.8337896828450972, pvalue=3.4567223937250277e-05)\n"
     ]
    },
    {
     "data": {
      "image/png": "[encoded data removed]",
      "text/plain": [
       "<matplotlib.figure.Figure at 0x7f2484157910>"
      ]
     },
     "metadata": {},
     "output_type": "display_data"
    }
   ],
   "source": [
    "indices = [1,2]\n",
    "fig, ax = plt.subplots()\n",
    "\n",
    "for ind, (l,d) in enumerate(zip(lin_chi, dn_chi)):\n",
    "    ax.plot(indices, [l,d], 'o-', alpha=0.4, color='0.5', markerfacecolor='white')\n",
    "# ax.violinplot([lin_chi,dn_chi], indices)\n",
    "\n",
    "# notch shape box plot\n",
    "bplot = ax.boxplot([lin_chi,dn_chi],\n",
    "                         notch=True,  # notch shape\n",
    "#                          vert=True,   # vertical box aligmnent\n",
    "                         patch_artist=True)   # fill with color\n",
    "\n",
    "colors = ['green', 'purple']\n",
    "for patch, color in zip(bplot['boxes'], colors):\n",
    "    patch.set_facecolor(color)\n",
    "    patch.set_alpha(1.)\n",
    "\n",
    "ax.hlines(1, 0,3, linestyles='--', alpha=1)\n",
    "# ax.boxplot(, [1])\n",
    "\n",
    "# ax.set_xlim((-1,2))\n",
    "ax.set_ylim((-1,7))\n",
    "ax.set_xticks(indices)\n",
    "ax.set_xticklabels(('DI', 'DN'))\n",
    "ax.set_title(\"Reduced chi-square values for DI and DN\")\n",
    "simpleaxis(ax)\n",
    "\n",
    "print(ss.ttest_rel(lin_chi, dn_chi))\n",
    "\n",
    "y, h, col = np.max(lin_chi), 0.5, 'k'\n",
    "plt.plot([1,1, 2, 2], [y, y+h, y+h, y], lw=1.5, c=col)\n",
    "plt.text((1+2)*.5, y+h, \"***\", ha='center', va='bottom', color=col)\n",
    "\n",
    "fig.set_figwidth(3)\n",
    "fig.set_figheight(3)\n",
    "#dump(fig,file('figures/fig4/4c.pkl','wb'))\n",
    "plt.savefig('figures/fig4/4c.svg')\n",
    "plt.show()"
   ]
  },
  {
   "cell_type": "code",
   "execution_count": 15,
   "metadata": {
    "collapsed": true
   },
   "outputs": [],
   "source": [
    "ratio_models = np.array(lin_chi)/np.array(dn_chi)"
   ]
  },
  {
   "cell_type": "code",
   "execution_count": 16,
   "metadata": {},
   "outputs": [
    {
     "name": "stdout",
     "output_type": "stream",
     "text": [
      "Ttest_relResult(statistic=4.8337896828450972, pvalue=3.4567223937250277e-05)\n"
     ]
    },
    {
     "data": {
      "image/png": "[encoded data removed]",
      "text/plain": [
       "<matplotlib.figure.Figure at 0x7f248a76e810>"
      ]
     },
     "metadata": {},
     "output_type": "display_data"
    }
   ],
   "source": [
    "fig, ax = plt.subplots()\n",
    "bins = np.linspace(0.8,2.4,9)\n",
    "ax.hist(ratio_models,bins=bins)\n",
    "ax.set_ylabel(\"# neurons\")\n",
    "#ax.set_xlim(0,3)\n",
    "ax.vlines(1,0,15,'r','--')\n",
    "simpleaxis(ax)\n",
    "\n",
    "left, bottom, width, height = [0.5, 0.4, 0.3, 0.5]\n",
    "ax2 = fig.add_axes([left, bottom, width, height])\n",
    "simpleaxis(ax2)\n",
    "indices = [1,2]\n",
    "\n",
    "for ind, (l,d) in enumerate(zip(lin_chi, dn_chi)):\n",
    "    ax2.plot(indices, [l,d], 'o-', alpha=0.4, color='0.5', markerfacecolor='white', markersize=3)\n",
    "# ax.violinplot([lin_chi,dn_chi], indices)\n",
    "\n",
    "# notch shape box plot\n",
    "bplot = ax2.boxplot([lin_chi,dn_chi],\n",
    "                         notch=True,  # notch shape\n",
    "                        vert=True,   # vertical box aligmnent\n",
    "                         patch_artist=True, widths=[0.3,0.3])   # fill with color\n",
    "\n",
    "colors = ['green', 'purple']\n",
    "for patch, color in zip(bplot['boxes'], colors):\n",
    "    patch.set_facecolor(color)\n",
    "    patch.set_alpha(1.)\n",
    "for patch in (bplot['fliers']):\n",
    "    patch.set_alpha(0)\n",
    "ax2.hlines(1, 0,3, linestyles='--', alpha=1)\n",
    "# ax.boxplot(, [1])\n",
    "\n",
    "# ax.set_xlim((-1,2))\n",
    "ax2.set_ylim((-1,7))\n",
    "ax2.set_xticks(indices)\n",
    "ax2.set_xticklabels(('DI', 'DN'))\n",
    "ax2.set_ylabel(\"reduced $\\\\chi^2$\")\n",
    "simpleaxis(ax2)\n",
    "\n",
    "print(ss.ttest_rel(lin_chi, dn_chi))\n",
    "\n",
    "y, h, col = np.max(lin_chi), 0.5, 'k'\n",
    "ax2.plot([1,1, 2, 2], [y, y+h, y+h, y], lw=1.5, c=col)\n",
    "ax2.text((1+2)*.5, y+h, \"***\", ha='center', va='bottom', color=col)\n",
    "\n",
    "fig.set_figwidth(2)\n",
    "fig.set_figheight(2)\n",
    "dump(fig,file('figures/fig4/4c.pkl','wb'))\n",
    "plt.savefig('figures/fig4/4c.svg')\n",
    "plt.show()"
   ]
  },
  {
   "cell_type": "code",
   "execution_count": 17,
   "metadata": {},
   "outputs": [
    {
     "data": {
      "text/plain": [
       "0.80550081698413833"
      ]
     },
     "execution_count": 17,
     "metadata": {},
     "output_type": "execute_result"
    }
   ],
   "source": [
    "min(ratio_models)"
   ]
  },
  {
   "cell_type": "markdown",
   "metadata": {},
   "source": [
    "## 4 D (BIC Population)"
   ]
  },
  {
   "cell_type": "code",
   "execution_count": 18,
   "metadata": {},
   "outputs": [
    {
     "name": "stdout",
     "output_type": "stream",
     "text": [
      "['boxes', 'fliers', 'medians', 'means', 'whiskers', 'caps']\n",
      "Ttest_relResult(statistic=5.1371195992570007, pvalue=1.4496342246065982e-05)\n"
     ]
    },
    {
     "data": {
      "image/png": "[encoded data removed]",
      "text/plain": [
       "<matplotlib.figure.Figure at 0x7f2487ece9d0>"
      ]
     },
     "metadata": {},
     "output_type": "display_data"
    }
   ],
   "source": [
    "indices = [1,2]\n",
    "fig, ax = plt.subplots()\n",
    "for ind, (l,d) in enumerate(zip(lin_bic, dn_bic)):\n",
    "    ax.plot(indices, [l,d], 'o-', color='0.5', alpha=0.4, markerfacecolor='white')\n",
    "# ax.violinplot(lin_chi, [0])\n",
    "# ax.violinplot(dn_chi, [1])\n",
    "# notch shape box plot\n",
    "colors = ['green', 'purple']\n",
    "bplot = ax.boxplot([lin_bic,dn_bic],\n",
    "                         notch=False,  # notch shape\n",
    "                         vert=True,   # vertical box aligmnent\n",
    "                         patch_artist=True)   # fill with color\n",
    "\n",
    "print (bplot.keys())\n",
    "for patch in (bplot['boxes']):\n",
    "    patch.set_alpha(0)\n",
    "for patch in (bplot['whiskers']):\n",
    "    patch.set_alpha(0)\n",
    "for patch in (bplot['caps']):\n",
    "    patch.set_alpha(0)\n",
    "for patch in (bplot['fliers']):\n",
    "    patch.set_alpha(0)\n",
    "\n",
    "for patch,color in zip(bplot['medians'],colors):\n",
    "    patch.set_color(color)\n",
    "    patch.set_linewidth(2)\n",
    "    patch.set_alpha(0)\n",
    "\n",
    "#ax.set_ylim((-300,800))\n",
    "#ax.hlines(0, 0,3, linestyles='--', alpha=0.6)\n",
    "ax.set_xticks(indices)\n",
    "ax.set_xticklabels(('DI', 'DN'))\n",
    "ax.set_title(\"BIC values for DI and DN\")\n",
    "# plt.legend()\n",
    "simpleaxis(ax)\n",
    "print(ss.ttest_rel(lin_bic, dn_bic))\n",
    "fig.set_figwidth(3)\n",
    "fig.set_figheight(3)\n",
    "\n",
    "y, h, col = np.max(lin_bic), 100, 'k'\n",
    "plt.plot([1,1, 2, 2], [y, y+h, y+h, y], lw=1.5, c=col)\n",
    "plt.text((1+2)*.5, y+h, \"***\", ha='center', va='bottom', color=col)\n",
    "\n",
    "# dump(fig,file('figures/fig4/4d.pkl','wb'))\n",
    "# plt.savefig('figures/fig4/4d.svg')\n",
    "plt.show()"
   ]
  },
  {
   "cell_type": "code",
   "execution_count": 19,
   "metadata": {},
   "outputs": [
    {
     "data": {
      "text/plain": [
       "(72.92471463368372, 0.060265252882764742)"
      ]
     },
     "execution_count": 19,
     "metadata": {},
     "output_type": "execute_result"
    }
   ],
   "source": [
    "np.mean(lin_bic), np.mean(dn_bic)"
   ]
  },
  {
   "cell_type": "code",
   "execution_count": 20,
   "metadata": {
    "collapsed": true
   },
   "outputs": [],
   "source": [
    "divisor = np.array([a**2 + b**2 for a,b in zip(lin_bic,dn_bic)])\n",
    "diff_models = (np.array(lin_bic)-np.array(dn_bic))"
   ]
  },
  {
   "cell_type": "code",
   "execution_count": 23,
   "metadata": {},
   "outputs": [
    {
     "name": "stdout",
     "output_type": "stream",
     "text": [
      "32\n"
     ]
    },
    {
     "data": {
      "image/png": "[encoded data removed]",
      "text/plain": [
       "<matplotlib.figure.Figure at 0x7f2483184990>"
      ]
     },
     "metadata": {},
     "output_type": "display_data"
    }
   ],
   "source": [
    "print (len(diff_models))\n",
    "fig, ax = plt.subplots()\n",
    "bins = np.linspace(-100,300,9)\n",
    "ax.hist(diff_models,bins=bins)\n",
    "ax.vlines(0,0,15,'r','--')\n",
    "ax.set_xlabel(\"DI - DN\")\n",
    "ax.set_ylabel(\"# neurons\")\n",
    "simpleaxis(ax)\n",
    "left, bottom, width, height = [0.7, 0.4, 0.2, 0.4]\n",
    "ax2 = fig.add_axes([left, bottom, width, height])\n",
    "simpleaxis(ax2)\n",
    "indices = [1,2]\n",
    "for ind, (l,d) in enumerate(zip(lin_bic, dn_bic)):\n",
    "    ax2.plot(indices, [l,d], 'o-', color='0.5', alpha=0.4, markerfacecolor='white', markersize=3)\n",
    "ax2.set_xlim(0.8,2.2)\n",
    "y, h, col = np.max(lin_bic), 100, 'k'\n",
    "ax2.set_xticks(indices)\n",
    "ax2.set_xticklabels(('DI', 'DN'))\n",
    "ax2.set_yticks([-500,0,500])\n",
    "ax2.set_ylabel('BIC')\n",
    "mf = matplotlib.ticker.ScalarFormatter(useMathText=True)\n",
    "mf.set_powerlimits((0,0))\n",
    "ax2.yaxis.set_major_formatter(mf)\n",
    "ax2.plot([1,1, 2, 2], [y, y+h, y+h, y], lw=1.5, c=col)\n",
    "ax2.text((1+2)*.5, y+h, \"***\", fontsize=12 , ha='center', va='bottom', color=col)\n",
    "ax.set_title('BIC')\n",
    "fig.set_figwidth(2)\n",
    "fig.set_figheight(2)\n",
    "fig.tight_layout()\n",
    "dump(fig,file('figures/fig4/4d.pkl','wb'))\n",
    "plt.savefig('figures/fig4/4d.svg')\n",
    "# ax.set_xlim(0,3)\n",
    "plt.show()"
   ]
  },
  {
   "cell_type": "markdown",
   "metadata": {},
   "source": [
    "## 4 E (DN Fit parameter gamma)"
   ]
  },
  {
   "cell_type": "code",
   "execution_count": 33,
   "metadata": {
    "scrolled": false
   },
   "outputs": [
    {
     "data": {
      "image/png": "[encoded data removed]",
      "text/plain": [
       "<matplotlib.figure.Figure at 0x7f2482beb150>"
      ]
     },
     "metadata": {},
     "output_type": "display_data"
    },
    {
     "data": {
      "image/png": "[encoded data removed]",
      "text/plain": [
       "<matplotlib.figure.Figure at 0x7f2482e2e9d0>"
      ]
     },
     "metadata": {},
     "output_type": "display_data"
    }
   ],
   "source": [
    "fig, ax = plt.subplots()\n",
    "bins = 18\n",
    "ax.hist(gamma, color='purple',bins=bins)\n",
    "# ax.set_xlim(-1,2)\n",
    "ax.set_xlabel(\"$\\\\gamma$\")\n",
    "ax.set_ylabel(\"# neurons\")\n",
    "ax.set_title(\"Distribution of fit parameter $\\\\gamma$\")\n",
    "ax.set_xticks([0,20,40])\n",
    "simpleaxis(ax)\n",
    "fig.set_figwidth(1.7)\n",
    "fig.set_figheight(1.7)\n",
    "dump(fig,file('figures/fig4/4e1.pkl','wb'))\n",
    "plt.show()\n",
    "\n",
    "# bins = np.linspace(0,3,20)\n",
    "# fig, ax = plt.subplots()\n",
    "# ax.hist(delta, color='green', bins=bins)\n",
    "# ax.set_xlabel(\"$\\\\beta$ (DN)\", fontsize=18)\n",
    "# ax.set_ylabel(\"# neurons\", fontsize=18)\n",
    "# ax.set_title(\"Distribution of fit parameter $\\\\beta$\", fontsize=18)\n",
    "# simpleaxis(ax)\n",
    "# fig.set_figwidth(2)\n",
    "# fig.set_figheight(2)\n",
    "# ax.set_xlim(0,3)\n",
    "# dump(fig,file('figures/fig4/4e2.pkl','wb'))\n",
    "# plt.show()\n",
    "\n",
    "\n",
    "bins = np.linspace(0,1,10)\n",
    "fig, ax = plt.subplots()\n",
    "ax.hist(beta, color='green', bins=bins)\n",
    "ax.set_xlabel(\"$\\\\beta$\")\n",
    "ax.set_ylabel(\"# neurons\")\n",
    "ax.set_title(\"Distribution of fit parameter $\\\\beta$\")\n",
    "simpleaxis(ax)\n",
    "fig.set_figwidth(1.7)\n",
    "fig.set_figheight(1.7)\n",
    "ax.set_xlim(0,1)\n",
    "dump(fig,file('figures/fig4/4e3.pkl','wb'))\n",
    "plt.show()"
   ]
  },
  {
   "cell_type": "code",
   "execution_count": 37,
   "metadata": {},
   "outputs": [
    {
     "data": {
      "text/plain": [
       "(7.9097765396888278, 0.50388305545398659)"
      ]
     },
     "execution_count": 37,
     "metadata": {},
     "output_type": "execute_result"
    }
   ],
   "source": [
    "np.median(gamma), np.median(beta)"
   ]
  },
  {
   "cell_type": "code",
   "execution_count": 26,
   "metadata": {},
   "outputs": [
    {
     "data": {
      "image/png": "[encoded data removed]",
      "text/plain": [
       "<matplotlib.figure.Figure at 0x7f24835dee50>"
      ]
     },
     "metadata": {},
     "output_type": "display_data"
    },
    {
     "data": {
      "image/png": "[encoded data removed]",
      "text/plain": [
       "<matplotlib.figure.Figure at 0x7f2482c812d0>"
      ]
     },
     "metadata": {},
     "output_type": "display_data"
    },
    {
     "data": {
      "image/png": "[encoded data removed]",
      "text/plain": [
       "<matplotlib.figure.Figure at 0x7f2482b4af50>"
      ]
     },
     "metadata": {},
     "output_type": "display_data"
    },
    {
     "data": {
      "image/png": "[encoded data removed]",
      "text/plain": [
       "<matplotlib.figure.Figure at 0x7f2482a88410>"
      ]
     },
     "metadata": {},
     "output_type": "display_data"
    }
   ],
   "source": [
    "fig, ax = plt.subplots()\n",
    "# ax.plot(gamma, c='purple')\n",
    "ax.plot(delta, c='green')\n",
    "ax.plot(beta, '--', c='green')\n",
    "ax.set_xlabel(\"Index\")\n",
    "ax.set_ylabel(\"Par value\")\n",
    "plt.show()\n",
    "fig, ax = plt.subplots()\n",
    "ax.plot(gamma, c='purple')\n",
    "ax.set_xlabel(\"Index\")\n",
    "ax.set_ylabel(\"Par value\")\n",
    "plt.show()\n",
    "\n",
    "fig, ax = plt.subplots()\n",
    "# ax.plot(gamma, c='purple')\n",
    "ax.plot(lin_chi, '--', c='green')\n",
    "ax.plot(dn_chi,  c='green')\n",
    "ax.set_xlabel(\"Index\")\n",
    "ax.set_ylabel(\"Par value\")\n",
    "plt.show()\n",
    "fig, ax = plt.subplots()\n",
    "# ax.plot(gamma, c='purple')\n",
    "ax.plot(lin_bic, '--', c='green')\n",
    "ax.plot(dn_bic,  c='green')\n",
    "ax.set_xlabel(\"Index\")\n",
    "ax.set_ylabel(\"Par value\")\n",
    "plt.show()"
   ]
  },
  {
   "cell_type": "code",
   "execution_count": null,
   "metadata": {
    "collapsed": true
   },
   "outputs": [],
   "source": [
    "## Not using"
   ]
  },
  {
   "cell_type": "code",
   "execution_count": null,
   "metadata": {
    "collapsed": true
   },
   "outputs": [],
   "source": [
    "# fig, ax = plt.subplots()\n",
    "# bins = 15\n",
    "# ax.hist(beta, bins=bins, label=\"$\\\\beta$\")\n",
    "# plt.legend()\n",
    "# fig.set_figheight(8)\n",
    "# fig.set_figwidth(8)\n",
    "# plt.show()"
   ]
  },
  {
   "cell_type": "code",
   "execution_count": null,
   "metadata": {
    "collapsed": true
   },
   "outputs": [],
   "source": [
    "# lin_aic = []\n",
    "# dn_aic = []\n",
    "# lin_chi = []\n",
    "# dn_chi = []\n",
    "\n",
    "# control_observed = {}\n",
    "# control_observed_average = {}\n",
    "# gabazine_observed ={}\n",
    "# gabazine_observed_average = {}\n",
    "# control_expected = {}\n",
    "# control_expected_average = {}\n",
    "# gabazine_expected ={}\n",
    "# gabazine_expected_average = {}\n",
    "# feature = 0\n",
    "\n",
    "# neuron = Neuron.load(filename)\n",
    "# for expt in neuron.experiment:\n",
    "#     print (\"Starting expt {}\".format(expt))\n",
    "#     for numSquares in neuron.experiment[expt].keys(): \n",
    "#         print (\"Square {}\".format(numSquares))\n",
    "#         if not numSquares == 1:\n",
    "#             nSquareData = neuron.experiment[expt][numSquares]\n",
    "#             if expt == \"Control\":\n",
    "#                 coords_C = nSquareData.coordwise\n",
    "#                 for coord in coords_C: \n",
    "#                     if feature in coords_C[coord].feature:\n",
    "#                         control_observed_average.update({coord: coords_C[coord].average_feature[feature]})\n",
    "#                         control_expected_average.update({coord: coords_C[coord].expected_feature[feature]})\n",
    "#                         control_observed.update({coord: []})\n",
    "#                         control_expected.update({coord: []})\n",
    "#                         for trial in coords_C[coord].trials:\n",
    "#                             if feature in trial.feature:\n",
    "#                                 control_observed[coord].append(trial.feature[feature])\n",
    "#                                 control_expected[coord].append(coords_C[coord].expected_feature[feature])\n",
    "#             elif expt == \"GABAzine\":\n",
    "#                 coords_I = nSquareData.coordwise\n",
    "#                 for coord in coords_I: \n",
    "#                     if feature in coords_I[coord].feature:\n",
    "#                         gabazine_observed.update({coord: []})\n",
    "#                         gabazine_expected.update({coord: []})\n",
    "#                         gabazine_observed_average.update({coord: coords_I[coord].average_feature[feature]})\n",
    "#                         gabazine_expected_average.update({coord: coords_I[coord].expected_feature[feature]})\n",
    "\n",
    "#                         for trial in coords_I[coord].trials:\n",
    "#                             if feature in trial.feature:\n",
    "#                                 gabazine_observed[coord].append(trial.feature[feature])\n",
    "#                                 gabazine_expected[coord].append(coords_I[coord].expected_feature[feature])\n",
    "# print (\"Read {} into variables\".format(filename))"
   ]
  }
 ],
 "metadata": {
  "hide_input": false,
  "kernelspec": {
   "display_name": "Python 2",
   "language": "python",
   "name": "python2"
  },
  "language_info": {
   "codemirror_mode": {
    "name": "ipython",
    "version": 2
   },
   "file_extension": ".py",
   "mimetype": "text/x-python",
   "name": "python",
   "nbconvert_exporter": "python",
   "pygments_lexer": "ipython2",
   "version": "2.7.12"
  },
  "latex_envs": {
   "LaTeX_envs_menu_present": true,
   "autocomplete": true,
   "bibliofile": "biblio.bib",
   "cite_by": "apalike",
   "current_citInitial": 1,
   "eqLabelWithNumbers": true,
   "eqNumInitial": 1,
   "hotkeys": {
    "equation": "Ctrl-E",
    "itemize": "Ctrl-I"
   },
   "labels_anchors": false,
   "latex_user_defs": false,
   "report_style_numbering": false,
   "user_envs_cfg": false
  },
  "toc": {
   "colors": {
    "hover_highlight": "#DAA520",
    "navigate_num": "#000000",
    "navigate_text": "#333333",
    "running_highlight": "#FF0000",
    "selected_highlight": "#FFD700",
    "sidebar_border": "#EEEEEE",
    "wrapper_background": "#FFFFFF"
   },
   "moveMenuLeft": true,
   "nav_menu": {
    "height": "12px",
    "width": "252px"
   },
   "navigate_menu": true,
   "number_sections": true,
   "sideBar": true,
   "threshold": 4,
   "toc_cell": false,
   "toc_position": {
    "height": "520px",
    "left": "0px",
    "right": "1068px",
    "top": "106px",
    "width": "212px"
   },
   "toc_section_display": "block",
   "toc_window_display": true,
   "widenNotebook": false
  },
  "varInspector": {
   "cols": {
    "lenName": 16,
    "lenType": 16,
    "lenVar": 40
   },
   "kernels_config": {
    "python": {
     "delete_cmd_postfix": "",
     "delete_cmd_prefix": "del ",
     "library": "var_list.py",
     "varRefreshCmd": "print(var_dic_list())"
    },
    "r": {
     "delete_cmd_postfix": ") ",
     "delete_cmd_prefix": "rm(",
     "library": "var_list.r",
     "varRefreshCmd": "cat(var_dic_list()) "
    }
   },
   "types_to_exclude": [
    "module",
    "function",
    "builtin_function_or_method",
    "instance",
    "_Feature"
   ],
   "window_display": false
  }
 },
 "nbformat": 4,
 "nbformat_minor": 2
}
