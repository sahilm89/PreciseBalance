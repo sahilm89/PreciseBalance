{
 "cells": [
  {
   "cell_type": "code",
   "execution_count": 1,
   "metadata": {},
   "outputs": [],
   "source": [
    "import sys\n",
    "sys.path.append(\"../\")\n",
    "from Linearity import Neuron\n",
    "import numpy as np\n",
    "import scipy.stats as ss\n",
    "import matplotlib\n",
    "import matplotlib.pyplot as plt\n",
    "from pickle import dump, load\n",
    "plt.style.use('neuron')"
   ]
  },
  {
   "cell_type": "code",
   "execution_count": 2,
   "metadata": {},
   "outputs": [],
   "source": [
    "def simpleaxis(axes, every=False, outward=False):\n",
    "    if not isinstance(axes, (list, np.ndarray)):\n",
    "        axes = np.array([axes])\n",
    "    for ax in np.array(axes).flatten():\n",
    "        ax.spines['top'].set_visible(False)\n",
    "        ax.spines['right'].set_visible(False)\n",
    "        if (outward):\n",
    "            ax.spines['bottom'].set_position(('outward', 10))\n",
    "            ax.spines['left'].set_position(('outward', 10))\n",
    "        if every:\n",
    "            ax.spines['bottom'].set_visible(False)\n",
    "            ax.spines['left'].set_visible(False)\n",
    "        ax.get_xaxis().tick_bottom()\n",
    "        ax.get_yaxis().tick_left()\n",
    "        ax.set_title('')"
   ]
  },
  {
   "cell_type": "code",
   "execution_count": 3,
   "metadata": {},
   "outputs": [
    {
     "name": "stdout",
     "output_type": "stream",
     "text": [
      "Reading  /media/sahil/NCBS_Shares_BGStim/patch_data/150828/c2/plots/c2.pkl\n",
      "Reading  /media/sahil/NCBS_Shares_BGStim/patch_data/150902/c1/plots/c1.pkl\n",
      "Reading  /media/sahil/NCBS_Shares_BGStim/patch_data/150902/c2/plots/c2.pkl\n",
      "Reading  /media/sahil/NCBS_Shares_BGStim/patch_data/150904/c1/plots/c1.pkl\n",
      "Reading  /media/sahil/NCBS_Shares_BGStim/patch_data/150904/c3/plots/c3.pkl\n",
      "Reading  /media/sahil/NCBS_Shares_BGStim/patch_data/160126/c3/plots/c3.pkl\n",
      "Reading  /media/sahil/NCBS_Shares_BGStim/patch_data/160209/c4/plots/c4.pkl\n",
      "Reading  /media/sahil/NCBS_Shares_BGStim/patch_data/160219/c5/plots/c5.pkl\n",
      "Reading  /media/sahil/NCBS_Shares_BGStim/patch_data/160223/c2/plots/c2.pkl\n",
      "Reading  /media/sahil/NCBS_Shares_BGStim/patch_data/160223/c3/plots/c3.pkl\n",
      "Reading  /media/sahil/NCBS_Shares_BGStim/patch_data/160513/c5/plots/c5.pkl\n",
      "Reading  /media/sahil/NCBS_Shares_BGStim/patch_data/160617/c5/plots/c5.pkl\n",
      "Reading  /media/sahil/NCBS_Shares_BGStim/patch_data/160817/c2/plots/c2.pkl\n",
      "Reading  /media/sahil/NCBS_Shares_BGStim/patch_data/160830/c1/plots/c1.pkl\n",
      "Reading  /media/sahil/NCBS_Shares_BGStim/patch_data/160920/c1/plots/c1.pkl\n",
      "Reading  /media/sahil/NCBS_Shares_BGStim/patch_data/160927/c5/plots/c5.pkl\n",
      "Reading  /media/sahil/NCBS_Shares_BGStim/patch_data/160928/c3/plots/c3.pkl\n",
      "Reading  /media/sahil/NCBS_Shares_BGStim/patch_data/160928/c4/plots/c4.pkl\n",
      "Reading  /media/sahil/NCBS_Shares_BGStim/patch_data/161013/c1/plots/c1.pkl\n",
      "Reading  /media/sahil/NCBS_Shares_BGStim/patch_data/161026/c1/plots/c1.pkl\n",
      "Reading  /media/sahil/NCBS_Shares_BGStim/patch_data/161027/c3/plots/c3.pkl\n",
      "Reading  /media/sahil/NCBS_Shares_BGStim/patch_data/161109/c3/plots/c3.pkl\n",
      "Reading  /media/sahil/NCBS_Shares_BGStim/patch_data/161116/c2/plots/c2.pkl\n",
      "Reading  /media/sahil/NCBS_Shares_BGStim/patch_data/161117/c1/plots/c1.pkl\n",
      "Reading  /media/sahil/NCBS_Shares_BGStim/patch_data/161228/c1/plots/c1.pkl\n",
      "Reading  /media/sahil/NCBS_Shares_BGStim/patch_data/170104/c4/plots/c4.pkl\n",
      "Reading  /media/sahil/NCBS_Shares_BGStim/patch_data/170208/c3/plots/c3.pkl\n",
      "Reading  /media/sahil/NCBS_Shares_BGStim/patch_data/170222/c2/plots/c2.pkl\n",
      "Reading  /media/sahil/NCBS_Shares_BGStim/patch_data/170220/c1/plots/c1.pkl\n",
      "Reading  /media/sahil/NCBS_Shares_BGStim/patch_data/170317/c1/plots/c1.pkl\n",
      "Reading  /media/sahil/NCBS_Shares_BGStim/patch_data/170317/c3/plots/c3.pkl\n",
      "Reading  /media/sahil/NCBS_Shares_BGStim/patch_data/170317/c4/plots/c4.pkl\n",
      "Reading  /media/sahil/NCBS_Shares_BGStim/patch_data/170303/c1/plots/c1.pkl\n",
      "Reading  /media/sahil/NCBS_Shares_BGStim/patch_data/170802/c1/plots/c1.pkl\n",
      "Reading  /media/sahil/NCBS_Shares_BGStim/patch_data/RS_Analysis/Patch_Recording/Control_RS_short/1_c4_150827/plots/1_c4_150827.pkl\n",
      "Reading  /media/sahil/NCBS_Shares_BGStim/patch_data/RS_Analysis/Patch_Recording/Control_RS_short/2_c1_150828/plots/2_c1_150828.pkl\n",
      "Reading  /media/sahil/NCBS_Shares_BGStim/patch_data/RS_Analysis/Patch_Recording/Control_RS_short/3_c1_150929/plots/3_c1_150929.pkl\n",
      "Reading  /media/sahil/NCBS_Shares_BGStim/patch_data/RS_Analysis/Patch_Recording/Control_RS_short/6_c2_160513/plots/6_c2_160513.pkl\n",
      "Reading  /media/sahil/NCBS_Shares_BGStim/patch_data/RS_Analysis/Patch_Recording/RS_TBS_short/5_c4_160122/plots/5_c4_160122.pkl\n",
      "Read 39 files.\n"
     ]
    }
   ],
   "source": [
    "#fileList = glob.glob(\"/media/sahil/NCBS_Shares_BGStim/patch_data/**/c?/plots/*.pkl\")\n",
    "neuronList = []\n",
    "with open(\"/media/sahil/NCBS_Shares_BGStim/patch_data/current_clamp_files.txt\", 'r') as fp:\n",
    "    fileList = fp.read().splitlines()\n",
    "    for i,filename in enumerate(fileList):\n",
    "        fileList[i] += \"plots/\" + filename.split('/')[-2] + \".pkl\"\n",
    "        try:\n",
    "            print (\"Reading \", fileList[i])\n",
    "            neuronList.append(Neuron.load(fileList[i]))\n",
    "        except:\n",
    "            print (\"Couldn't read\", fileList[i])\n",
    "print (\"Read {} files.\".format(len(fileList)))"
   ]
  },
  {
   "cell_type": "code",
   "execution_count": 4,
   "metadata": {},
   "outputs": [],
   "source": [
    "#neuronList = load(open('/home/bhalla/Documents/Codes/data/currentClampCells.pkl','rb'))"
   ]
  },
  {
   "cell_type": "markdown",
   "metadata": {},
   "source": [
    "## 3 E: 4 measures of sublinearity"
   ]
  },
  {
   "cell_type": "code",
   "execution_count": 5,
   "metadata": {
    "scrolled": false
   },
   "outputs": [
    {
     "name": "stdout",
     "output_type": "stream",
     "text": [
      "c5 160617\n",
      "Slope = 0.27, $r^2=0.57$ 126\n",
      "Slope = 0.23, $r^2=0.46$ 126\n",
      "Slope = 0.23, $r^2=0.46$ 126\n",
      "Slope = 0.18, $r^2=0.26$ 126\n"
     ]
    },
    {
     "data": {
      "image/png": "[encoded data removed]",
      "text/plain": [
       "<matplotlib.figure.Figure at 0x7f15ce40ad90>"
      ]
     },
     "metadata": {},
     "output_type": "display_data"
    }
   ],
   "source": [
    "fig, ax = plt.subplots(2,2)\n",
    "n = neuronList[11]\n",
    "print(n.index, n.date)\n",
    "# fig.suptitle(\"Example cell: {}, {} Different measure showing sublinearity\".format(n.index, n.date), fontsize=18)\n",
    "features = [0,1,2,4]\n",
    "for index,feature in enumerate(features):\n",
    "    expected, observed = [], []\n",
    "    for expType,exp in n:\n",
    "        if expType == 'Control':\n",
    "            sqr = 5\n",
    "            expected, observed = zip(*[(exp[sqr].coordwise[coord].expected_feature[feature],exp[sqr].coordwise[coord].average_feature[feature]) for coord in exp[sqr].coordwise])\n",
    "    i,j = index/2, index%2\n",
    "    expected,observed = np.array(expected), np.array(observed)\n",
    "    subIndices, supraIndices = np.where(np.greater(expected,observed)), np.where(np.less_equal(expected,observed)) \n",
    "    ax[i][j].scatter(expected[subIndices], observed[subIndices], label=n.features[feature], s=10, marker='.',color='gray')\n",
    "    ax[i][j].scatter(expected[supraIndices], observed[supraIndices], label=n.features[feature], s=10, marker='.',color='orange')\n",
    "    minLim, maxLim = np.min(np.concatenate([expected,observed])), np.max(np.concatenate([expected, observed]))\n",
    "    ax[i][j].plot((minLim, maxLim), (minLim, maxLim),'--')\n",
    "    slope, intercept, r2, pval,stderr = ss.linregress(expected, observed)\n",
    "    expArray = np.linspace(minLim, maxLim,100)\n",
    "    ax[i][j].plot(expArray, slope*expArray + intercept,'--',c='gray')\n",
    "    ax[i][j].set_xlim(minLim, maxLim)\n",
    "    ax[i][j].set_ylim(minLim, maxLim)\n",
    "    print(\"Slope = {:.2f}, $r^2={:.2f}$\".format(slope, r2), len(observed))\n",
    "# ax[0][0].set_xlabel(\"Expected Sum (mV)\")\n",
    "#ax[0][0].set_ylabel(\"Observed Sum (mV)\")\n",
    "#ax[1][0].set_xlabel(\"Expected Sum (mV)\")\n",
    "#ax[1][0].set_ylabel(\"Observed Sum (mV)\")\n",
    "\n",
    "# ax[0][1].set_xlabel(\"Expected Sum (mV.ms)\")\n",
    "# ax[0][1].set_ylabel(\"Observed Sum (mV.ms)\")\n",
    "#ax[1][1].set_xlabel(\"Expected Sum (mV.ms)\")\n",
    "# ax[1][1].set_ylabel(\"Observed Sum (mV.ms)\")\n",
    "\n",
    "#     ax[i][j].legend(loc='best')\n",
    "# for axis in ax.flatten():\n",
    "#     axis.ticklabel_format(style='sci', axis='y', scilimits=(0,0))\n",
    "#     axis.yaxis.major.formatter._useMathText = True\n",
    "ax[1][1].set_yticks([0.0, 0.1])\n",
    "simpleaxis(ax)\n",
    "fig.text(0.5, 0.04, 'Expected sum', ha='center', fontsize=10)\n",
    "fig.text(0.04, 0.5, 'Observed sum', va='center', rotation='vertical', fontsize=10)\n",
    "fig.set_figheight(4)\n",
    "fig.set_figwidth(4)\n",
    "dump(fig,file('figures/fig3/3e.pkl','wb'))\n",
    "plt.savefig('figures/fig3/fig3e.svg')\n",
    "plt.show()"
   ]
  },
  {
   "cell_type": "markdown",
   "metadata": {},
   "source": [
    "## 3 F: Ratios of O/E mostly sublinear"
   ]
  },
  {
   "cell_type": "code",
   "execution_count": 36,
   "metadata": {},
   "outputs": [],
   "source": [
    "def figureF(feature = 0, only_plot_square=5,xmax=2.5):\n",
    "    ''' Plotting to show sublinearity of CA3 inputs at CA1. '''\n",
    "    ratio = []\n",
    "    numNeurons = 0\n",
    "    numBins = 50\n",
    "    valid_neuron = []\n",
    "    for neuron in neuronList:\n",
    "        if (neuron):\n",
    "            for expType, exp in neuron:\n",
    "                if expType == \"Control\":            \n",
    "                    for numSq in exp:\n",
    "                        if numSq > 1:\n",
    "                            if numSq == only_plot_square: # If one vs five required\n",
    "                                numNeurons+=1\n",
    "                                coords = exp[numSq].coordwise\n",
    "                                for coord in coords:\n",
    "                                    try:\n",
    "                                        if feature in coords[coord].average_feature and coords[coord].expected_feature:\n",
    "                                            if not np.isnan(coords[coord].average_feature[feature]/coords[coord].expected_feature[feature]) and not np.isinf(coords[coord].average_feature[feature]/coords[coord].expected_feature[feature]):\n",
    "                                                ratio.append(coords[coord].average_feature[feature]/coords[coord].expected_feature[feature])\n",
    "                                                valid_neuron.append(neuron.date + '_' + neuron.index)\n",
    "                                    except:\n",
    "                                        print (\"Couldn't append to ratio, perhaps feature not found\")\n",
    "    ratio = np.array(ratio)\n",
    "    gt_one = ratio[np.where(ratio>1)]\n",
    "    frac_gt_one = round((float(len(gt_one))/len(ratio))*1e2,2)\n",
    "    #print [x for x in ratio]\n",
    "    fig, ax = plt.subplots()\n",
    "    fig.set_figheight(1.5)\n",
    "    fig.set_figwidth(1.5)\n",
    "    bins = np.linspace(0,xmax,numBins)\n",
    "    n, bins, patches = ax.hist(ratio, bins=bins, color='gray')\n",
    "    print (\"Average ratio is {:.2f}, standard deviation is {:.2f}\".format(np.average(ratio), np.std(ratio,ddof=1)))\n",
    "    for i in range(len(patches)):\n",
    "        if bins[i]>1:\n",
    "            patches[i].set_facecolor('orange')\n",
    "    \n",
    "    ax.set_title(\"Sublinearity of input summation\")\n",
    "#     ax.axvline(1.0, linestyle='dashed', linewidth=2, color='0.5')\n",
    "    ax.set_xlabel(\"O/E\")\n",
    "    ax.set_ylabel(\"# PSPs\")\n",
    "    ax.set_xlim(0,xmax)\n",
    "    simpleaxis(ax,outward=False)\n",
    "    dump(fig,file('figures/fig3/3f_{}.pkl'.format(only_plot_square),'wb'))\n",
    "#     ax.annotate(\"{} %\".format(frac_gt_one), xy=(1, 800), xytext=(1.5, 800), textcoords='data', arrowprops=dict(connectionstyle=\"arc3\", arrowstyle = \"<-\"))\n",
    "    plt.show()\n",
    "    print (\"Legend text: Number of cells: {}, number of points: {}, fraction of points lesser than one: {}\".format(len(set(valid_neuron)), len(ratio), 100 - frac_gt_one ))"
   ]
  },
  {
   "cell_type": "code",
   "execution_count": 37,
   "metadata": {},
   "outputs": [
    {
     "name": "stderr",
     "output_type": "stream",
     "text": [
      "/usr/local/lib/python2.7/dist-packages/ipykernel_launcher.py:19: RuntimeWarning: divide by zero encountered in double_scalars\n"
     ]
    },
    {
     "name": "stdout",
     "output_type": "stream",
     "text": [
      "Average ratio is 0.57, standard deviation is 0.31\n"
     ]
    },
    {
     "data": {
      "image/png": "[encoded data removed]",
      "text/plain": [
       "<matplotlib.figure.Figure at 0x7f15c6bf6b10>"
      ]
     },
     "metadata": {},
     "output_type": "display_data"
    },
    {
     "name": "stdout",
     "output_type": "stream",
     "text": [
      "Legend text: Number of cells: 33, number of points: 2513, fraction of points lesser than one: 93.35\n"
     ]
    }
   ],
   "source": [
    "figureF()"
   ]
  },
  {
   "cell_type": "code",
   "execution_count": 39,
   "metadata": {},
   "outputs": [
    {
     "name": "stderr",
     "output_type": "stream",
     "text": [
      "/usr/local/lib/python2.7/dist-packages/ipykernel_launcher.py:19: RuntimeWarning: divide by zero encountered in double_scalars\n"
     ]
    },
    {
     "name": "stdout",
     "output_type": "stream",
     "text": [
      "Average ratio is 0.78, standard deviation is 0.56\n"
     ]
    },
    {
     "data": {
      "image/png": "[encoded data removed]",
      "text/plain": [
       "<matplotlib.figure.Figure at 0x7f15c672d050>"
      ]
     },
     "metadata": {},
     "output_type": "display_data"
    },
    {
     "name": "stdout",
     "output_type": "stream",
     "text": [
      "Legend text: Number of cells: 20, number of points: 1284, fraction of points lesser than one: 80.61\n",
      "Average ratio is 0.58, standard deviation is 0.43\n"
     ]
    },
    {
     "data": {
      "image/png": "[encoded data removed]",
      "text/plain": [
       "<matplotlib.figure.Figure at 0x7f15c6a55490>"
      ]
     },
     "metadata": {},
     "output_type": "display_data"
    },
    {
     "name": "stdout",
     "output_type": "stream",
     "text": [
      "Legend text: Number of cells: 19, number of points: 1011, fraction of points lesser than one: 94.66\n",
      "Average ratio is 0.47, standard deviation is 0.21\n"
     ]
    },
    {
     "data": {
      "image/png": "[encoded data removed]",
      "text/plain": [
       "<matplotlib.figure.Figure at 0x7f15c6bc8150>"
      ]
     },
     "metadata": {},
     "output_type": "display_data"
    },
    {
     "name": "stdout",
     "output_type": "stream",
     "text": [
      "Legend text: Number of cells: 15, number of points: 530, fraction of points lesser than one: 98.49\n",
      "Average ratio is 0.30, standard deviation is 0.08\n"
     ]
    },
    {
     "data": {
      "image/png": "[encoded data removed]",
      "text/plain": [
       "<matplotlib.figure.Figure at 0x7f15c6c60490>"
      ]
     },
     "metadata": {},
     "output_type": "display_data"
    },
    {
     "name": "stdout",
     "output_type": "stream",
     "text": [
      "Legend text: Number of cells: 6, number of points: 138, fraction of points lesser than one: 100.0\n"
     ]
    }
   ],
   "source": [
    "figureF(only_plot_square=2)\n",
    "figureF(only_plot_square=3)\n",
    "figureF(only_plot_square=7)\n",
    "figureF(only_plot_square=9)"
   ]
  },
  {
   "cell_type": "markdown",
   "metadata": {},
   "source": [
    "## 3 G: Regression slopes differ between cells"
   ]
  },
  {
   "cell_type": "code",
   "execution_count": 19,
   "metadata": {
    "collapsed": true
   },
   "outputs": [],
   "source": [
    "def figureG(feature = 0):\n",
    "    ''' Plotting to show sublinearity of CA3 inputs at CA1. '''\n",
    "    numBins = 10\n",
    "    numSq = 5\n",
    "    slopes = []\n",
    "    index = []\n",
    "    valid_neuron = []\n",
    "    for neuron in neuronList:\n",
    "        if (neuron):\n",
    "            for experiment in neuron.experiment:\n",
    "                if experiment == \"Control\":            \n",
    "                        if numSq in neuron.experiment[experiment]:\n",
    "                            slope = neuron.experiment[experiment][numSq].regression_coefficients[feature]['slope']\n",
    "                            if np.isnan(slope):\n",
    "                                print (neuron.index, neuron.date)\n",
    "                            if not np.isnan(slope):\n",
    "                                index.append(neuron.date + '_' + neuron.index)\n",
    "                                slopes.append(neuron.experiment[experiment][numSq].regression_coefficients[feature]['slope'])\n",
    "                                valid_neuron.append(neuron.date + '_' + neuron.index)\n",
    "                        else:\n",
    "                            print (\"Doesn't have {} square input\".format(numSq))\n",
    "#     print (zip(index, slopes))\n",
    "    fig, ax = plt.subplots()\n",
    "    fig.set_figheight(1.5)\n",
    "    fig.set_figwidth(1.5)\n",
    "    n, bins, patches = ax.hist(slopes,bins=numBins, color='gray')\n",
    "    print (\"Average slope is {:.2f}, standard deviation is {:.2f}\".format(np.average(slopes), np.std(slopes,ddof=1)))\n",
    "    for i in range(len(patches)):\n",
    "        if bins[i]>1:\n",
    "            patches[i].set_facecolor('orange')\n",
    "            \n",
    "    ax.set_title(\"Variability of slopes between cells\")\n",
    "#     ax.axvline(1.0, linestyle='dashed', linewidth=2)\n",
    "    ax.set_xlabel(\"Slopes\")\n",
    "    ax.set_ylabel(\"# cells\")\n",
    "    ax.set_xlim(xmin=0.,xmax=1.)\n",
    "    simpleaxis(ax)\n",
    "    dump(fig,file('figures/fig3/3g_{}.pkl'.format(feature),'wb'))\n",
    "    plt.show()\n",
    "    print(\"Number of neurons is {}\".format(len(set(valid_neuron))))"
   ]
  },
  {
   "cell_type": "code",
   "execution_count": 20,
   "metadata": {},
   "outputs": [
    {
     "name": "stdout",
     "output_type": "stream",
     "text": [
      "Doesn't have 5 square input\n",
      "Doesn't have 5 square input\n",
      "Doesn't have 5 square input\n",
      "Doesn't have 5 square input\n",
      "Doesn't have 5 square input\n",
      "Average slope is 0.38, standard deviation is 0.22\n"
     ]
    },
    {
     "data": {
      "image/png": "[encoded data removed]",
      "text/plain": [
       "<matplotlib.figure.Figure at 0x7f308785ea90>"
      ]
     },
     "metadata": {},
     "output_type": "display_data"
    },
    {
     "name": "stdout",
     "output_type": "stream",
     "text": [
      "Number of neurons is 33\n"
     ]
    }
   ],
   "source": [
    "figureG()"
   ]
  },
  {
   "cell_type": "code",
   "execution_count": 21,
   "metadata": {},
   "outputs": [
    {
     "name": "stdout",
     "output_type": "stream",
     "text": [
      "Doesn't have 5 square input\n",
      "Doesn't have 5 square input\n",
      "Doesn't have 5 square input\n",
      "Doesn't have 5 square input\n",
      "Doesn't have 5 square input\n",
      "Average slope is 0.27, standard deviation is 0.23\n"
     ]
    },
    {
     "data": {
      "image/png": "[encoded data removed]",
      "text/plain": [
       "<matplotlib.figure.Figure at 0x7f30878d7210>"
      ]
     },
     "metadata": {},
     "output_type": "display_data"
    },
    {
     "name": "stdout",
     "output_type": "stream",
     "text": [
      "Number of neurons is 33\n"
     ]
    }
   ],
   "source": [
    "figureG(feature = 1)"
   ]
  },
  {
   "cell_type": "code",
   "execution_count": 22,
   "metadata": {},
   "outputs": [
    {
     "name": "stdout",
     "output_type": "stream",
     "text": [
      "Doesn't have 5 square input\n",
      "Doesn't have 5 square input\n",
      "Doesn't have 5 square input\n",
      "Doesn't have 5 square input\n",
      "Doesn't have 5 square input\n",
      "Average slope is 0.26, standard deviation is 0.23\n"
     ]
    },
    {
     "data": {
      "image/png": "[encoded data removed]",
      "text/plain": [
       "<matplotlib.figure.Figure at 0x7f308ef55a90>"
      ]
     },
     "metadata": {},
     "output_type": "display_data"
    },
    {
     "name": "stdout",
     "output_type": "stream",
     "text": [
      "Number of neurons is 33\n"
     ]
    }
   ],
   "source": [
    "figureG(feature = 2)"
   ]
  },
  {
   "cell_type": "code",
   "execution_count": 23,
   "metadata": {},
   "outputs": [
    {
     "name": "stdout",
     "output_type": "stream",
     "text": [
      "c2 150828\n",
      "c2 150902\n",
      "c1 150904\n",
      "Doesn't have 5 square input\n",
      "Doesn't have 5 square input\n",
      "c4 160209\n",
      "c5 160219\n",
      "Doesn't have 5 square input\n",
      "c1 160830\n",
      "Doesn't have 5 square input\n",
      "Doesn't have 5 square input\n",
      "2_c1_150828 Control_RS_short\n",
      "6_c2_160513 Control_RS_short\n",
      "Average slope is 0.23, standard deviation is 0.21\n"
     ]
    },
    {
     "data": {
      "image/png": "[encoded data removed]",
      "text/plain": [
       "<matplotlib.figure.Figure at 0x7f3087767f90>"
      ]
     },
     "metadata": {},
     "output_type": "display_data"
    },
    {
     "name": "stdout",
     "output_type": "stream",
     "text": [
      "Number of neurons is 25\n"
     ]
    }
   ],
   "source": [
    "figureG(feature = 4)"
   ]
  }
 ],
 "metadata": {
  "hide_input": false,
  "kernelspec": {
   "display_name": "Python 2",
   "language": "python",
   "name": "python2"
  },
  "language_info": {
   "codemirror_mode": {
    "name": "ipython",
    "version": 2
   },
   "file_extension": ".py",
   "mimetype": "text/x-python",
   "name": "python",
   "nbconvert_exporter": "python",
   "pygments_lexer": "ipython2",
   "version": "2.7.12"
  },
  "latex_envs": {
   "LaTeX_envs_menu_present": true,
   "autocomplete": true,
   "bibliofile": "biblio.bib",
   "cite_by": "apalike",
   "current_citInitial": 1,
   "eqLabelWithNumbers": true,
   "eqNumInitial": 1,
   "hotkeys": {
    "equation": "Ctrl-E",
    "itemize": "Ctrl-I"
   },
   "labels_anchors": false,
   "latex_user_defs": false,
   "report_style_numbering": false,
   "user_envs_cfg": false
  },
  "toc": {
   "colors": {
    "hover_highlight": "#DAA520",
    "navigate_num": "#000000",
    "navigate_text": "#333333",
    "running_highlight": "#FF0000",
    "selected_highlight": "#FFD700",
    "sidebar_border": "#EEEEEE",
    "wrapper_background": "#FFFFFF"
   },
   "moveMenuLeft": true,
   "nav_menu": {
    "height": "12px",
    "width": "252px"
   },
   "navigate_menu": true,
   "number_sections": true,
   "sideBar": true,
   "threshold": 4,
   "toc_cell": false,
   "toc_section_display": "block",
   "toc_window_display": true,
   "widenNotebook": false
  },
  "varInspector": {
   "cols": {
    "lenName": 16,
    "lenType": 16,
    "lenVar": 40
   },
   "kernels_config": {
    "python": {
     "delete_cmd_postfix": "",
     "delete_cmd_prefix": "del ",
     "library": "var_list.py",
     "varRefreshCmd": "print(var_dic_list())"
    },
    "r": {
     "delete_cmd_postfix": ") ",
     "delete_cmd_prefix": "rm(",
     "library": "var_list.r",
     "varRefreshCmd": "cat(var_dic_list()) "
    }
   },
   "types_to_exclude": [
    "module",
    "function",
    "builtin_function_or_method",
    "instance",
    "_Feature"
   ],
   "window_display": false
  }
 },
 "nbformat": 4,
 "nbformat_minor": 2
}
