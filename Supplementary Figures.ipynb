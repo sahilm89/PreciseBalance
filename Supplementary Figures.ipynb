{
 "cells": [
  {
   "cell_type": "markdown",
   "metadata": {},
   "source": [
    "# <center> Supplementary Paper figures </center>"
   ]
  },
  {
   "cell_type": "code",
   "execution_count": 1,
   "metadata": {},
   "outputs": [],
   "source": [
    "import sys\n",
    "sys.path.append(\"../\")\n",
    "import glob\n",
    "import matplotlib\n",
    "import matplotlib.pyplot as plt\n",
    "import numpy as np\n",
    "from Linearity import Neuron\n",
    "import scipy.stats as ss\n",
    "plt.style.use('neuron_color')\n",
    "from pickle import dump\n",
    "import os"
   ]
  },
  {
   "cell_type": "code",
   "execution_count": 2,
   "metadata": {},
   "outputs": [],
   "source": [
    "def simpleaxis(axes, every=False, outward=False):\n",
    "    if not isinstance(axes, (list, np.ndarray)):\n",
    "        axes = np.array([axes])\n",
    "    for ax in np.array(axes).flatten():\n",
    "        ax.spines['top'].set_visible(False)\n",
    "        ax.spines['right'].set_visible(False)\n",
    "        if (outward):\n",
    "            ax.spines['bottom'].set_position(('outward', 10))\n",
    "            ax.spines['left'].set_position(('outward', 10))\n",
    "        if every:\n",
    "            ax.spines['bottom'].set_visible(False)\n",
    "            ax.spines['left'].set_visible(False)\n",
    "        ax.get_xaxis().tick_bottom()\n",
    "        ax.get_yaxis().tick_left()\n",
    "        ax.set_title('')"
   ]
  },
  {
   "cell_type": "markdown",
   "metadata": {},
   "source": [
    "## One square distributions of Control and GABAzine are similar, while two square onwards starts to diverge."
   ]
  },
  {
   "cell_type": "code",
   "execution_count": 3,
   "metadata": {},
   "outputs": [
    {
     "name": "stdout",
     "output_type": "stream",
     "text": [
      "Reading  /home/bhalla/Documents/Codes/data/media/sahil/NCBS_Shares_BGStim/patch_data/160817/c4/plots/c4.pkl\n",
      "Reading  /home/bhalla/Documents/Codes/data/media/sahil/NCBS_Shares_BGStim/patch_data/160830/c1/plots/c1.pkl\n",
      "Reading  /home/bhalla/Documents/Codes/data/media/sahil/NCBS_Shares_BGStim/patch_data/160920/c1/plots/c1.pkl\n",
      "Reading  /home/bhalla/Documents/Codes/data/media/sahil/NCBS_Shares_BGStim/patch_data/160927/c5/plots/c5.pkl\n",
      "Reading  /home/bhalla/Documents/Codes/data/media/sahil/NCBS_Shares_BGStim/patch_data/160928/c4/plots/c4.pkl\n",
      "Reading  /home/bhalla/Documents/Codes/data/media/sahil/NCBS_Shares_BGStim/patch_data/161013/c1/plots/c1.pkl\n",
      "Reading  /home/bhalla/Documents/Codes/data/media/sahil/NCBS_Shares_BGStim/patch_data/161027/c3/plots/c3.pkl\n",
      "Reading  /home/bhalla/Documents/Codes/data/media/sahil/NCBS_Shares_BGStim/patch_data/161117/c1/plots/c1.pkl\n",
      "Reading  /home/bhalla/Documents/Codes/data/media/sahil/NCBS_Shares_BGStim/patch_data/161228/c1/plots/c1.pkl\n",
      "Reading  /home/bhalla/Documents/Codes/data/media/sahil/NCBS_Shares_BGStim/patch_data/170222/c2/plots/c2.pkl\n",
      "Reading  /home/bhalla/Documents/Codes/data/media/sahil/NCBS_Shares_BGStim/patch_data/170303/c1/plots/c1.pkl\n",
      "Read 11 files.\n"
     ]
    }
   ],
   "source": [
    "#fileList = glob.glob(\"/media/sahil/NCBS_Shares_BGStim/patch_data/**/c?/plots/*.pkl\")\n",
    "neuronList = []\n",
    "prefix = '/home/bhalla/Documents/Codes/data'\n",
    "with open(prefix + \"/media/sahil/NCBS_Shares_BGStim/patch_data/current_clamp_files_with_GABAzine.txt\", 'r') as fp:\n",
    "    fileList = fp.read().splitlines()\n",
    "    for i,filename in enumerate(fileList):\n",
    "        fileList[i] += \"plots/\" + filename.split('/')[-2] + \".pkl\"\n",
    "        try:\n",
    "            print (\"Reading \", prefix + fileList[i])\n",
    "            neuronList.append(Neuron.load(prefix + fileList[i]))\n",
    "        except:\n",
    "            print (\"Couldn't read\", prefix + fileList[i])\n",
    "print (\"Read {} files.\".format(len(fileList)))"
   ]
  },
  {
   "cell_type": "code",
   "execution_count": 4,
   "metadata": {},
   "outputs": [],
   "source": [
    "def figure2(feature=0, square=1):\n",
    "    ''' Looking at the one square distribution for GABAzine and Control'''\n",
    "                        \n",
    "    numNeurons = 0\n",
    "    control_vmax = []\n",
    "    gabazine_vmax = []\n",
    "    \n",
    "    for neuron in neuronList:\n",
    "        if len(neuron.experiment)>1:\n",
    "            try:\n",
    "                control_trials = neuron.experiment[\"Control\"][square].trial\n",
    "                gabazine_trials = neuron.experiment[\"GABAzine\"][square].trial\n",
    "                for trial in control_trials:\n",
    "                    try:\n",
    "                        control_vmax.append(control_trials[trial].feature[feature])\n",
    "                    except:\n",
    "                        print (\"trial didn't work\", trial)\n",
    "                for trial in gabazine_trials:\n",
    "                    try:\n",
    "                        gabazine_vmax.append(gabazine_trials[trial].feature[feature])\n",
    "                    except:\n",
    "                        print (\"trial didn't work\", trial)\n",
    "            except:\n",
    "                print (square, \"square not found in either or both in \", neuron.date, neuron.index)\n",
    "    \n",
    "    rangeMin = min(min(control_vmax), min(gabazine_vmax))\n",
    "    rangeMax = max(max(control_vmax), max(gabazine_vmax))\n",
    "    bins = np.linspace(rangeMin, rangeMax, 30)\n",
    "    fig, ax = plt.subplots()\n",
    "    ax.hist(control_vmax, bins=bins, label=\"Control\",  color='gray',histtype='step')\n",
    "    ax.hist(gabazine_vmax, bins=bins, label=\"GABAzine\", color='red',histtype='step')\n",
    "    ax.set_title(\"Comparing one square distributions for Control and GABAzine\")\n",
    "    ax.set_xlabel(\"PSP Amplitude (mV)\")\n",
    "    ax.set_ylabel(\"# recorded PSPs\")\n",
    "    simpleaxis(ax)\n",
    "    fig.set_figwidth(1.5)\n",
    "    fig.set_figheight(1.5)\n",
    "    plt.legend()\n",
    "    dump(fig,file('figures/supplementary/2_{}.pkl'.format(square),'wb'))\n",
    "    plt.show()\n",
    "    print(len(control_vmax), len(gabazine_vmax))\n",
    "    return control_vmax, gabazine_vmax"
   ]
  },
  {
   "cell_type": "code",
   "execution_count": 5,
   "metadata": {},
   "outputs": [
    {
     "name": "stdout",
     "output_type": "stream",
     "text": [
      "trial didn't work 5\n",
      "trial didn't work 7\n",
      "trial didn't work 9\n",
      "trial didn't work 13\n",
      "trial didn't work 31\n",
      "trial didn't work 35\n",
      "trial didn't work 37\n",
      "trial didn't work 53\n",
      "trial didn't work 59\n",
      "trial didn't work 61\n",
      "trial didn't work 85\n",
      "trial didn't work 7\n",
      "trial didn't work 13\n",
      "trial didn't work 31\n",
      "trial didn't work 37\n",
      "trial didn't work 55\n",
      "trial didn't work 59\n",
      "trial didn't work 61\n",
      "trial didn't work 26\n",
      "trial didn't work 45\n",
      "trial didn't work 55\n",
      "trial didn't work 63\n",
      "trial didn't work 106\n"
     ]
    },
    {
     "data": {
      "image/png": "[encoded data removed]",
      "text/plain": [
       "<matplotlib.figure.Figure at 0x7fa64a598e50>"
      ]
     },
     "metadata": {},
     "output_type": "display_data"
    },
    {
     "name": "stdout",
     "output_type": "stream",
     "text": [
      "1092 1173\n"
     ]
    }
   ],
   "source": [
    "c, g = figure2(square=1)"
   ]
  },
  {
   "cell_type": "code",
   "execution_count": 6,
   "metadata": {
    "scrolled": true
   },
   "outputs": [
    {
     "name": "stdout",
     "output_type": "stream",
     "text": [
      "0.8545850409488629 1.151996055161383 2.170838059275216 1.4204768821911005\n",
      "0.9842011426368471\n",
      "(0.8027736917040109, -0.394920207624167, 0.9842011426368471)\n",
      "0.8545850409488629 1.151996055161383 2.170838059275216 1.4204768821911005\n",
      "0.8689796400745844\n",
      "(0.8982547267653416, -0.9281563389692313, 0.8689796400745844)\n"
     ]
    }
   ],
   "source": [
    "print(np.var(c, ddof=1), np.mean(c), np.var(g, ddof=1), np.mean(g))\n",
    "n, bins = np.histogram(g,bins=100)\n",
    "print(np.median(g))\n",
    "print(ss.lognorm.fit(g, fscale=np.median(g)))\n",
    "\n",
    "print(np.var(c, ddof=1), np.mean(c), np.var(g, ddof=1), np.mean(g))\n",
    "n, bins = np.histogram(c,bins=100)\n",
    "print(np.median(c))\n",
    "print(ss.lognorm.fit(c, fscale=np.median(c)))"
   ]
  },
  {
   "cell_type": "code",
   "execution_count": 10,
   "metadata": {},
   "outputs": [
    {
     "data": {
      "text/plain": [
       "(array([ 1,  0,  0,  0,  0,  0,  0,  1,  3,  1,  4,  4,  7, 21, 34, 59, 66,\n",
       "        79, 49, 67, 48, 48, 47, 33, 37, 33, 28, 35, 34, 25, 37, 16, 15, 14,\n",
       "        14, 19,  7, 15, 19, 17, 24, 17,  8,  6,  8,  7, 10,  6, 10,  5,  8,\n",
       "         5,  3,  2,  4,  4,  3,  1,  1,  0,  3,  3,  2,  3,  3,  0,  0,  2,\n",
       "         1,  0,  0,  0,  0,  0,  0,  1,  0,  1,  0,  1,  0,  0,  0,  1,  1,\n",
       "         0,  0,  0,  0,  0,  0,  0,  0,  0,  0,  0,  0,  0,  0,  1]),\n",
       " array([-9.23257798e-01, -8.45774092e-01, -7.68290386e-01, -6.90806680e-01,\n",
       "        -6.13322974e-01, -5.35839269e-01, -4.58355563e-01, -3.80871857e-01,\n",
       "        -3.03388151e-01, -2.25904445e-01, -1.48420739e-01, -7.09370336e-02,\n",
       "         6.54667225e-03,  8.40303781e-02,  1.61514084e-01,  2.38997790e-01,\n",
       "         3.16481496e-01,  3.93965201e-01,  4.71448907e-01,  5.48932613e-01,\n",
       "         6.26416319e-01,  7.03900025e-01,  7.81383730e-01,  8.58867436e-01,\n",
       "         9.36351142e-01,  1.01383485e+00,  1.09131855e+00,  1.16880226e+00,\n",
       "         1.24628597e+00,  1.32376967e+00,  1.40125338e+00,  1.47873708e+00,\n",
       "         1.55622079e+00,  1.63370449e+00,  1.71118820e+00,  1.78867191e+00,\n",
       "         1.86615561e+00,  1.94363932e+00,  2.02112302e+00,  2.09860673e+00,\n",
       "         2.17609044e+00,  2.25357414e+00,  2.33105785e+00,  2.40854155e+00,\n",
       "         2.48602526e+00,  2.56350896e+00,  2.64099267e+00,  2.71847638e+00,\n",
       "         2.79596008e+00,  2.87344379e+00,  2.95092749e+00,  3.02841120e+00,\n",
       "         3.10589491e+00,  3.18337861e+00,  3.26086232e+00,  3.33834602e+00,\n",
       "         3.41582973e+00,  3.49331343e+00,  3.57079714e+00,  3.64828085e+00,\n",
       "         3.72576455e+00,  3.80324826e+00,  3.88073196e+00,  3.95821567e+00,\n",
       "         4.03569938e+00,  4.11318308e+00,  4.19066679e+00,  4.26815049e+00,\n",
       "         4.34563420e+00,  4.42311790e+00,  4.50060161e+00,  4.57808532e+00,\n",
       "         4.65556902e+00,  4.73305273e+00,  4.81053643e+00,  4.88802014e+00,\n",
       "         4.96550384e+00,  5.04298755e+00,  5.12047126e+00,  5.19795496e+00,\n",
       "         5.27543867e+00,  5.35292237e+00,  5.43040608e+00,  5.50788979e+00,\n",
       "         5.58537349e+00,  5.66285720e+00,  5.74034090e+00,  5.81782461e+00,\n",
       "         5.89530831e+00,  5.97279202e+00,  6.05027573e+00,  6.12775943e+00,\n",
       "         6.20524314e+00,  6.28272684e+00,  6.36021055e+00,  6.43769426e+00,\n",
       "         6.51517796e+00,  6.59266167e+00,  6.67014537e+00,  6.74762908e+00,\n",
       "         6.82511278e+00]))"
      ]
     },
     "execution_count": 10,
     "metadata": {},
     "output_type": "execute_result"
    }
   ],
   "source": [
    "n, bins"
   ]
  },
  {
   "cell_type": "code",
   "execution_count": 35,
   "metadata": {},
   "outputs": [],
   "source": [
    "?ss.lognorm.fit"
   ]
  },
  {
   "cell_type": "markdown",
   "metadata": {},
   "source": [
    "|Sq num|C_var|C_mean|G_var|G_mean|\n",
    "|----|----|----|----|-----|\n",
    "|1|0.8545850409488629 |1.151996055161383 |2.170838059275216 |1.4204768821911005|\n",
    "|2|2.0089464925142595 |1.9930293791179101 |4.333277125877969 |2.669277622854819|\n",
    "|3|2.3710840651933167 |2.525231743863857 |5.518800076298463 |3.570808533457798|\n",
    "|5|3.770729716081392 |3.0680340604357026 |6.778870045071278 |4.124148356004597|\n",
    "|7|5.703181417691025 |3.6109601237044955 |5.6260328700008015 |4.586416713995049|\n",
    "|9|0.9795477534698871 | 1.7217867593384926 |3.2567437190490516 |6.894163377128345|"
   ]
  },
  {
   "cell_type": "code",
   "execution_count": 32,
   "metadata": {},
   "outputs": [
    {
     "data": {
      "text/plain": [
       "1.5282459619664317"
      ]
     },
     "execution_count": 32,
     "metadata": {},
     "output_type": "execute_result"
    }
   ],
   "source": [
    "a = \n",
    "\n",
    "[1.4204768821911005, 2.669277622854819, 3.570808533457798, 4.124148356004597, 4.586416713995049, 6.894163377128345]\n",
    "\n",
    "[2.170838059275216, ]\n",
    "1\t0.8545850409488629\t1.151996055161383\t2.170838059275216\t1.4204768821911005\n",
    "2\t2.0089464925142595\t1.9930293791179101\t4.333277125877969\t2.669277622854819\n",
    "3\t2.3710840651933167\t2.525231743863857\t5.518800076298463\t3.570808533457798\n",
    "5\t3.770729716081392\t3.0680340604357026\t6.778870045071278\t4.124148356004597\n",
    "7\t5.703181417691025\t3.6109601237044955\t5.6260328700008015\t4.586416713995049\n",
    "9\t0.9795477534698871\t1.7217867593384926\t3.2567437190490516\t6.894163377128345\n",
    "\n",
    "\n",
    "\n",
    "\n"
   ]
  },
  {
   "cell_type": "code",
   "execution_count": 95,
   "metadata": {
    "scrolled": false
   },
   "outputs": [
    {
     "name": "stdout",
     "output_type": "stream",
     "text": [
      "trial didn't work 5\n",
      "trial didn't work 7\n",
      "trial didn't work 9\n",
      "trial didn't work 13\n",
      "trial didn't work 31\n",
      "trial didn't work 35\n",
      "trial didn't work 37\n",
      "trial didn't work 53\n",
      "trial didn't work 59\n",
      "trial didn't work 61\n",
      "trial didn't work 85\n",
      "trial didn't work 7\n",
      "trial didn't work 13\n",
      "trial didn't work 31\n",
      "trial didn't work 37\n",
      "trial didn't work 55\n",
      "trial didn't work 59\n",
      "trial didn't work 61\n",
      "trial didn't work 26\n",
      "trial didn't work 45\n",
      "trial didn't work 55\n",
      "trial didn't work 63\n",
      "trial didn't work 106\n"
     ]
    },
    {
     "data": {
      "image/png": "[encoded data removed]",
      "text/plain": [
       "<matplotlib.figure.Figure at 0x7fcc36353fd0>"
      ]
     },
     "metadata": {},
     "output_type": "display_data"
    },
    {
     "name": "stdout",
     "output_type": "stream",
     "text": [
      "1092 1173\n",
      "2 square not found in either or both in  160830 c1\n",
      "trial didn't work 7\n",
      "trial didn't work 15\n",
      "trial didn't work 16\n",
      "trial didn't work 24\n",
      "trial didn't work 39\n",
      "trial didn't work 63\n",
      "trial didn't work 77\n",
      "trial didn't work 2\n",
      "trial didn't work 4\n",
      "trial didn't work 6\n",
      "trial didn't work 7\n",
      "trial didn't work 9\n",
      "trial didn't work 15\n",
      "trial didn't work 17\n",
      "trial didn't work 18\n",
      "trial didn't work 22\n",
      "trial didn't work 23\n",
      "trial didn't work 24\n",
      "trial didn't work 25\n",
      "trial didn't work 26\n",
      "trial didn't work 28\n",
      "trial didn't work 30\n",
      "trial didn't work 31\n",
      "trial didn't work 32\n",
      "trial didn't work 36\n",
      "trial didn't work 39\n",
      "trial didn't work 41\n",
      "trial didn't work 42\n",
      "trial didn't work 52\n",
      "trial didn't work 54\n",
      "trial didn't work 55\n",
      "trial didn't work 56\n",
      "trial didn't work 57\n",
      "trial didn't work 59\n",
      "trial didn't work 62\n",
      "trial didn't work 63\n",
      "trial didn't work 68\n",
      "trial didn't work 70\n",
      "trial didn't work 5\n",
      "trial didn't work 16\n",
      "trial didn't work 29\n",
      "trial didn't work 39\n",
      "trial didn't work 53\n",
      "trial didn't work 55\n",
      "trial didn't work 63\n",
      "trial didn't work 3\n",
      "trial didn't work 17\n",
      "trial didn't work 47\n",
      "trial didn't work 62\n"
     ]
    },
    {
     "data": {
      "image/png": "[encoded data removed]",
      "text/plain": [
       "<matplotlib.figure.Figure at 0x7fcc2f4dd090>"
      ]
     },
     "metadata": {},
     "output_type": "display_data"
    },
    {
     "name": "stdout",
     "output_type": "stream",
     "text": [
      "690 638\n",
      "3 square not found in either or both in  160830 c1\n",
      "3 square not found in either or both in  160927 c5\n",
      "3 square not found in either or both in  160928 c4\n",
      "trial didn't work 3\n",
      "trial didn't work 4\n",
      "trial didn't work 5\n",
      "trial didn't work 6\n",
      "trial didn't work 8\n",
      "trial didn't work 10\n",
      "trial didn't work 11\n",
      "trial didn't work 12\n",
      "trial didn't work 13\n",
      "trial didn't work 15\n",
      "trial didn't work 16\n",
      "trial didn't work 17\n",
      "trial didn't work 18\n",
      "trial didn't work 19\n",
      "trial didn't work 24\n",
      "trial didn't work 25\n",
      "trial didn't work 27\n",
      "trial didn't work 28\n",
      "trial didn't work 29\n",
      "trial didn't work 31\n",
      "trial didn't work 32\n",
      "trial didn't work 34\n",
      "trial didn't work 35\n",
      "trial didn't work 36\n",
      "trial didn't work 37\n",
      "trial didn't work 39\n",
      "trial didn't work 41\n",
      "trial didn't work 42\n",
      "trial didn't work 45\n",
      "trial didn't work 46\n",
      "trial didn't work 48\n",
      "trial didn't work 49\n",
      "trial didn't work 50\n",
      "trial didn't work 51\n",
      "trial didn't work 52\n",
      "trial didn't work 53\n",
      "trial didn't work 54\n",
      "trial didn't work 58\n",
      "trial didn't work 59\n",
      "trial didn't work 60\n",
      "trial didn't work 61\n",
      "trial didn't work 63\n",
      "trial didn't work 65\n",
      "trial didn't work 66\n",
      "trial didn't work 67\n",
      "trial didn't work 69\n",
      "trial didn't work 70\n",
      "trial didn't work 71\n",
      "trial didn't work 72\n",
      "trial didn't work 12\n",
      "trial didn't work 66\n",
      "trial didn't work 4\n",
      "trial didn't work 5\n",
      "trial didn't work 6\n",
      "trial didn't work 8\n",
      "trial didn't work 9\n",
      "trial didn't work 10\n",
      "trial didn't work 11\n",
      "trial didn't work 15\n",
      "trial didn't work 19\n",
      "trial didn't work 21\n",
      "trial didn't work 23\n",
      "trial didn't work 24\n",
      "trial didn't work 26\n",
      "trial didn't work 28\n",
      "trial didn't work 29\n",
      "trial didn't work 31\n",
      "trial didn't work 33\n",
      "trial didn't work 34\n",
      "trial didn't work 35\n",
      "trial didn't work 36\n",
      "trial didn't work 38\n",
      "trial didn't work 42\n",
      "trial didn't work 43\n",
      "trial didn't work 45\n",
      "trial didn't work 47\n",
      "trial didn't work 49\n",
      "trial didn't work 55\n",
      "trial didn't work 56\n",
      "trial didn't work 57\n",
      "trial didn't work 58\n",
      "trial didn't work 61\n",
      "trial didn't work 63\n",
      "trial didn't work 66\n",
      "trial didn't work 67\n",
      "trial didn't work 68\n",
      "trial didn't work 69\n",
      "trial didn't work 71\n"
     ]
    },
    {
     "data": {
      "image/png": "[encoded data removed]",
      "text/plain": [
       "<matplotlib.figure.Figure at 0x7fcc2f56d1d0>"
      ]
     },
     "metadata": {},
     "output_type": "display_data"
    },
    {
     "name": "stdout",
     "output_type": "stream",
     "text": [
      "510 432\n",
      "trial didn't work 1\n",
      "trial didn't work 5\n",
      "trial didn't work 7\n",
      "trial didn't work 10\n",
      "trial didn't work 12\n",
      "trial didn't work 14\n",
      "trial didn't work 17\n",
      "trial didn't work 19\n",
      "trial didn't work 23\n",
      "trial didn't work 24\n",
      "trial didn't work 25\n",
      "trial didn't work 27\n",
      "trial didn't work 29\n",
      "trial didn't work 32\n",
      "trial didn't work 34\n",
      "trial didn't work 37\n",
      "trial didn't work 38\n",
      "trial didn't work 39\n",
      "trial didn't work 40\n",
      "trial didn't work 41\n",
      "trial didn't work 43\n",
      "trial didn't work 45\n",
      "trial didn't work 46\n",
      "trial didn't work 48\n",
      "trial didn't work 50\n",
      "trial didn't work 51\n",
      "trial didn't work 54\n",
      "trial didn't work 55\n",
      "trial didn't work 56\n",
      "trial didn't work 57\n",
      "trial didn't work 58\n",
      "trial didn't work 62\n",
      "trial didn't work 63\n",
      "trial didn't work 64\n",
      "trial didn't work 66\n",
      "trial didn't work 67\n",
      "trial didn't work 72\n",
      "trial didn't work 1\n",
      "trial didn't work 2\n",
      "trial didn't work 3\n",
      "trial didn't work 5\n",
      "trial didn't work 6\n",
      "trial didn't work 7\n",
      "trial didn't work 8\n",
      "trial didn't work 9\n",
      "trial didn't work 10\n",
      "trial didn't work 12\n",
      "trial didn't work 13\n",
      "trial didn't work 14\n",
      "trial didn't work 16\n",
      "trial didn't work 17\n",
      "trial didn't work 18\n",
      "trial didn't work 19\n",
      "trial didn't work 20\n",
      "trial didn't work 21\n",
      "trial didn't work 23\n",
      "trial didn't work 24\n",
      "trial didn't work 25\n",
      "trial didn't work 26\n",
      "trial didn't work 27\n",
      "trial didn't work 28\n",
      "trial didn't work 30\n",
      "trial didn't work 31\n",
      "trial didn't work 33\n",
      "trial didn't work 34\n",
      "trial didn't work 36\n",
      "trial didn't work 37\n",
      "trial didn't work 38\n",
      "trial didn't work 39\n",
      "trial didn't work 40\n",
      "trial didn't work 41\n",
      "trial didn't work 42\n",
      "trial didn't work 43\n",
      "trial didn't work 44\n",
      "trial didn't work 45\n",
      "trial didn't work 47\n",
      "trial didn't work 48\n",
      "trial didn't work 49\n",
      "trial didn't work 50\n",
      "trial didn't work 51\n",
      "trial didn't work 54\n",
      "trial didn't work 55\n",
      "trial didn't work 57\n",
      "trial didn't work 58\n",
      "trial didn't work 62\n",
      "trial didn't work 64\n",
      "trial didn't work 65\n",
      "trial didn't work 66\n",
      "trial didn't work 67\n",
      "trial didn't work 69\n",
      "trial didn't work 70\n",
      "trial didn't work 71\n",
      "trial didn't work 72\n",
      "trial didn't work 73\n",
      "trial didn't work 75\n",
      "trial didn't work 78\n",
      "trial didn't work 79\n",
      "trial didn't work 81\n",
      "trial didn't work 82\n",
      "trial didn't work 84\n",
      "5 square not found in either or both in  160928 c4\n",
      "trial didn't work 1\n",
      "trial didn't work 2\n",
      "trial didn't work 3\n",
      "trial didn't work 4\n",
      "trial didn't work 5\n",
      "trial didn't work 6\n",
      "trial didn't work 7\n",
      "trial didn't work 8\n",
      "trial didn't work 9\n",
      "trial didn't work 10\n",
      "trial didn't work 13\n",
      "trial didn't work 14\n",
      "trial didn't work 15\n",
      "trial didn't work 16\n",
      "trial didn't work 17\n",
      "trial didn't work 18\n",
      "trial didn't work 19\n",
      "trial didn't work 20\n",
      "trial didn't work 21\n",
      "trial didn't work 23\n",
      "trial didn't work 24\n",
      "trial didn't work 25\n",
      "trial didn't work 26\n",
      "trial didn't work 27\n",
      "trial didn't work 28\n",
      "trial didn't work 29\n",
      "trial didn't work 30\n",
      "trial didn't work 31\n",
      "trial didn't work 32\n",
      "trial didn't work 33\n",
      "trial didn't work 34\n",
      "trial didn't work 35\n",
      "trial didn't work 37\n",
      "trial didn't work 38\n",
      "trial didn't work 39\n",
      "trial didn't work 40\n",
      "trial didn't work 41\n",
      "trial didn't work 42\n",
      "trial didn't work 43\n",
      "trial didn't work 44\n",
      "trial didn't work 45\n",
      "trial didn't work 46\n",
      "trial didn't work 47\n",
      "trial didn't work 48\n",
      "trial didn't work 49\n",
      "trial didn't work 50\n",
      "trial didn't work 51\n",
      "trial didn't work 52\n",
      "trial didn't work 54\n",
      "trial didn't work 56\n",
      "trial didn't work 57\n",
      "trial didn't work 58\n",
      "trial didn't work 60\n",
      "trial didn't work 61\n",
      "trial didn't work 62\n",
      "trial didn't work 63\n",
      "trial didn't work 64\n",
      "trial didn't work 65\n",
      "trial didn't work 66\n",
      "trial didn't work 67\n",
      "trial didn't work 68\n",
      "trial didn't work 69\n",
      "trial didn't work 70\n",
      "trial didn't work 71\n",
      "trial didn't work 72\n",
      "trial didn't work 2\n",
      "trial didn't work 3\n",
      "trial didn't work 6\n",
      "trial didn't work 7\n",
      "trial didn't work 10\n",
      "trial didn't work 24\n",
      "trial didn't work 26\n",
      "trial didn't work 27\n",
      "trial didn't work 43\n",
      "trial didn't work 48\n",
      "trial didn't work 51\n",
      "trial didn't work 58\n",
      "trial didn't work 72\n",
      "trial didn't work 28\n",
      "trial didn't work 25\n",
      "trial didn't work 1\n",
      "trial didn't work 2\n",
      "trial didn't work 3\n",
      "trial didn't work 4\n",
      "trial didn't work 5\n",
      "trial didn't work 6\n",
      "trial didn't work 7\n",
      "trial didn't work 8\n",
      "trial didn't work 9\n",
      "trial didn't work 10\n",
      "trial didn't work 11\n",
      "trial didn't work 12\n",
      "trial didn't work 13\n",
      "trial didn't work 14\n",
      "trial didn't work 15\n",
      "trial didn't work 16\n",
      "trial didn't work 17\n",
      "trial didn't work 18\n",
      "trial didn't work 19\n",
      "trial didn't work 20\n",
      "trial didn't work 21\n",
      "trial didn't work 22\n",
      "trial didn't work 23\n",
      "trial didn't work 24\n",
      "trial didn't work 25\n",
      "trial didn't work 27\n",
      "trial didn't work 30\n",
      "trial didn't work 31\n",
      "trial didn't work 32\n",
      "trial didn't work 33\n",
      "trial didn't work 34\n",
      "trial didn't work 35\n",
      "trial didn't work 36\n",
      "trial didn't work 37\n",
      "trial didn't work 38\n",
      "trial didn't work 39\n",
      "trial didn't work 40\n",
      "trial didn't work 41\n",
      "trial didn't work 42\n",
      "trial didn't work 43\n",
      "trial didn't work 44\n",
      "trial didn't work 46\n",
      "trial didn't work 47\n",
      "trial didn't work 48\n",
      "trial didn't work 49\n",
      "trial didn't work 50\n",
      "trial didn't work 51\n",
      "trial didn't work 53\n",
      "trial didn't work 56\n",
      "trial didn't work 57\n",
      "trial didn't work 58\n",
      "trial didn't work 59\n",
      "trial didn't work 60\n",
      "trial didn't work 61\n",
      "trial didn't work 63\n",
      "trial didn't work 64\n",
      "trial didn't work 65\n",
      "trial didn't work 67\n",
      "trial didn't work 68\n",
      "trial didn't work 69\n",
      "trial didn't work 72\n",
      "trial didn't work 73\n"
     ]
    },
    {
     "data": {
      "image/png": "[encoded data removed]",
      "text/plain": [
       "<matplotlib.figure.Figure at 0x7fcc2ef6e7d0>"
      ]
     },
     "metadata": {},
     "output_type": "display_data"
    },
    {
     "name": "stdout",
     "output_type": "stream",
     "text": [
      "700 541\n",
      "7 square not found in either or both in  160830 c1\n",
      "7 square not found in either or both in  160927 c5\n",
      "7 square not found in either or both in  160928 c4\n",
      "trial didn't work 49\n",
      "trial didn't work 53\n",
      "trial didn't work 1\n",
      "trial didn't work 2\n",
      "trial didn't work 3\n",
      "trial didn't work 4\n",
      "trial didn't work 5\n",
      "trial didn't work 6\n",
      "trial didn't work 7\n",
      "trial didn't work 8\n",
      "trial didn't work 9\n",
      "trial didn't work 10\n",
      "trial didn't work 11\n",
      "trial didn't work 12\n",
      "trial didn't work 13\n",
      "trial didn't work 14\n",
      "trial didn't work 15\n",
      "trial didn't work 16\n",
      "trial didn't work 17\n",
      "trial didn't work 18\n",
      "trial didn't work 19\n",
      "trial didn't work 20\n",
      "trial didn't work 21\n",
      "trial didn't work 22\n",
      "trial didn't work 23\n",
      "trial didn't work 24\n",
      "trial didn't work 25\n",
      "trial didn't work 26\n",
      "trial didn't work 27\n",
      "trial didn't work 28\n",
      "trial didn't work 29\n",
      "trial didn't work 30\n",
      "trial didn't work 31\n",
      "trial didn't work 32\n",
      "trial didn't work 33\n",
      "trial didn't work 34\n",
      "trial didn't work 35\n",
      "trial didn't work 36\n",
      "trial didn't work 37\n",
      "trial didn't work 38\n",
      "trial didn't work 39\n",
      "trial didn't work 40\n",
      "trial didn't work 41\n",
      "trial didn't work 42\n",
      "trial didn't work 43\n",
      "trial didn't work 44\n",
      "trial didn't work 45\n",
      "trial didn't work 46\n",
      "trial didn't work 47\n",
      "trial didn't work 48\n",
      "trial didn't work 49\n",
      "trial didn't work 50\n",
      "trial didn't work 51\n",
      "trial didn't work 52\n",
      "trial didn't work 53\n",
      "trial didn't work 54\n",
      "trial didn't work 55\n",
      "trial didn't work 56\n",
      "trial didn't work 57\n",
      "trial didn't work 58\n",
      "trial didn't work 59\n",
      "trial didn't work 60\n",
      "trial didn't work 61\n",
      "trial didn't work 62\n",
      "trial didn't work 63\n",
      "trial didn't work 64\n",
      "trial didn't work 65\n",
      "trial didn't work 66\n",
      "trial didn't work 68\n",
      "trial didn't work 69\n",
      "trial didn't work 70\n",
      "trial didn't work 71\n",
      "trial didn't work 72\n",
      "7 square not found in either or both in  161228 c1\n",
      "trial didn't work 7\n",
      "trial didn't work 3\n",
      "trial didn't work 4\n",
      "trial didn't work 15\n",
      "trial didn't work 29\n",
      "trial didn't work 30\n",
      "trial didn't work 42\n",
      "trial didn't work 45\n",
      "trial didn't work 53\n",
      "trial didn't work 1\n",
      "trial didn't work 2\n",
      "trial didn't work 3\n",
      "trial didn't work 4\n",
      "trial didn't work 5\n",
      "trial didn't work 6\n",
      "trial didn't work 7\n",
      "trial didn't work 8\n",
      "trial didn't work 9\n",
      "trial didn't work 10\n",
      "trial didn't work 11\n",
      "trial didn't work 12\n",
      "trial didn't work 13\n",
      "trial didn't work 14\n",
      "trial didn't work 15\n",
      "trial didn't work 16\n",
      "trial didn't work 17\n",
      "trial didn't work 18\n",
      "trial didn't work 19\n",
      "trial didn't work 20\n",
      "trial didn't work 21\n",
      "trial didn't work 22\n",
      "trial didn't work 23\n",
      "trial didn't work 24\n",
      "trial didn't work 25\n",
      "trial didn't work 26\n",
      "trial didn't work 27\n",
      "trial didn't work 28\n",
      "trial didn't work 29\n",
      "trial didn't work 30\n",
      "trial didn't work 31\n",
      "trial didn't work 32\n",
      "trial didn't work 33\n",
      "trial didn't work 34\n",
      "trial didn't work 35\n",
      "trial didn't work 36\n",
      "trial didn't work 37\n",
      "trial didn't work 38\n",
      "trial didn't work 39\n",
      "trial didn't work 40\n",
      "trial didn't work 41\n",
      "trial didn't work 42\n",
      "trial didn't work 43\n",
      "trial didn't work 45\n",
      "trial didn't work 46\n",
      "trial didn't work 47\n",
      "trial didn't work 48\n",
      "trial didn't work 49\n",
      "trial didn't work 51\n",
      "trial didn't work 52\n",
      "trial didn't work 53\n",
      "trial didn't work 54\n",
      "trial didn't work 55\n",
      "trial didn't work 56\n",
      "trial didn't work 58\n",
      "trial didn't work 59\n",
      "trial didn't work 60\n",
      "trial didn't work 61\n",
      "trial didn't work 62\n",
      "trial didn't work 63\n",
      "trial didn't work 64\n",
      "trial didn't work 65\n",
      "trial didn't work 66\n",
      "trial didn't work 67\n",
      "trial didn't work 68\n",
      "trial didn't work 69\n",
      "trial didn't work 72\n"
     ]
    },
    {
     "data": {
      "image/png": "[encoded data removed]",
      "text/plain": [
       "<matplotlib.figure.Figure at 0x7fcc2f29e750>"
      ]
     },
     "metadata": {},
     "output_type": "display_data"
    },
    {
     "name": "stdout",
     "output_type": "stream",
     "text": [
      "402 331\n",
      "9 square not found in either or both in  160830 c1\n",
      "9 square not found in either or both in  160920 c1\n",
      "9 square not found in either or both in  160927 c5\n",
      "9 square not found in either or both in  160928 c4\n",
      "9 square not found in either or both in  161027 c3\n",
      "9 square not found in either or both in  161228 c1\n",
      "9 square not found in either or both in  170222 c2\n",
      "9 square not found in either or both in  170303 c1\n"
     ]
    },
    {
     "data": {
      "image/png": "[encoded data removed]",
      "text/plain": [
       "<matplotlib.figure.Figure at 0x7fcc2d5e8a90>"
      ]
     },
     "metadata": {},
     "output_type": "display_data"
    },
    {
     "name": "stdout",
     "output_type": "stream",
     "text": [
      "142 144\n"
     ]
    }
   ],
   "source": [
    "figure2(square=1)\n",
    "figure2(square=2)\n",
    "figure2(square=3)\n",
    "figure2(square=5)\n",
    "figure2(square=7)\n",
    "figure2(square=9)"
   ]
  },
  {
   "cell_type": "markdown",
   "metadata": {},
   "source": [
    "***\n",
    "## Different grid maps"
   ]
  },
  {
   "cell_type": "code",
   "execution_count": 92,
   "metadata": {
    "collapsed": true
   },
   "outputs": [],
   "source": [
    "def plotPhotostimGrid(ca1_neuron, gridEdge=12, title='',colorInside=False):\n",
    "    ''' Plots the photostimulation grid for the given cell'''\n",
    "    coordwise = ca1_neuron.experiment[\"Control\"][1].coordwise\n",
    "    epsp_dict = np.zeros((gridEdge,gridEdge))\n",
    "\n",
    "    for coord in coordwise:\n",
    "        epsp_dict[list(coord)[0]] = coordwise[coord].average_feature[0]\n",
    "    epsp_dict = np.ma.masked_where(epsp_dict == 0., epsp_dict)\n",
    "\n",
    "    fig, ax = plt.subplots()\n",
    "\n",
    "    # mark a specific square?\n",
    "    zeros = np.zeros_like(epsp_dict)\n",
    "    stim_coords = np.where(epsp_dict>0)\n",
    "    zeros[stim_coords] = 1.\n",
    "    c = np.ma.masked_array(zeros, zeros == 0.)  # mask squares where value == 1\n",
    "    if colorInside:\n",
    "        ax.pcolormesh(np.arange(gridEdge+1), np.arange(gridEdge+1), c, alpha=0.5, zorder=2, facecolor='gray', edgecolors='none',\n",
    "                    cmap='gray', linewidth=1.)\n",
    "    else:\n",
    "        ax.pcolormesh(np.arange(gridEdge+1), np.arange(gridEdge+1), c, alpha=0.5, zorder=2, facecolor='none', edgecolors='k',\n",
    "                    cmap='gray', linewidth=1.)\n",
    "    ax.invert_yaxis()\n",
    "    for axis in [ax.xaxis, ax.yaxis]:\n",
    "        axis.set_ticks(np.arange(1,gridEdge+1), minor=True)\n",
    "        axis.set(ticks=np.arange(0,gridEdge+1,2)+0.5, ticklabels=np.arange(0,gridEdge+1,2)) #Skipping square labels\n",
    "\n",
    "    ax.grid(True, which='minor', axis='both', linestyle='--', alpha=0.1, color='k')\n",
    "\n",
    "    ax.set_xlim((0,gridEdge+1))\n",
    "    ax.set_ylim((0,gridEdge+1))\n",
    "\n",
    "    ax.set_aspect(1)\n",
    "    simpleaxis(ax, every=True, outward=False)\n",
    "    ax.set_title(title)\n",
    "    fig.set_figheight(2.)\n",
    "    fig.set_figwidth(2.5)\n",
    "    return fig"
   ]
  },
  {
   "cell_type": "markdown",
   "metadata": {},
   "source": [
    "### Dense square grid (15 square edges)"
   ]
  },
  {
   "cell_type": "code",
   "execution_count": 99,
   "metadata": {},
   "outputs": [
    {
     "data": {
      "image/png": "[encoded data removed]",
      "text/plain": [
       "<matplotlib.figure.Figure at 0x7f25850c9810>"
      ]
     },
     "metadata": {},
     "output_type": "display_data"
    }
   ],
   "source": [
    "ca1_neuron = Neuron.load('/media/sahil/NCBS_Shares_BGStim/patch_data/150902/c2/plots/c2.pkl')\n",
    "fig = plotPhotostimGrid(ca1_neuron,gridEdge=15,title='225 point dense square grid')\n",
    "dump(fig,file('figures/supplementary/3_dense_225.pkl','wb'))\n",
    "plt.show(fig)"
   ]
  },
  {
   "cell_type": "markdown",
   "metadata": {},
   "source": [
    "### Dense square grid (13 square edges)"
   ]
  },
  {
   "cell_type": "code",
   "execution_count": 100,
   "metadata": {},
   "outputs": [
    {
     "data": {
      "image/png": "[encoded data removed]",
      "text/plain": [
       "<matplotlib.figure.Figure at 0x7f2583ea1610>"
      ]
     },
     "metadata": {},
     "output_type": "display_data"
    }
   ],
   "source": [
    "ca1_neuron = Neuron.load('/media/sahil/NCBS_Shares_BGStim/patch_data/160209/c4/plots/c4.pkl')\n",
    "fig = plotPhotostimGrid(ca1_neuron,gridEdge=13,title='169 point dense square grid')\n",
    "dump(fig,file('figures/supplementary/3_dense_169.pkl','wb'))\n",
    "plt.show(fig)"
   ]
  },
  {
   "cell_type": "markdown",
   "metadata": {},
   "source": [
    "### Dense circular grid (13 square edges)"
   ]
  },
  {
   "cell_type": "code",
   "execution_count": 101,
   "metadata": {},
   "outputs": [
    {
     "data": {
      "image/png": "[encoded data removed]",
      "text/plain": [
       "<matplotlib.figure.Figure at 0x7f2585bd7e50>"
      ]
     },
     "metadata": {},
     "output_type": "display_data"
    }
   ],
   "source": [
    "ca1_neuron = Neuron.load('/media/sahil/NCBS_Shares_BGStim/patch_data/160920/c1/plots/c1.pkl')\n",
    "fig = plotPhotostimGrid(ca1_neuron,gridEdge=13,title='112 point dense circular grid')\n",
    "dump(fig,file('figures/supplementary/3_dense_circle_112.pkl','wb'))\n",
    "plt.show(fig)"
   ]
  },
  {
   "cell_type": "markdown",
   "metadata": {},
   "source": [
    "### Sparse circular grid map"
   ]
  },
  {
   "cell_type": "code",
   "execution_count": 102,
   "metadata": {},
   "outputs": [
    {
     "data": {
      "image/png": "[encoded data removed]",
      "text/plain": [
       "<matplotlib.figure.Figure at 0x7f2584cbee90>"
      ]
     },
     "metadata": {},
     "output_type": "display_data"
    }
   ],
   "source": [
    "ca1_neuron = Neuron.load('/media/sahil/NCBS_Shares_BGStim/patch_data/161013/c1/plots/c1.pkl')\n",
    "fig = plotPhotostimGrid(ca1_neuron,gridEdge=12,title='24 point sparse circular grid')\n",
    "dump(fig,file('figures/supplementary/3_sparse_circle_24.pkl','wb'))\n",
    "plt.show(fig)"
   ]
  },
  {
   "cell_type": "code",
   "execution_count": 98,
   "metadata": {},
   "outputs": [
    {
     "data": {
      "image/png": "[encoded data removed]",
      "text/plain": [
       "<matplotlib.figure.Figure at 0x7f2584cda2d0>"
      ]
     },
     "metadata": {},
     "output_type": "display_data"
    }
   ],
   "source": [
    "ca1_neuron = Neuron.load('/media/sahil/NCBS_Shares_BGStim/patch_data/170303/c1/plots/c1.pkl')\n",
    "fig = plotPhotostimGrid(ca1_neuron,gridEdge=12,title='37 point diagonal sparse square grid', colorInside=True)\n",
    "dump(fig,file('figures/supplementary/3_sparse_37_diagonal.pkl','wb'))\n",
    "plt.show(fig)"
   ]
  },
  {
   "cell_type": "markdown",
   "metadata": {},
   "source": [
    "***\n",
    "## Getting kinetic parameters for conductance model"
   ]
  },
  {
   "cell_type": "code",
   "execution_count": 25,
   "metadata": {
    "collapsed": true
   },
   "outputs": [],
   "source": [
    "a = ['161220 c2_EI',\n",
    " '170510 c2_EI',\n",
    " '170524 c3_EI',\n",
    " '170524 c1_EI',\n",
    " '170530 c2_EI',\n",
    " '170530 c1_EI',\n",
    " '170531 c2_EI',\n",
    " '170531 c4_EI',\n",
    " '170531 c1_EI',\n",
    " '170720 c5_EI',\n",
    " '170720 c3_EI',\n",
    " '170720 c4_EI',\n",
    " '170720 c2_EI']\n",
    "dirnames = (['/home/bhalla/Documents/Codes/data/media/sahil/NCBS_Shares_BGStim/patch_data/' + '/'.join(j.split(' ')) + '/' for j in a])"
   ]
  },
  {
   "cell_type": "code",
   "execution_count": 26,
   "metadata": {},
   "outputs": [
    {
     "data": {
      "text/plain": [
       "['/home/bhalla/Documents/Codes/data/media/sahil/NCBS_Shares_BGStim/patch_data/161220/c2_EI/',\n",
       " '/home/bhalla/Documents/Codes/data/media/sahil/NCBS_Shares_BGStim/patch_data/170510/c2_EI/',\n",
       " '/home/bhalla/Documents/Codes/data/media/sahil/NCBS_Shares_BGStim/patch_data/170524/c3_EI/',\n",
       " '/home/bhalla/Documents/Codes/data/media/sahil/NCBS_Shares_BGStim/patch_data/170524/c1_EI/',\n",
       " '/home/bhalla/Documents/Codes/data/media/sahil/NCBS_Shares_BGStim/patch_data/170530/c2_EI/',\n",
       " '/home/bhalla/Documents/Codes/data/media/sahil/NCBS_Shares_BGStim/patch_data/170530/c1_EI/',\n",
       " '/home/bhalla/Documents/Codes/data/media/sahil/NCBS_Shares_BGStim/patch_data/170531/c2_EI/',\n",
       " '/home/bhalla/Documents/Codes/data/media/sahil/NCBS_Shares_BGStim/patch_data/170531/c4_EI/',\n",
       " '/home/bhalla/Documents/Codes/data/media/sahil/NCBS_Shares_BGStim/patch_data/170531/c1_EI/',\n",
       " '/home/bhalla/Documents/Codes/data/media/sahil/NCBS_Shares_BGStim/patch_data/170720/c5_EI/',\n",
       " '/home/bhalla/Documents/Codes/data/media/sahil/NCBS_Shares_BGStim/patch_data/170720/c3_EI/',\n",
       " '/home/bhalla/Documents/Codes/data/media/sahil/NCBS_Shares_BGStim/patch_data/170720/c4_EI/',\n",
       " '/home/bhalla/Documents/Codes/data/media/sahil/NCBS_Shares_BGStim/patch_data/170720/c2_EI/']"
      ]
     },
     "execution_count": 26,
     "metadata": {},
     "output_type": "execute_result"
    }
   ],
   "source": [
    "dirnames"
   ]
  },
  {
   "cell_type": "code",
   "execution_count": 27,
   "metadata": {},
   "outputs": [
    {
     "ename": "IOError",
     "evalue": "[Errno 2] No such file or directory: '/media/sahil/NCBS_Shares_BGStim/patch_data/voltage_clamp_files.txt'",
     "output_type": "error",
     "traceback": [
      "\u001b[0;31m---------------------------------------------------------------------------\u001b[0m",
      "\u001b[0;31mIOError\u001b[0m                                   Traceback (most recent call last)",
      "\u001b[0;32m<ipython-input-27-a4d606213aa2>\u001b[0m in \u001b[0;36m<module>\u001b[0;34m()\u001b[0m\n\u001b[1;32m      1\u001b[0m \u001b[0mvoltageClampFiles\u001b[0m \u001b[0;34m=\u001b[0m \u001b[0;34m'/media/sahil/NCBS_Shares_BGStim/patch_data/voltage_clamp_files.txt'\u001b[0m\u001b[0;34m\u001b[0m\u001b[0m\n\u001b[0;32m----> 2\u001b[0;31m \u001b[0;32mwith\u001b[0m \u001b[0mopen\u001b[0m \u001b[0;34m(\u001b[0m\u001b[0mvoltageClampFiles\u001b[0m\u001b[0;34m,\u001b[0m\u001b[0;34m'r'\u001b[0m\u001b[0;34m)\u001b[0m \u001b[0;32mas\u001b[0m \u001b[0mr\u001b[0m\u001b[0;34m:\u001b[0m\u001b[0;34m\u001b[0m\u001b[0m\n\u001b[0m\u001b[1;32m      3\u001b[0m     \u001b[0mdirnames\u001b[0m \u001b[0;34m=\u001b[0m \u001b[0mr\u001b[0m\u001b[0;34m.\u001b[0m\u001b[0mread\u001b[0m\u001b[0;34m(\u001b[0m\u001b[0;34m)\u001b[0m\u001b[0;34m.\u001b[0m\u001b[0msplitlines\u001b[0m\u001b[0;34m(\u001b[0m\u001b[0;34m)\u001b[0m\u001b[0;34m\u001b[0m\u001b[0m\n",
      "\u001b[0;31mIOError\u001b[0m: [Errno 2] No such file or directory: '/media/sahil/NCBS_Shares_BGStim/patch_data/voltage_clamp_files.txt'"
     ]
    }
   ],
   "source": [
    "voltageClampFiles = '/media/sahil/NCBS_Shares_BGStim/patch_data/voltage_clamp_files.txt'\n",
    "with open (voltageClampFiles,'r') as r:\n",
    "    dirnames = r.read().splitlines()"
   ]
  },
  {
   "cell_type": "code",
   "execution_count": 28,
   "metadata": {
    "collapsed": true
   },
   "outputs": [],
   "source": [
    "neurons = []\n",
    "for dirname in dirnames:\n",
    "    cellIndex = dirname.split('/')[-2]\n",
    "    filename = dirname + 'plots/' + cellIndex +  '_fits.pkl'\n",
    "    if os.path.exists(filename):\n",
    "        try:\n",
    "            neurons.append(Neuron.load(filename))\n",
    "        except:\n",
    "            print (\"Couldn't load file\")\n",
    "            pass"
   ]
  },
  {
   "cell_type": "code",
   "execution_count": 29,
   "metadata": {
    "collapsed": true
   },
   "outputs": [],
   "source": [
    "#Colorscheme for cells\n",
    "color_cell = matplotlib.cm.plasma(np.linspace(0,1,len(dirnames)))"
   ]
  },
  {
   "cell_type": "code",
   "execution_count": 30,
   "metadata": {},
   "outputs": [
    {
     "name": "stderr",
     "output_type": "stream",
     "text": [
      "/usr/local/lib/python2.7/dist-packages/ipykernel_launcher.py:43: RuntimeWarning: Mean of empty slice\n",
      "/usr/local/lib/python2.7/dist-packages/ipykernel_launcher.py:44: RuntimeWarning: Mean of empty slice\n",
      "/usr/local/lib/python2.7/dist-packages/ipykernel_launcher.py:45: RuntimeWarning: Mean of empty slice\n",
      "/usr/local/lib/python2.7/dist-packages/ipykernel_launcher.py:46: RuntimeWarning: Mean of empty slice\n",
      "/usr/local/lib/python2.7/dist-packages/ipykernel_launcher.py:22: RuntimeWarning: Mean of empty slice\n",
      "/usr/local/lib/python2.7/dist-packages/ipykernel_launcher.py:23: RuntimeWarning: Mean of empty slice\n",
      "/usr/local/lib/python2.7/dist-packages/ipykernel_launcher.py:24: RuntimeWarning: Mean of empty slice\n",
      "/usr/local/lib/python2.7/dist-packages/ipykernel_launcher.py:25: RuntimeWarning: Mean of empty slice\n"
     ]
    }
   ],
   "source": [
    "e_r, e_d, i_r, i_d, g_e, g_i, del_i = [], [], [], [], [], [], []\n",
    "for index, n in enumerate(neurons):\n",
    "    coord_e_r, coord_e_d, coord_i_r, coord_i_d, coord_g_e, coord_g_i, coord_e_t_0, coord_i_t_0 = {}, {}, {}, {}, {}, {}, {}, {}\n",
    "    for expType, experiment in n:\n",
    "        if expType == 1:\n",
    "            for sqr in experiment:\n",
    "                for coord in experiment[sqr].coordwise:\n",
    "                    coord_e_r[coord] = []\n",
    "                    coord_e_d[coord] = []\n",
    "                    coord_g_e[coord] = []\n",
    "                    coord_e_t_0[coord] = []\n",
    "                    for trial in experiment[sqr].coordwise[coord].trials:\n",
    "                        if hasattr(trial, 'fit'):\n",
    "                            if not trial.fit == None:\n",
    "#                                 e_r.append(trial.fit['tOn'].value)\n",
    "#                                 e_d.append(trial.fit['tOff'].value)\n",
    "#                                 g_e.append(trial.fit['g_max'].value)\n",
    "                                coord_e_r[coord].append(trial.fit['tOn'].value)\n",
    "                                coord_e_d[coord].append(trial.fit['tOff'].value)\n",
    "                                coord_g_e[coord].append(trial.fit['g_max'].value)\n",
    "                                coord_e_t_0[coord].append(trial.fit['t_0'].value)\n",
    "                    coord_e_r[coord] = np.nanmean(coord_e_r[coord])\n",
    "                    coord_e_d[coord] = np.nanmean(coord_e_d[coord])\n",
    "                    coord_g_e[coord] = np.nanmean(coord_g_e[coord])\n",
    "                    coord_e_t_0[coord] = np.nanmean(coord_e_t_0[coord])\n",
    "        if expType == 2:\n",
    "            for sqr in experiment:\n",
    "                for coord in experiment[sqr].coordwise:\n",
    "                    coord_i_r[coord] = []\n",
    "                    coord_i_d[coord] = []\n",
    "                    coord_g_i[coord] = []\n",
    "                    coord_i_t_0[coord] = []\n",
    "                    for trial in experiment[sqr].coordwise[coord].trials:\n",
    "                        if hasattr(trial, 'fit'):\n",
    "                            if not trial.fit == None:\n",
    "#                                 i_r.append(trial.fit['tOn'].value)\n",
    "#                                 i_d.append(trial.fit['tOff'].value)\n",
    "#                                 g_i.append(trial.fit['g_max'].value)\n",
    "                                coord_i_r[coord].append(trial.fit['tOn'].value)\n",
    "                                coord_i_d[coord].append(trial.fit['tOff'].value)\n",
    "                                coord_g_i[coord].append(trial.fit['g_max'].value)\n",
    "                                coord_i_t_0[coord].append(trial.fit['t_0'].value)\n",
    "                    coord_i_r[coord] = np.nanmean(coord_i_r[coord])\n",
    "                    coord_i_d[coord] = np.nanmean(coord_i_d[coord])\n",
    "                    coord_g_i[coord] = np.nanmean(coord_g_i[coord])\n",
    "                    coord_i_t_0[coord] = np.nanmean(coord_i_t_0[coord])\n",
    "        \n",
    "    for coord in coord_e_r:\n",
    "        if not any(np.isnan([coord_e_r[coord],coord_e_d[coord],coord_i_r[coord],coord_i_d[coord],coord_g_e[coord],coord_g_i[coord],coord_e_t_0[coord],coord_i_t_0[coord]])):\n",
    "            e_r.append(coord_e_r[coord])\n",
    "            e_d.append(coord_e_d[coord])\n",
    "            i_r.append(coord_i_r[coord])\n",
    "            i_d.append(coord_i_d[coord])\n",
    "            g_e.append(coord_g_e[coord])\n",
    "            g_i.append(coord_g_i[coord])\n",
    "            del_i.append(coord_i_t_0[coord] - coord_e_t_0[coord])"
   ]
  },
  {
   "cell_type": "code",
   "execution_count": 31,
   "metadata": {
    "collapsed": true
   },
   "outputs": [],
   "source": [
    "e_r, e_d, i_r, i_d, g_e, g_i, del_i = [np.array(x) for x in [e_r, e_d, i_r, i_d, g_e, g_i, del_i]]"
   ]
  },
  {
   "cell_type": "code",
   "execution_count": 32,
   "metadata": {},
   "outputs": [
    {
     "data": {
      "image/png": "[encoded data removed]",
      "text/plain": [
       "<matplotlib.figure.Figure at 0x7fcc303c53d0>"
      ]
     },
     "metadata": {},
     "output_type": "display_data"
    }
   ],
   "source": [
    "fig, ax = plt.subplots(2,2)\n",
    "\n",
    "ax[0][0].hist(e_r,color='purple')\n",
    "ax[0][1].hist(e_d,color='purple')\n",
    "ax[1][0].hist(i_r,color='k')\n",
    "ax[1][1].hist(i_d,color='k')\n",
    "\n",
    "ax[0][0].set_xticks([0.01, 0.03])\n",
    "ax[0][1].set_xticks([0.01, 0.03])\n",
    "ax[1][0].set_xticks([0.01, 0.04])\n",
    "ax[1][1].set_xticks([0.01, 0.06])\n",
    "\n",
    "ax[0][0].set_yticks([0, 50])\n",
    "ax[0][1].set_yticks([0, 50])\n",
    "ax[1][0].set_yticks([0, 50])\n",
    "ax[1][1].set_yticks([0, 50])\n",
    "\n",
    "cols = ['{}'.format(col) for col in [\"$\\\\tau_{rise} (ms)$\", \"$\\\\tau_{decay} (ms)$\"]]\n",
    "rows = ['{}'.format(row) for row in [\"Excitation \\n(#PSCs)\", \"Inhibition \\n(#PSCs)\"]]\n",
    "\n",
    "pad = 8 # in points\n",
    "\n",
    "for axis, col in zip(ax[0], cols):\n",
    "    axis.annotate(col, xy=(0.5, 1), xytext=(0, pad),\n",
    "                xycoords='axes fraction', textcoords='offset points',\n",
    "                size='large', ha='center', va='baseline')\n",
    "\n",
    "for axis, row in zip(ax[:,0], rows):\n",
    "    axis.annotate(row, xy=(0, 0.5), xytext=(-axis.yaxis.labelpad - pad, 0),\n",
    "                xycoords=axis.yaxis.label, textcoords='offset points',\n",
    "                size='large', ha='right', va='center')\n",
    "\n",
    "fig.subplots_adjust(left=0.15, top=0.95)\n",
    "simpleaxis(ax)\n",
    "fig.set_figwidth(2)\n",
    "fig.set_figheight(2)\n",
    "plt.tight_layout()\n",
    "dump(fig,file('figures/supplementary/7_time_course_all.pkl','wb'))\n",
    "plt.show(fig)"
   ]
  },
  {
   "cell_type": "code",
   "execution_count": 33,
   "metadata": {},
   "outputs": [
    {
     "name": "stdout",
     "output_type": "stream",
     "text": [
      "median = 0.007, quartiles = 0.005, 0.011\n",
      "median = 0.016, quartiles = 0.011, 0.020\n",
      "median = 0.013, quartiles = 0.005, 0.020\n",
      "median = 0.027, quartiles = 0.020, 0.038\n"
     ]
    }
   ],
   "source": [
    "print(\"median = {:.3f}, quartiles = {:.3f}, {:.3f}\".format(np.median(e_r), np.percentile(e_r, q=25), np.percentile(e_r, q=75)))\n",
    "print(\"median = {:.3f}, quartiles = {:.3f}, {:.3f}\".format(np.median(e_d), np.percentile(e_d, q=25), np.percentile(e_d, q=75)))\n",
    "print(\"median = {:.3f}, quartiles = {:.3f}, {:.3f}\".format(np.median(i_r), np.percentile(i_r, q=25), np.percentile(i_r, q=75)))\n",
    "print(\"median = {:.3f}, quartiles = {:.3f}, {:.3f}\".format(np.median(i_d), np.percentile(i_d, q=25), np.percentile(i_d, q=75)))"
   ]
  },
  {
   "cell_type": "code",
   "execution_count": 11,
   "metadata": {},
   "outputs": [
    {
     "data": {
      "text/plain": [
       "['161220 c2_EI',\n",
       " '170510 c2_EI',\n",
       " '170524 c3_EI',\n",
       " '170524 c1_EI',\n",
       " '170530 c2_EI',\n",
       " '170530 c1_EI',\n",
       " '170531 c2_EI',\n",
       " '170531 c4_EI',\n",
       " '170531 c1_EI',\n",
       " '170720 c5_EI',\n",
       " '170720 c3_EI',\n",
       " '170720 c4_EI',\n",
       " '170720 c2_EI']"
      ]
     },
     "execution_count": 11,
     "metadata": {},
     "output_type": "execute_result"
    }
   ],
   "source": [
    "[n.date + ' ' + n.index for n in neurons]"
   ]
  },
  {
   "cell_type": "markdown",
   "metadata": {},
   "source": [
    "### Example cell"
   ]
  },
  {
   "cell_type": "code",
   "execution_count": 64,
   "metadata": {},
   "outputs": [
    {
     "name": "stderr",
     "output_type": "stream",
     "text": [
      "/usr/local/lib/python2.7/dist-packages/ipykernel_launcher.py:45: RuntimeWarning: Mean of empty slice\n",
      "/usr/local/lib/python2.7/dist-packages/ipykernel_launcher.py:46: RuntimeWarning: Mean of empty slice\n",
      "/usr/local/lib/python2.7/dist-packages/ipykernel_launcher.py:47: RuntimeWarning: Mean of empty slice\n",
      "/usr/local/lib/python2.7/dist-packages/ipykernel_launcher.py:48: RuntimeWarning: Mean of empty slice\n"
     ]
    }
   ],
   "source": [
    "e_r, e_d, i_r, i_d, g_e, g_i, del_i = [], [], [], [], [], [], []\n",
    "sample_neurons = [neurons[6]]\n",
    "\n",
    "for index, n in enumerate(sample_neurons):\n",
    "    coord_e_r, coord_e_d, coord_i_r, coord_i_d, coord_g_e, coord_g_i, coord_e_t_0, coord_i_t_0 = {}, {}, {}, {}, {}, {}, {}, {}\n",
    "    for expType, experiment in n:\n",
    "        if expType == 1:\n",
    "            for sqr in experiment:\n",
    "                for coord in experiment[sqr].coordwise:\n",
    "                    coord_e_r[coord] = []\n",
    "                    coord_e_d[coord] = []\n",
    "                    coord_g_e[coord] = []\n",
    "                    coord_e_t_0[coord] = []\n",
    "                    for trial in experiment[sqr].coordwise[coord].trials:\n",
    "                        if hasattr(trial, 'fit'):\n",
    "                            if not trial.fit == None:\n",
    "#                                 e_r.append(trial.fit['tOn'].value)\n",
    "#                                 e_d.append(trial.fit['tOff'].value)\n",
    "#                                 g_e.append(trial.fit['g_max'].value)\n",
    "                                coord_e_r[coord].append(trial.fit['tOn'].value)\n",
    "                                coord_e_d[coord].append(trial.fit['tOff'].value)\n",
    "                                coord_g_e[coord].append(trial.fit['g_max'].value)\n",
    "                                coord_e_t_0[coord].append(trial.fit['t_0'].value)\n",
    "                    coord_e_r[coord] = np.nanmean(coord_e_r[coord])\n",
    "                    coord_e_d[coord] = np.nanmean(coord_e_d[coord])\n",
    "                    coord_g_e[coord] = np.nanmean(coord_g_e[coord])\n",
    "                    coord_e_t_0[coord] = np.nanmean(coord_e_t_0[coord])\n",
    "        if expType == 2:\n",
    "            for sqr in experiment:\n",
    "                for coord in experiment[sqr].coordwise:\n",
    "                    coord_i_r[coord] = []\n",
    "                    coord_i_d[coord] = []\n",
    "                    coord_g_i[coord] = []\n",
    "                    coord_i_t_0[coord] = []\n",
    "                    for trial in experiment[sqr].coordwise[coord].trials:\n",
    "                        if hasattr(trial, 'fit'):\n",
    "                            if not trial.fit == None:\n",
    "#                                 i_r.append(trial.fit['tOn'].value)\n",
    "#                                 i_d.append(trial.fit['tOff'].value)\n",
    "#                                 g_i.append(trial.fit['g_max'].value)\n",
    "                                coord_i_r[coord].append(trial.fit['tOn'].value)\n",
    "                                coord_i_d[coord].append(trial.fit['tOff'].value)\n",
    "                                coord_g_i[coord].append(trial.fit['g_max'].value)\n",
    "                                coord_i_t_0[coord].append(trial.fit['t_0'].value)\n",
    "                    coord_i_r[coord] = np.nanmean(coord_i_r[coord])\n",
    "                    coord_i_d[coord] = np.nanmean(coord_i_d[coord])\n",
    "                    coord_g_i[coord] = np.nanmean(coord_g_i[coord])\n",
    "                    coord_i_t_0[coord] = np.nanmean(coord_i_t_0[coord])\n",
    "        \n",
    "    for coord in coord_e_r:\n",
    "        if not any(np.isnan([coord_e_r[coord],coord_e_d[coord],coord_i_r[coord],coord_i_d[coord],coord_g_e[coord],coord_g_i[coord],coord_e_t_0[coord],coord_i_t_0[coord]])):\n",
    "            e_r.append(coord_e_r[coord])\n",
    "            e_d.append(coord_e_d[coord])\n",
    "            i_r.append(coord_i_r[coord])\n",
    "            i_d.append(coord_i_d[coord])\n",
    "            g_e.append(coord_g_e[coord])\n",
    "            g_i.append(coord_g_i[coord])\n",
    "            del_i.append(coord_i_t_0[coord] - coord_e_t_0[coord])"
   ]
  },
  {
   "cell_type": "code",
   "execution_count": 65,
   "metadata": {
    "collapsed": true
   },
   "outputs": [],
   "source": [
    "e_r, e_d, i_r, i_d, g_e, g_i, del_i = [np.array(x) for x in [e_r, e_d, i_r, i_d, g_e, g_i, del_i]]"
   ]
  },
  {
   "cell_type": "code",
   "execution_count": 66,
   "metadata": {},
   "outputs": [
    {
     "data": {
      "image/png": "[encoded data removed]",
      "text/plain": [
       "<matplotlib.figure.Figure at 0x7fcc2ed826d0>"
      ]
     },
     "metadata": {},
     "output_type": "display_data"
    }
   ],
   "source": [
    "fig, ax = plt.subplots(2,2)\n",
    "\n",
    "ax[0][0].hist(e_r*1e3,color='purple')\n",
    "ax[0][1].hist(e_d*1e3,color='purple')\n",
    "ax[1][0].hist(i_r*1e3,color='k')\n",
    "ax[1][1].hist(i_d*1e3,color='k')\n",
    "\n",
    "# ax[0][0].set_xticks([0.01, 0.03])\n",
    "# ax[0][1].set_xticks([0.01, 0.03])\n",
    "# ax[1][0].set_xticks([0.02, 0.04])\n",
    "# ax[1][1].set_xticks([0.04, 0.06])\n",
    "\n",
    "# ax[0][0].set_yticks([0, 4])\n",
    "# ax[0][1].set_yticks([0, 4])\n",
    "# ax[1][0].set_yticks([0, 5])\n",
    "# ax[1][1].set_yticks([0, 5])\n",
    "\n",
    "cols = ['{}'.format(col) for col in [\"$\\\\tau_{rise} (ms)$\", \"$\\\\tau_{decay} (ms)$\"]]\n",
    "rows = ['{}'.format(row) for row in [\"Excitation \\n(#PSCs)\", \"Inhibition \\n(#PSCs)\"]]\n",
    "\n",
    "pad = 8 # in points\n",
    "\n",
    "for axis, col in zip(ax[0], cols):\n",
    "    axis.annotate(col, xy=(0.5, 1), xytext=(0, pad),\n",
    "                xycoords='axes fraction', textcoords='offset points',\n",
    "                size='large', ha='center', va='baseline')\n",
    "\n",
    "for axis, row in zip(ax[:,0], rows):\n",
    "    axis.annotate(row, xy=(0, 0.5), xytext=(-axis.yaxis.labelpad - pad, 0),\n",
    "                xycoords=axis.yaxis.label, textcoords='offset points',\n",
    "                size='large', ha='right', va='center')\n",
    "\n",
    "fig.subplots_adjust(left=0.15, top=0.95)\n",
    "simpleaxis(ax)\n",
    "fig.set_figwidth(2)\n",
    "fig.set_figheight(2)\n",
    "plt.tight_layout()\n",
    "dump(fig,file('figures/supplementary/7_time_course_one_cell.pkl','wb'))\n",
    "plt.show(fig)"
   ]
  },
  {
   "cell_type": "code",
   "execution_count": 67,
   "metadata": {},
   "outputs": [
    {
     "name": "stdout",
     "output_type": "stream",
     "text": [
      "median = 0.007, quartiles = 0.006, 0.008\n",
      "median = 0.009, quartiles = 0.007, 0.010\n",
      "median = 0.005, quartiles = 0.004, 0.011\n",
      "median = 0.019, quartiles = 0.015, 0.022\n"
     ]
    }
   ],
   "source": [
    "print(\"median = {:.3f}, quartiles = {:.3f}, {:.3f}\".format(np.median(e_r), np.percentile(e_r, q=25), np.percentile(e_r, q=75)))\n",
    "print(\"median = {:.3f}, quartiles = {:.3f}, {:.3f}\".format(np.median(e_d), np.percentile(e_d, q=25), np.percentile(e_d, q=75)))\n",
    "print(\"median = {:.3f}, quartiles = {:.3f}, {:.3f}\".format(np.median(i_r), np.percentile(i_r, q=25), np.percentile(i_r, q=75)))\n",
    "print(\"median = {:.3f}, quartiles = {:.3f}, {:.3f}\".format(np.median(i_d), np.percentile(i_d, q=25), np.percentile(i_d, q=75)))"
   ]
  },
  {
   "cell_type": "code",
   "execution_count": 68,
   "metadata": {},
   "outputs": [
    {
     "data": {
      "image/png": "[encoded data removed]",
      "text/plain": [
       "<matplotlib.figure.Figure at 0x7fcc2f42bd10>"
      ]
     },
     "metadata": {},
     "output_type": "display_data"
    }
   ],
   "source": [
    "fig, ax = plt.subplots()\n",
    "ax.scatter(g_e*1e6, del_i*1e3)\n",
    "plt.show()"
   ]
  },
  {
   "cell_type": "markdown",
   "metadata": {},
   "source": [
    "### All cells together"
   ]
  },
  {
   "cell_type": "code",
   "execution_count": 85,
   "metadata": {},
   "outputs": [
    {
     "name": "stderr",
     "output_type": "stream",
     "text": [
      "/usr/local/lib/python2.7/dist-packages/ipykernel_launcher.py:46: RuntimeWarning: Mean of empty slice\n",
      "/usr/local/lib/python2.7/dist-packages/ipykernel_launcher.py:47: RuntimeWarning: Mean of empty slice\n",
      "/usr/local/lib/python2.7/dist-packages/ipykernel_launcher.py:48: RuntimeWarning: Mean of empty slice\n",
      "/usr/local/lib/python2.7/dist-packages/ipykernel_launcher.py:49: RuntimeWarning: Mean of empty slice\n",
      "/usr/local/lib/python2.7/dist-packages/ipykernel_launcher.py:25: RuntimeWarning: Mean of empty slice\n",
      "/usr/local/lib/python2.7/dist-packages/ipykernel_launcher.py:26: RuntimeWarning: Mean of empty slice\n",
      "/usr/local/lib/python2.7/dist-packages/ipykernel_launcher.py:27: RuntimeWarning: Mean of empty slice\n",
      "/usr/local/lib/python2.7/dist-packages/ipykernel_launcher.py:28: RuntimeWarning: Mean of empty slice\n"
     ]
    },
    {
     "data": {
      "image/png": "[encoded data removed]",
      "text/plain": [
       "<matplotlib.figure.Figure at 0x7fcc2f2763d0>"
      ]
     },
     "metadata": {},
     "output_type": "display_data"
    }
   ],
   "source": [
    "sample_neurons = neurons\n",
    "conductanceConversion = 70e-3 ## To divide by -70 mV gives conductace from currents.\n",
    "fig, ax = plt.subplots()\n",
    "for index, n in enumerate(sample_neurons):\n",
    "    e_r, e_d, i_r, i_d, g_e, g_i, del_i = [], [], [], [], [], [], []\n",
    "    coord_e_r, coord_e_d, coord_i_r, coord_i_d, coord_g_e, coord_g_i, coord_e_t_0, coord_i_t_0 = {}, {}, {}, {}, {}, {}, {}, {}\n",
    "    for expType, experiment in n:\n",
    "        if expType == 1:\n",
    "            for sqr in experiment:\n",
    "                for coord in experiment[sqr].coordwise:\n",
    "                    coord_e_r[coord] = []\n",
    "                    coord_e_d[coord] = []\n",
    "                    coord_g_e[coord] = []\n",
    "                    coord_e_t_0[coord] = []\n",
    "                    for trial in experiment[sqr].coordwise[coord].trials:\n",
    "                        if hasattr(trial, 'fit'):\n",
    "                            if not trial.fit == None:\n",
    "#                                 e_r.append(trial.fit['tOn'].value)\n",
    "#                                 e_d.append(trial.fit['tOff'].value)\n",
    "#                                 g_e.append(trial.fit['g_max'].value)\n",
    "                                coord_e_r[coord].append(trial.fit['tOn'].value)\n",
    "                                coord_e_d[coord].append(trial.fit['tOff'].value)\n",
    "                                coord_g_e[coord].append(trial.fit['g_max'].value)\n",
    "                                coord_e_t_0[coord].append(trial.fit['t_0'].value)\n",
    "                    coord_e_r[coord] = np.nanmean(coord_e_r[coord])\n",
    "                    coord_e_d[coord] = np.nanmean(coord_e_d[coord])\n",
    "                    coord_g_e[coord] = np.nanmean(coord_g_e[coord])\n",
    "                    coord_e_t_0[coord] = np.nanmean(coord_e_t_0[coord])\n",
    "        if expType == 2:\n",
    "            for sqr in experiment:\n",
    "                for coord in experiment[sqr].coordwise:\n",
    "                    coord_i_r[coord] = []\n",
    "                    coord_i_d[coord] = []\n",
    "                    coord_g_i[coord] = []\n",
    "                    coord_i_t_0[coord] = []\n",
    "                    for trial in experiment[sqr].coordwise[coord].trials:\n",
    "                        if hasattr(trial, 'fit'):\n",
    "                            if not trial.fit == None:\n",
    "#                                 i_r.append(trial.fit['tOn'].value)\n",
    "#                                 i_d.append(trial.fit['tOff'].value)\n",
    "#                                 g_i.append(trial.fit['g_max'].value)\n",
    "                                coord_i_r[coord].append(trial.fit['tOn'].value)\n",
    "                                coord_i_d[coord].append(trial.fit['tOff'].value)\n",
    "                                coord_g_i[coord].append(trial.fit['g_max'].value)\n",
    "                                coord_i_t_0[coord].append(trial.fit['t_0'].value)\n",
    "                    coord_i_r[coord] = np.nanmean(coord_i_r[coord])\n",
    "                    coord_i_d[coord] = np.nanmean(coord_i_d[coord])\n",
    "                    coord_g_i[coord] = np.nanmean(coord_g_i[coord])\n",
    "                    coord_i_t_0[coord] = np.nanmean(coord_i_t_0[coord])\n",
    "        \n",
    "    for coord in coord_e_r:\n",
    "        if not any(np.isnan([coord_e_r[coord],coord_e_d[coord],coord_i_r[coord],coord_i_d[coord],coord_g_e[coord],coord_g_i[coord],coord_e_t_0[coord],coord_i_t_0[coord]])):\n",
    "            e_r.append(coord_e_r[coord])\n",
    "            e_d.append(coord_e_d[coord])\n",
    "            i_r.append(coord_i_r[coord])\n",
    "            i_d.append(coord_i_d[coord])\n",
    "            g_e.append(coord_g_e[coord]/conductanceConversion)\n",
    "            g_i.append(coord_g_i[coord]/conductanceConversion)\n",
    "            del_i.append(coord_i_t_0[coord] - coord_e_t_0[coord])\n",
    "    \n",
    "    e_r, e_d, i_r, i_d, g_e, g_i, del_i = [np.array(x) for x in [e_r, e_d, i_r, i_d, g_e, g_i, del_i]]\n",
    "    g_e*=1e6 # Conductance conversion\n",
    "    del_i*=1e3 # Delay conversion\n",
    "    ax.scatter(g_e, del_i,s=5)\n",
    "    slope,intercept,rval,pval,stderr = ss.linregress(g_e, del_i)\n",
    "    ax.plot(g_e, slope* g_e + intercept)\n",
    "plt.ylim((-2.,15))               \n",
    "plt.show()"
   ]
  },
  {
   "cell_type": "markdown",
   "metadata": {},
   "source": [
    "***\n",
    "# Stuff not being used"
   ]
  },
  {
   "cell_type": "markdown",
   "metadata": {},
   "source": [
    "## Same thing with averaged out and paired responses, and removing points above 2 mV in GABAzine"
   ]
  },
  {
   "cell_type": "code",
   "execution_count": 24,
   "metadata": {
    "collapsed": true
   },
   "outputs": [],
   "source": [
    "def figure6(feature=0,square=1,cutoff=30):\n",
    "    ''' Looking at the one square distribution for GABAzine and Control coordwise'''\n",
    "    control_vmax = []\n",
    "    gabazine_vmax = []\n",
    "    \n",
    "    for neuron in neuronList:\n",
    "        if len(neuron.experiment)>1:\n",
    "            try:\n",
    "                control_coords = neuron.experiment[\"Control\"][square].coordwise\n",
    "                gabazine_coords = neuron.experiment[\"GABAzine\"][square].coordwise\n",
    "                for coord in list(set(control_coords) & set(gabazine_coords)):\n",
    "                    try:\n",
    "                        if control_coords[coord].average_feature[feature] and gabazine_coords[coord].average_feature[feature]:\n",
    "                            control_vmax.append(control_coords[coord].average_feature[feature])\n",
    "                            gabazine_vmax.append(gabazine_coords[coord].average_feature[feature])\n",
    "                    except:\n",
    "                        print (\"coord didn't work\", coord)\n",
    "            except:\n",
    "                square, (\"square wasn't there\")\n",
    "    \n",
    "    control_vmax, gabazine_vmax = np.array(control_vmax), np.array(gabazine_vmax)\n",
    "    idx = np.argsort(gabazine_vmax)\n",
    "    print (\"Control v_max is larger for {} points\".format(len(np.where(control_vmax>2)[0])))\n",
    "    control_vmax, gabazine_vmax = control_vmax[idx], gabazine_vmax[idx]\n",
    "    print (len(control_vmax))\n",
    "    # Picking a fraction\n",
    "    \n",
    "    p = np.poly1d(np.polyfit(range(len(control_vmax)), control_vmax, 2))\n",
    "                  \n",
    "    maxVmax = cutoff\n",
    "    maxVmax_index = np.where(gabazine_vmax>maxVmax)[0][0]\n",
    "    \n",
    "    plt.plot(control_vmax,'.', label=\"Control\")\n",
    "    plt.plot(gabazine_vmax,'.', label=\"GABAzine\")\n",
    "    plt.hlines(maxVmax, 0, len(control_vmax),linestyles='--')\n",
    "    plt.plot(range(len(control_vmax)), p(range(len(control_vmax))), label=\"polynomial fit\")\n",
    "    plt.legend()\n",
    "    plt.show()\n",
    "    \n",
    "    #maxVmax_index = 652\n",
    "    print( maxVmax_index)\n",
    "    alpha = 1.0\n",
    "    control_vmax, gabazine_vmax = control_vmax[:maxVmax_index], gabazine_vmax[:maxVmax_index]\n",
    "    \n",
    "    print( len(control_vmax))\n",
    "    \n",
    "    bins = np.linspace(-0.5, 10.0, 42)\n",
    "    plt.hist(control_vmax, bins=bins, label=\"Control\", alpha=alpha, cumulative=True, histtype='step')\n",
    "    plt.hist(gabazine_vmax, bins=bins, label=\"GABAzine\", alpha=alpha, cumulative=True, histtype='step')\n",
    "    plt.title(\"Comparing one square distributions for Control and GABAzine\")\n",
    "    plt.xlabel(\"$V_{max}$\")\n",
    "    plt.ylabel(\"Frequency\")\n",
    "    plt.legend()\n",
    "    plt.show()\n",
    "    \n",
    "    plt.hist(control_vmax/gabazine_vmax, bins=bins, label=\"Control/GABAzine\", alpha=0.2)\n",
    "    plt.vlines(1, 0,130)\n",
    "    plt.title(\"Control/GABAzine\")\n",
    "    plt.xlabel(\"$V_{max}$\")\n",
    "    plt.ylabel(\"Frequency\")\n",
    "    plt.legend()\n",
    "    plt.show()\n",
    "    \n",
    "    slope, intercept, r_value, p_value, std_err = ss.linregress(control_vmax, gabazine_vmax)\n",
    "    control_range = np.linspace(np.min(control_vmax), np.max(control_vmax), 100)\n",
    "    plt.scatter(control_vmax, gabazine_vmax, c=np.log(control_vmax/gabazine_vmax))\n",
    "    plt.plot(control_range, control_range*slope + intercept, label=\"${:.1f}*x + {:.1f}, r^2= {:0.2f} $\".format(slope, intercept, r_value))\n",
    "    plt.xlim((-0.5,9))\n",
    "    plt.ylim((-0.5,9))\n",
    "    plt.xlabel(\"Control\")\n",
    "    plt.ylabel(\"GABAzine\")\n",
    "    plt.colorbar()\n",
    "    plt.legend()\n",
    "    plt.show()\n",
    "    \n",
    "    print( ss.ttest_rel(control_vmax, gabazine_vmax))\n",
    "    \n",
    "    d,pval = ss.ks_2samp(control_vmax, gabazine_vmax)\n",
    "    print (d, pval)"
   ]
  },
  {
   "cell_type": "code",
   "execution_count": 25,
   "metadata": {
    "scrolled": false
   },
   "outputs": [
    {
     "name": "stdout",
     "output_type": "stream",
     "text": [
      "Control v_max is larger for 60 points\n",
      "441\n"
     ]
    },
    {
     "name": "stderr",
     "output_type": "stream",
     "text": [
      "/usr/local/lib/python2.7/dist-packages/ipykernel_launcher.py:31: RuntimeWarning: invalid value encountered in greater\n"
     ]
    },
    {
     "data": {
      "image/png": "[encoded data removed]",
      "text/plain": [
       "<matplotlib.figure.Figure at 0x7fb049e182d0>"
      ]
     },
     "metadata": {},
     "output_type": "display_data"
    },
    {
     "name": "stdout",
     "output_type": "stream",
     "text": [
      "424\n",
      "424\n"
     ]
    },
    {
     "data": {
      "image/png": "[encoded data removed]",
      "text/plain": [
       "<matplotlib.figure.Figure at 0x7fb042d45250>"
      ]
     },
     "metadata": {},
     "output_type": "display_data"
    },
    {
     "data": {
      "image/png": "[encoded data removed]",
      "text/plain": [
       "<matplotlib.figure.Figure at 0x7fb0497acd10>"
      ]
     },
     "metadata": {},
     "output_type": "display_data"
    },
    {
     "name": "stderr",
     "output_type": "stream",
     "text": [
      "/usr/local/lib/python2.7/dist-packages/ipykernel_launcher.py:66: RuntimeWarning: invalid value encountered in log\n"
     ]
    },
    {
     "data": {
      "image/png": "[encoded data removed]",
      "text/plain": [
       "<matplotlib.figure.Figure at 0x7fb042b42610>"
      ]
     },
     "metadata": {},
     "output_type": "display_data"
    },
    {
     "name": "stdout",
     "output_type": "stream",
     "text": [
      "Ttest_relResult(statistic=-4.6432476919675985, pvalue=4.5843115065217777e-06)\n",
      "(0.08254716981132082, 0.10571652277278028)\n",
      "Control v_max is larger for 23 points\n",
      "48\n"
     ]
    },
    {
     "data": {
      "image/png": "[encoded data removed]",
      "text/plain": [
       "<matplotlib.figure.Figure at 0x7fb042e70690>"
      ]
     },
     "metadata": {},
     "output_type": "display_data"
    },
    {
     "name": "stdout",
     "output_type": "stream",
     "text": [
      "37\n",
      "37\n"
     ]
    },
    {
     "data": {
      "image/png": "[encoded data removed]",
      "text/plain": [
       "<matplotlib.figure.Figure at 0x7fb0428deed0>"
      ]
     },
     "metadata": {},
     "output_type": "display_data"
    },
    {
     "data": {
      "image/png": "[encoded data removed]",
      "text/plain": [
       "<matplotlib.figure.Figure at 0x7fb0428d9f90>"
      ]
     },
     "metadata": {},
     "output_type": "display_data"
    },
    {
     "data": {
      "image/png": "[encoded data removed]",
      "text/plain": [
       "<matplotlib.figure.Figure at 0x7fb042867b10>"
      ]
     },
     "metadata": {},
     "output_type": "display_data"
    },
    {
     "name": "stdout",
     "output_type": "stream",
     "text": [
      "Ttest_relResult(statistic=-19.623179395486119, pvalue=8.2073182390971487e-21)\n",
      "(1.0, 1.336630424722758e-17)\n"
     ]
    }
   ],
   "source": [
    "figure6(square=1,cutoff=5)\n",
    "figure6(square=9, cutoff=8)"
   ]
  },
  {
   "cell_type": "markdown",
   "metadata": {},
   "source": [
    "## Testing"
   ]
  },
  {
   "cell_type": "code",
   "execution_count": 26,
   "metadata": {
    "collapsed": true
   },
   "outputs": [],
   "source": [
    "from sklearn.metrics import mutual_info_score\n",
    "\n",
    "def calc_MI(x, y, bins=50): # Just to start with.\n",
    "    c_xy = np.histogram2d(x, y)[0] # , bins\n",
    "    mi = mutual_info_score(None, None, contingency=c_xy)\n",
    "    return mi\n",
    "\n",
    "def figure4():\n",
    "    ''' Mutual information between the time to spike and expected excitation '''\n",
    "    mut_OE = []\n",
    "    mut_TE = []\n",
    "    ratio = []\n",
    "    numNeurons = 0\n",
    "    for neuron in neuronList:\n",
    "        expected = []\n",
    "        observed = []\n",
    "        time_peak = []\n",
    "        for experiment in neuron.experiment:\n",
    "            if experiment == \"Control\":            \n",
    "                for numSq in neuron.experiment[experiment]:\n",
    "                    if numSq>1:\n",
    "                        numNeurons+=1\n",
    "                        coordwise = neuron.experiment[experiment][numSq].coordwise\n",
    "                        for coord in coordwise:\n",
    "                            for trial in coordwise[coord].trials:\n",
    "                                try:\n",
    "                                    if len(coordwise[coord].trials)>1:\n",
    "                                            expected.append(coordwise[coord].expected_feature[0])\n",
    "                                            observed.append(trial.feature[0])\n",
    "                                            time_peak.append(trial.feature[3])\n",
    "                                    else:\n",
    "                                        print len(coordwise[coord].trials)\n",
    "                                except:\n",
    "                                    pass\n",
    "        if len(observed) and len(expected) and len(time_peak):\n",
    "            mut_OE.append(calc_MI(observed, expected))\n",
    "            mut_TE.append(calc_MI(time_peak, expected))\n",
    "            ratio.append(mut_OE[-1]/mut_TE[-1])\n",
    "            print ratio[-1]\n",
    "    #plt.hist(mut_OE)\n",
    "    #plt.hist(mut_TE)\n",
    "    plt.hist(ratio)\n",
    "    plt.show()"
   ]
  },
  {
   "cell_type": "code",
   "execution_count": 27,
   "metadata": {},
   "outputs": [
    {
     "data": {
      "text/plain": [
       "0.8402457757296466"
      ]
     },
     "execution_count": 27,
     "metadata": {},
     "output_type": "execute_result"
    }
   ],
   "source": [
    "547/651."
   ]
  },
  {
   "cell_type": "markdown",
   "metadata": {},
   "source": [
    "### Range expansion rationale"
   ]
  },
  {
   "cell_type": "code",
   "execution_count": 29,
   "metadata": {},
   "outputs": [
    {
     "data": {
      "image/png": "[encoded data removed]",
      "text/plain": [
       "<matplotlib.figure.Figure at 0x7f4798f78a90>"
      ]
     },
     "metadata": {},
     "output_type": "display_data"
    }
   ],
   "source": [
    "x_range = np.linspace(0,1,100)\n",
    "fig, ax = plt.subplots()\n",
    "ax.plot(x_range, np.square(x_range), label=\"$E^2$\",linewidth=2)\n",
    "ax.plot(x_range, 0.2 * x_range, label=\"$0.2 \\\\times E$\",linewidth=2)\n",
    "simpleaxis(ax,outward=True)\n",
    "ax.set_xlabel(\"x\")\n",
    "ax.set_ylabel(\"$f(x)$\",rotation=0,labelpad=10)\n",
    "ax.set_xticks([0,0.5,1])\n",
    "ax.set_yticks([0,0.5,1])\n",
    "fig.set_figwidth(1.5)\n",
    "fig.set_figheight(1.5)\n",
    "plt.legend(fontsize=8)\n",
    "dump(fig,file('figures/supplementary/s5_range_expansion_rationale.pkl','wb'))\n",
    "plt.show(fig)"
   ]
  },
  {
   "cell_type": "code",
   "execution_count": null,
   "metadata": {
    "collapsed": true
   },
   "outputs": [],
   "source": []
  }
 ],
 "metadata": {
  "hide_input": false,
  "kernelspec": {
   "display_name": "Python 2",
   "language": "python",
   "name": "python2"
  },
  "language_info": {
   "codemirror_mode": {
    "name": "ipython",
    "version": 2
   },
   "file_extension": ".py",
   "mimetype": "text/x-python",
   "name": "python",
   "nbconvert_exporter": "python",
   "pygments_lexer": "ipython2",
   "version": "2.7.12"
  },
  "toc": {
   "colors": {
    "hover_highlight": "#DAA520",
    "navigate_num": "#000000",
    "navigate_text": "#333333",
    "running_highlight": "#FF0000",
    "selected_highlight": "#FFD700",
    "sidebar_border": "#EEEEEE",
    "wrapper_background": "#FFFFFF"
   },
   "moveMenuLeft": true,
   "nav_menu": {
    "height": "243px",
    "width": "252px"
   },
   "navigate_menu": true,
   "number_sections": true,
   "sideBar": true,
   "threshold": 4,
   "toc_cell": false,
   "toc_position": {
    "height": "859px",
    "left": "0px",
    "right": "1643px",
    "top": "106px",
    "width": "212px"
   },
   "toc_section_display": "block",
   "toc_window_display": true,
   "widenNotebook": false
  },
  "varInspector": {
   "cols": {
    "lenName": 16,
    "lenType": 16,
    "lenVar": 40
   },
   "kernels_config": {
    "python": {
     "delete_cmd_postfix": "",
     "delete_cmd_prefix": "del ",
     "library": "var_list.py",
     "varRefreshCmd": "print(var_dic_list())"
    },
    "r": {
     "delete_cmd_postfix": ") ",
     "delete_cmd_prefix": "rm(",
     "library": "var_list.r",
     "varRefreshCmd": "cat(var_dic_list()) "
    }
   },
   "types_to_exclude": [
    "module",
    "function",
    "builtin_function_or_method",
    "instance",
    "_Feature"
   ],
   "window_display": false
  }
 },
 "nbformat": 4,
 "nbformat_minor": 2
}
