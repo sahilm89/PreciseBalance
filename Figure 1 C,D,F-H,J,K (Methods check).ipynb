{
 "cells": [
  {
   "cell_type": "code",
   "execution_count": 3,
   "metadata": {
    "collapsed": true
   },
   "outputs": [],
   "source": [
    "import sys\n",
    "sys.path.append(\"../\")\n",
    "import glob\n",
    "import matplotlib\n",
    "import matplotlib.pyplot as plt\n",
    "from matplotlib.colors import LinearSegmentedColormap\n",
    "import numpy as np\n",
    "from Linearity import Neuron\n",
    "from IPython.display import set_matplotlib_formats\n",
    "import scipy.stats as ss\n",
    "from pickle import dump, load\n",
    "plt.style.use('neuron')"
   ]
  },
  {
   "cell_type": "code",
   "execution_count": 4,
   "metadata": {
    "collapsed": true
   },
   "outputs": [],
   "source": [
    "def simpleaxis(axes, every=False, outward=False):\n",
    "    if not isinstance(axes, (list, np.ndarray)):\n",
    "        axes = [axes]\n",
    "    for ax in axes:\n",
    "        ax.spines['top'].set_visible(False)\n",
    "        ax.spines['right'].set_visible(False)\n",
    "        if (outward):\n",
    "            ax.spines['bottom'].set_position(('outward', 10))\n",
    "            ax.spines['left'].set_position(('outward', 10))\n",
    "        if every:\n",
    "            ax.spines['bottom'].set_visible(False)\n",
    "            ax.spines['left'].set_visible(False)\n",
    "        ax.get_xaxis().tick_bottom()\n",
    "        ax.get_yaxis().tick_left()\n",
    "        ax.set_title('')"
   ]
  },
  {
   "cell_type": "markdown",
   "metadata": {},
   "source": [
    "## 1 B (CA3 heatmap)"
   ]
  },
  {
   "cell_type": "code",
   "execution_count": 3,
   "metadata": {
    "collapsed": true
   },
   "outputs": [],
   "source": [
    "ca3_neuron = Neuron.load('/media/sahil/NCBS_Shares_BGStim/patch_data/160927/c4_CA3_CPP/plots/c4_CA3_CPP.pkl')"
   ]
  },
  {
   "cell_type": "code",
   "execution_count": 4,
   "metadata": {},
   "outputs": [
    {
     "name": "stderr",
     "output_type": "stream",
     "text": [
      "/usr/local/lib/python2.7/dist-packages/ipykernel_launcher.py:12: RuntimeWarning: Mean of empty slice\n",
      "  if sys.path[0] == '':\n"
     ]
    }
   ],
   "source": [
    "AP_dict = np.zeros((12,12))\n",
    "SubThP_dict = np.zeros((12,12))\n",
    "for expType, exp in ca3_neuron:\n",
    "    if expType == \"Control\":\n",
    "        for coord in exp[1].coordwise:\n",
    "            temp_coord = []\n",
    "            temp_value = []\n",
    "            for trial in exp[1].coordwise[coord].trials:\n",
    "                temp_coord.append(trial.AP_flag)\n",
    "                if not trial.AP_flag:\n",
    "                    temp_value.append(trial.feature[0])\n",
    "            SubThP_dict[list(coord)[0]] = np.nanmean(temp_value)        \n",
    "            AP_dict[list(coord)[0]] = np.nansum(temp_coord)"
   ]
  },
  {
   "cell_type": "code",
   "execution_count": 5,
   "metadata": {
    "scrolled": true
   },
   "outputs": [
    {
     "name": "stderr",
     "output_type": "stream",
     "text": [
      "/usr/local/lib/python2.7/dist-packages/ipykernel_launcher.py:14: RuntimeWarning: invalid value encountered in greater\n",
      "  \n",
      "/usr/local/lib/python2.7/dist-packages/matplotlib/colors.py:496: RuntimeWarning: invalid value encountered in less\n",
      "  cbook._putmask(xa, xa < 0.0, -1)\n"
     ]
    },
    {
     "data": {
      "image/png": "[encoded data removed]",
      "text/plain": [
       "<matplotlib.figure.Figure at 0x7fb0b4799d50>"
      ]
     },
     "metadata": {},
     "output_type": "display_data"
    }
   ],
   "source": [
    "SubThP_dict = np.ma.masked_where(SubThP_dict == 0., SubThP_dict)\n",
    "\n",
    "vmax = np.nanmax(SubThP_dict)\n",
    "vmin = np.nanmin(SubThP_dict)\n",
    "cmap = LinearSegmentedColormap.from_list('CA3_reds', [(0., 'white'), (1., (170/256., 0, 0))])\n",
    "cmap.set_bad(color='white')\n",
    "\n",
    "\n",
    "fig, ax = plt.subplots()\n",
    "heatmap = ax.pcolormesh(SubThP_dict, cmap=cmap, vmin=vmin, vmax=vmax)\n",
    "\n",
    "# mark a specific square?\n",
    "zeros = np.zeros((12,12))\n",
    "stim_coords = np.where(SubThP_dict>0)\n",
    "zeros[stim_coords] = 1.\n",
    "stim_coords = np.where(AP_dict>0)\n",
    "zeros[stim_coords] = 1.\n",
    "\n",
    "c = np.ma.masked_array(zeros, zeros == 0.)  # mask squares where value == 1\n",
    "ax.pcolormesh(np.arange(13), np.arange(13), c, alpha=0.5, zorder=2, facecolor='none', edgecolors='k',\n",
    "               cmap='gray', linewidth=1.)\n",
    "\n",
    "for y in range(AP_dict.shape[0]):\n",
    "    for x in range(AP_dict.shape[1]):\n",
    "        if AP_dict[y, x] > 0:\n",
    "            plt.text(x + 0.5, y + 0.5, \"{}\".format(int(AP_dict[y, x])),\n",
    "                     horizontalalignment='center',\n",
    "                     verticalalignment='center', size=10)\n",
    "\n",
    "circle1 = plt.Circle((5.5, 7.5), 0.75, color='r', fill=False)\n",
    "\n",
    "ax.invert_yaxis()\n",
    "for axis in [ax.xaxis, ax.yaxis]:\n",
    "    axis.set_ticks(np.arange(1,13), minor=True)\n",
    "    axis.set(ticks=np.arange(0,13,2)+0.5, ticklabels=np.arange(0,13,2)) #Skipping square labels\n",
    "\n",
    "ax.grid(True, which='minor', axis='both', linestyle='--', alpha=0.1, color='k')\n",
    "ax.set_xlim((0,13))\n",
    "ax.set_ylim((0,13))\n",
    "\n",
    "#Colorbar stuff\n",
    "cbar = plt.colorbar(heatmap, label=\"Average response (mV)\")\n",
    "cbar.ax.get_yaxis().labelpad = 6\n",
    "tick_locator = matplotlib.ticker.MaxNLocator(nbins=5)\n",
    "cbar.locator = tick_locator\n",
    "cbar.update_ticks()\n",
    "\n",
    "ax.add_artist(circle1)\n",
    "ax.set_aspect(1)\n",
    "fig.set_figheight(2.)\n",
    "fig.set_figwidth(2.5)\n",
    "simpleaxis(ax,every=True,outward=False)\n",
    "dump(fig,file('figures/fig1/1b.pkl','wb'))\n",
    "plt.show()"
   ]
  },
  {
   "cell_type": "code",
   "execution_count": 6,
   "metadata": {},
   "outputs": [
    {
     "data": {
      "text/plain": [
       "masked_array(data =\n",
       " [[-- -- -- -- -- -- -- -- -- -- -- --]\n",
       " [-- -- -- -- -- 6.14416344370693 -- 8.269799757748842 -- -- -- --]\n",
       " [-- -- -- -- -- -- -- -- -- -- -- --]\n",
       " [-- -- -- 3.1626716097816825 -- 6.810883412603289 -- 12.007118083536625 --\n",
       "  7.69824803294614 -- --]\n",
       " [-- -- -- -- -- -- -- -- -- -- -- --]\n",
       " [-- 2.3243233310058713 -- 4.665551430545747 -- 11.868490874767303 --\n",
       "  11.214277539402246 -- 5.984869498293847 -- 4.456282816361636]\n",
       " [-- -- -- -- -- -- -- -- -- -- -- --]\n",
       " [-- 2.198784192558378 -- 7.19675592565909 -- nan -- nan --\n",
       "  6.962982543744147 -- 5.9837163425982]\n",
       " [-- -- -- -- -- -- -- -- -- -- -- --]\n",
       " [-- -- -- 2.78597881924361 -- 5.524707886856049 -- 7.250924390275031 --\n",
       "  5.279446817934513 -- --]\n",
       " [-- -- -- -- -- -- -- -- -- -- -- --]\n",
       " [-- -- -- -- -- 2.3613553876057267 -- 3.7182261259295046 -- -- -- --]],\n",
       "             mask =\n",
       " [[ True  True  True  True  True  True  True  True  True  True  True  True]\n",
       " [ True  True  True  True  True False  True False  True  True  True  True]\n",
       " [ True  True  True  True  True  True  True  True  True  True  True  True]\n",
       " [ True  True  True False  True False  True False  True False  True  True]\n",
       " [ True  True  True  True  True  True  True  True  True  True  True  True]\n",
       " [ True False  True False  True False  True False  True False  True False]\n",
       " [ True  True  True  True  True  True  True  True  True  True  True  True]\n",
       " [ True False  True False  True False  True False  True False  True False]\n",
       " [ True  True  True  True  True  True  True  True  True  True  True  True]\n",
       " [ True  True  True False  True False  True False  True False  True  True]\n",
       " [ True  True  True  True  True  True  True  True  True  True  True  True]\n",
       " [ True  True  True  True  True False  True False  True  True  True  True]],\n",
       "       fill_value = 1e+20)"
      ]
     },
     "execution_count": 6,
     "metadata": {},
     "output_type": "execute_result"
    }
   ],
   "source": [
    "SubThP_dict"
   ]
  },
  {
   "cell_type": "markdown",
   "metadata": {},
   "source": [
    "## 1 E (CA3 jitter) Example cell"
   ]
  },
  {
   "cell_type": "code",
   "execution_count": 7,
   "metadata": {},
   "outputs": [
    {
     "name": "stdout",
     "output_type": "stream",
     "text": [
      "2.72904410164\n"
     ]
    },
    {
     "data": {
      "image/png": "[encoded data removed]",
      "text/plain": [
       "<matplotlib.figure.Figure at 0x7fb0b4e08d10>"
      ]
     },
     "metadata": {},
     "output_type": "display_data"
    }
   ],
   "source": [
    "fig, ax = plt.subplots()\n",
    "AP_dict = np.zeros((12,12))\n",
    "tsp = []\n",
    "initTime = 1800\n",
    "for expType, exp in ca3_neuron:\n",
    "    if expType == \"Control\":\n",
    "        for trial in exp[1].coordwise[frozenset([(7,5)])].trials:\n",
    "            totalWindow = exp[1].marginOfInterest[1] - exp[1].marginOfBaseline[0]\n",
    "            totalTime = np.linspace(0., (totalWindow*1e3/exp[1].F_sample), totalWindow)\n",
    "            photodiode = trial.photodiode[exp[1].marginOfBaseline[0]: exp[1].marginOfInterest[1]]*5e1\n",
    "            voltage = trial.voltage[exp[1].marginOfBaseline[0]: exp[1].marginOfInterest[1]]*1e3\n",
    "            ax.plot(totalTime[initTime:], voltage[initTime:], color=(170/256., 0, 0))\n",
    "            ax.plot(totalTime[initTime:], photodiode[initTime:] - 90, color='b')\n",
    "            tsp.append(totalTime[np.argmax(voltage)])\n",
    "ax.set_xlabel(\"Time\")\n",
    "ax.set_ylabel(\"$V_m$\")\n",
    "ax.plot(tsp, [50]*len(tsp), 'k|', markersize=5)\n",
    "print(np.std(tsp, ddof = 1))\n",
    "fig.set_figheight(1.5)\n",
    "fig.set_figwidth(1.5)\n",
    "simpleaxis(ax)\n",
    "ax.xaxis.set_tick_params(size=2)\n",
    "ax.yaxis.set_tick_params(size=2)\n",
    "dump(fig,file('figures/fig1/1e.pkl','wb'))\n",
    "plt.show()"
   ]
  },
  {
   "cell_type": "markdown",
   "metadata": {},
   "source": [
    "### Jitter example cell"
   ]
  },
  {
   "cell_type": "code",
   "execution_count": 8,
   "metadata": {},
   "outputs": [
    {
     "data": {
      "image/png": "[encoded data removed]",
      "text/plain": [
       "<matplotlib.figure.Figure at 0x7fb0b4ed12d0>"
      ]
     },
     "metadata": {},
     "output_type": "display_data"
    }
   ],
   "source": [
    "fig, ax = plt.subplots()\n",
    "AP_dict = np.zeros((12,12))\n",
    "jitter = []\n",
    "for expType, exp in ca3_neuron:\n",
    "    if expType == \"Control\":\n",
    "        for coord in exp[1].coordwise:\n",
    "            tsp = []\n",
    "            for trial in exp[1].coordwise[coord].trials:\n",
    "                time = np.linspace(0,100,len(trial.interestWindow))\n",
    "                tsp.append(time[np.argmax(trial.interestWindow)])\n",
    "            jitter.append(np.std(tsp, ddof = 1))\n",
    "ax.set_xlabel(\"CA3 jitter (ms)\")\n",
    "ax.set_ylabel(\"# trials\")\n",
    "bins = np.linspace(0,5,20)\n",
    "ax.hist(jitter, bins=bins)\n",
    "ax.set_xlim((0,5))\n",
    "fig.set_figheight(1.5)\n",
    "fig.set_figwidth(1.5)\n",
    "simpleaxis(ax)\n",
    "# dump(fig,file('figures/fig1/1f.pkl','wb'))\n",
    "plt.show()"
   ]
  },
  {
   "cell_type": "markdown",
   "metadata": {},
   "source": [
    "## 1 F (CA3 jitter distribution)"
   ]
  },
  {
   "cell_type": "code",
   "execution_count": 6,
   "metadata": {},
   "outputs": [
    {
     "name": "stdout",
     "output_type": "stream",
     "text": [
      "Reading  /home/bhalla/Documents/Codes/data/media/sahil/NCBS_Shares_BGStim/patch_data/160927/c4_CA3_CPP/plots/c4_CA3_CPP.pkl\n",
      "Reading  /home/bhalla/Documents/Codes/data/media/sahil/NCBS_Shares_BGStim/patch_data/160928/c2_CA3_CPP/plots/c2_CA3_CPP.pkl\n",
      "Reading  /home/bhalla/Documents/Codes/data/media/sahil/NCBS_Shares_BGStim/patch_data/160928/c1_CA3_CPP/plots/c1_CA3_CPP.pkl\n",
      "Reading  /home/bhalla/Documents/Codes/data/media/sahil/NCBS_Shares_BGStim/patch_data/161013/c2_CA3_CPP/plots/c2_CA3_CPP.pkl\n",
      "Reading  /home/bhalla/Documents/Codes/data/media/sahil/NCBS_Shares_BGStim/patch_data/161026/c2_CA3_CPP/plots/c2_CA3_CPP.pkl\n",
      "Reading  /home/bhalla/Documents/Codes/data/media/sahil/NCBS_Shares_BGStim/patch_data/161027/c2_CA3_CPP/plots/c2_CA3_CPP.pkl\n",
      "Reading  /home/bhalla/Documents/Codes/data/media/sahil/NCBS_Shares_BGStim/patch_data/161027/c1_CA3_CPP/plots/c1_CA3_CPP.pkl\n",
      "Reading  /home/bhalla/Documents/Codes/data/media/sahil/NCBS_Shares_BGStim/patch_data/170104/c2_CA3_CPP/plots/c2_CA3_CPP.pkl\n",
      "Read 8 files.\n"
     ]
    }
   ],
   "source": [
    "neuronList = []\n",
    "prefix = '/home/bhalla/Documents/Codes/data'\n",
    "with open(prefix + \"/media/sahil/NCBS_Shares_BGStim/patch_data/CA3_files.txt\", 'r') as fp:\n",
    "    fileList = fp.read().splitlines()\n",
    "    for i,filename in enumerate(fileList):\n",
    "        fileList[i] += \"plots/\" + filename.split('/')[-2] + \".pkl\"\n",
    "        try:\n",
    "            print (\"Reading \", prefix + fileList[i])\n",
    "            neuronList.append(Neuron.load(prefix + fileList[i]))\n",
    "        except:\n",
    "            print (\"Couldn't read\",prefix + fileList[i])\n",
    "print (\"Read {} files.\".format(len(fileList)))"
   ]
  },
  {
   "cell_type": "markdown",
   "metadata": {},
   "source": [
    "### Control cells"
   ]
  },
  {
   "cell_type": "code",
   "execution_count": 7,
   "metadata": {},
   "outputs": [
    {
     "name": "stdout",
     "output_type": "stream",
     "text": [
      "<Linearity.Neuron instance at 0x7f2ee9c76cf8>\n",
      "<Linearity.Neuron instance at 0x7f2ef3b4f3f8>\n",
      "<Linearity.Neuron instance at 0x7f2ee9650488>\n",
      "<Linearity.Neuron instance at 0x7f2ee99023b0>\n",
      "<Linearity.Neuron instance at 0x7f2ee9902758>\n",
      "<Linearity.Neuron instance at 0x7f2ee98538c0>\n",
      "<Linearity.Neuron instance at 0x7f2f0fb51998>\n",
      "<Linearity.Neuron instance at 0x7f2ee9eccb90>\n"
     ]
    },
    {
     "data": {
      "image/png": "[encoded data removed]",
      "text/plain": [
       "<matplotlib.figure.Figure at 0x7f2eea5f6d50>"
      ]
     },
     "metadata": {},
     "output_type": "display_data"
    },
    {
     "name": "stdout",
     "output_type": "stream",
     "text": [
      "Num trials is 52, median is 0.445011746197\n"
     ]
    }
   ],
   "source": [
    "AP_dict = np.zeros((12,12))\n",
    "jitter = []\n",
    "average_spk_time = []\n",
    "squares = 1\n",
    "\n",
    "for ca3_neuron in neuronList:\n",
    "    if ca3_neuron is not None:\n",
    "        print (ca3_neuron)\n",
    "        for expType, exp in ca3_neuron:\n",
    "            if expType == \"Control\":\n",
    "                for coord in exp[squares].coordwise:\n",
    "                    tsp = []\n",
    "                    for trial in exp[squares].coordwise[coord].trials:\n",
    "                        if trial.AP_flag:\n",
    "                            time = np.linspace(0,100,len(trial.interestWindow))\n",
    "                            tsp.append(time[np.argmax(trial.interestWindow)])\n",
    "                    average_spk_time+=tsp\n",
    "                    if len(tsp)>2:\n",
    "                        jitter.append(np.std(tsp, ddof = 1))\n",
    "                        #jitter.append(np.max(tsp) - np.min(tsp))\n",
    "\n",
    "fig, ax = plt.subplots()\n",
    "ax.set_xlabel(\"CA3 jitter (ms)\")\n",
    "ax.set_ylabel(\"# trials\")\n",
    "bins = np.linspace(0,5,20)\n",
    "ax.hist(jitter, bins=bins)\n",
    "# ax.set_xlim((0,3))\n",
    "fig.set_figheight(1.5)\n",
    "fig.set_figwidth(1.5)\n",
    "simpleaxis(ax)\n",
    "dump(fig,file('figures/fig1/1f.pkl','wb'))\n",
    "plt.show()\n",
    "print(\"Num trials is {}, median is {}\".format(len(jitter), np.median(jitter)))"
   ]
  },
  {
   "cell_type": "code",
   "execution_count": 8,
   "metadata": {},
   "outputs": [
    {
     "data": {
      "image/png": "[encoded data removed]",
      "text/plain": [
       "<matplotlib.figure.Figure at 0x7f2ee9dadbd0>"
      ]
     },
     "metadata": {},
     "output_type": "display_data"
    }
   ],
   "source": [
    "fig, ax = plt.subplots()\n",
    "ax.set_xlabel(\"Avg spike time (ms)\")\n",
    "ax.set_ylabel(\"# trials\")\n",
    "# bins = np.linspace(0,5,20)\n",
    "bins=50\n",
    "ax.hist(average_spk_time, bins=bins)\n",
    "ax.set_xlim((0,30))\n",
    "fig.set_figheight(1.5)\n",
    "fig.set_figwidth(1.5)\n",
    "simpleaxis(ax)\n",
    "plt.show()"
   ]
  },
  {
   "cell_type": "markdown",
   "metadata": {},
   "source": [
    "### GABAzine cells"
   ]
  },
  {
   "cell_type": "code",
   "execution_count": 9,
   "metadata": {},
   "outputs": [
    {
     "data": {
      "image/png": "[encoded data removed]",
      "text/plain": [
       "<matplotlib.figure.Figure at 0x7f2ee9b233d0>"
      ]
     },
     "metadata": {},
     "output_type": "display_data"
    },
    {
     "data": {
      "image/png": "[encoded data removed]",
      "text/plain": [
       "<matplotlib.figure.Figure at 0x7f2ee9d00290>"
      ]
     },
     "metadata": {},
     "output_type": "display_data"
    }
   ],
   "source": [
    "AP_dict = np.zeros((12,12))\n",
    "jitter = []\n",
    "average_spk_time = []\n",
    "squares = 1\n",
    "\n",
    "for ca3_neuron in neuronList:\n",
    "    if ca3_neuron is not None:\n",
    "        for expType, exp in ca3_neuron:\n",
    "            if expType == \"GABAzine\":\n",
    "                for coord in exp[squares].coordwise:\n",
    "                    tsp = []\n",
    "                    for trial in exp[squares].coordwise[coord].trials:\n",
    "                        if trial.AP_flag:\n",
    "                            time = np.linspace(0,100,len(trial.interestWindow))\n",
    "                            tsp.append(time[np.argmax(trial.interestWindow)])\n",
    "                    average_spk_time+=tsp\n",
    "                    if len(tsp)>2:\n",
    "                        jitter.append(np.std(tsp, ddof = 1))\n",
    "                        #jitter.append(np.max(tsp) - np.min(tsp))\n",
    "\n",
    "fig, ax = plt.subplots()\n",
    "ax.set_xlabel(\"CA3 jitter (ms)\")\n",
    "ax.set_ylabel(\"# trials\")\n",
    "bins = np.linspace(0,5,20)\n",
    "ax.hist(jitter, bins=bins)\n",
    "# ax.set_xlim((0,3))\n",
    "fig.set_figheight(1.5)\n",
    "fig.set_figwidth(1.5)\n",
    "simpleaxis(ax)\n",
    "# dump(fig,file('figures/fig1/1e.pkl','wb'))\n",
    "plt.show()\n",
    "\n",
    "\n",
    "fig, ax = plt.subplots()\n",
    "ax.set_xlabel(\"CA3 jitter (ms)\")\n",
    "ax.set_ylabel(\"# trials\")\n",
    "# bins = np.linspace(0,5,20)\n",
    "bins=15\n",
    "ax.hist(average_spk_time, bins=bins)\n",
    "ax.set_xlim((0,30))\n",
    "fig.set_figheight(1.5)\n",
    "fig.set_figwidth(1.5)\n",
    "simpleaxis(ax)\n",
    "# dump(fig,file('figures/fig1/1e.pkl','wb'))\n",
    "plt.show()"
   ]
  },
  {
   "cell_type": "markdown",
   "metadata": {},
   "source": [
    "## 1 G (Desensitization of CA3)"
   ]
  },
  {
   "cell_type": "markdown",
   "metadata": {},
   "source": [
    "### Example cell"
   ]
  },
  {
   "cell_type": "code",
   "execution_count": 13,
   "metadata": {
    "collapsed": true
   },
   "outputs": [],
   "source": [
    "ca3_cell = '/media/sahil/NCBS_Shares_BGStim/patch_data/161013/c2_CA3_CPP/CPP/desensitization_161013_c2.txt'"
   ]
  },
  {
   "cell_type": "code",
   "execution_count": 14,
   "metadata": {
    "collapsed": true
   },
   "outputs": [],
   "source": [
    "desenCell = np.loadtxt(ca3_cell, delimiter=',')"
   ]
  },
  {
   "cell_type": "code",
   "execution_count": 15,
   "metadata": {},
   "outputs": [
    {
     "data": {
      "image/png": "[encoded data removed]",
      "text/plain": [
       "<matplotlib.figure.Figure at 0x7fb0b212de50>"
      ]
     },
     "metadata": {},
     "output_type": "display_data"
    }
   ],
   "source": [
    "fig, ax = plt.subplots()\n",
    "ax.plot(desenCell, 'o--', markersize=3, mfc='1', markeredgecolor='0.5')\n",
    "# ax.bar(range(len(desenCell)), desenCell)\n",
    "ax.set_ylim(0,10)\n",
    "ax.set_xlabel(\"Trial number\")\n",
    "ax.set_ylabel(\"Number of APs\")\n",
    "simpleaxis(ax)\n",
    "fig.set_figheight(1.5)\n",
    "fig.set_figwidth(1.5)\n",
    "# dump(fig,file('figures/fig1/1m.pkl','wb'))\n",
    "plt.show()"
   ]
  },
  {
   "cell_type": "markdown",
   "metadata": {},
   "source": [
    "### Population distribution"
   ]
  },
  {
   "cell_type": "code",
   "execution_count": 10,
   "metadata": {
    "collapsed": true
   },
   "outputs": [],
   "source": [
    "def figureG(feature = 0):\n",
    "    ''' Get's the fraction of times an AP occurs verus PSPs '''\n",
    "    #Colorscheme for squares\n",
    "    color_sqr = { index+1: color for index, color in enumerate(matplotlib.cm.viridis(np.linspace(0,1,9)))}\n",
    "    numNeurons = 0\n",
    "    numPSP = 0\n",
    "    axisPlotted = []\n",
    "    line_counter = 0\n",
    "    fig, ax = plt.subplots()\n",
    "    neurons_valid = []\n",
    "    squares_valid = []\n",
    "    for neuron in neuronList:\n",
    "        if neuron is not None:\n",
    "            for experiment in neuron.experiment:\n",
    "                if experiment == \"Control\":    \n",
    "                    numNeurons+=1\n",
    "                    for squares in neuron.experiment[experiment]:\n",
    "                        triad = []\n",
    "                        numAP = 0\n",
    "                        nSq = neuron.experiment[experiment][squares].trial\n",
    "                        if len(nSq) >=47 and len(nSq) < 73 :\n",
    "                            neurons_valid.append (neuron.date + '_' + neuron.index)\n",
    "                            squares_valid.append(squares)\n",
    "                            for trialnum in nSq:\n",
    "                                if nSq[trialnum].AP_flag:\n",
    "                                    numAP+=1\n",
    "                                else:\n",
    "                                    numPSP+=1\n",
    "                                if (trialnum+1)%24 == 0:\n",
    "                                    triad.append(numAP/24.)\n",
    "                                    numAP = 0\n",
    "                            axisPlotted.append(ax.plot(range(len(triad)), triad, 'o--', c=color_sqr[squares], label=squares, markersize=3))\n",
    "                            line_counter+=1\n",
    "    plt.xlabel(\"# Iteration\")\n",
    "    plt.ylabel(\"Spiking prob.\")\n",
    "    plt.xticks([0,1,2])\n",
    "    simpleaxis(ax)\n",
    "    ax.set_xticklabels([1,2,3])\n",
    "    fig.set_figheight(1.)\n",
    "    fig.set_figwidth(1.5)\n",
    "    dump(fig,file('figures/fig1/1m.pkl','wb'))\n",
    "    plt.show()\n",
    "    print (\"Total number of neurons = {}, squares valid = {}, number of lines = {}\".format(len(set(neurons_valid)), len(squares_valid), line_counter))"
   ]
  },
  {
   "cell_type": "code",
   "execution_count": 11,
   "metadata": {
    "scrolled": false
   },
   "outputs": [
    {
     "data": {
      "image/png": "[encoded data removed]",
      "text/plain": [
       "<matplotlib.figure.Figure at 0x7f2ee9ac6950>"
      ]
     },
     "metadata": {},
     "output_type": "display_data"
    },
    {
     "name": "stdout",
     "output_type": "stream",
     "text": [
      "Total number of neurons = 7, squares valid = 24, number of lines = 24\n"
     ]
    }
   ],
   "source": [
    "figureG()"
   ]
  },
  {
   "cell_type": "markdown",
   "metadata": {},
   "source": [
    "## 1 C (CA1 heatmap)"
   ]
  },
  {
   "cell_type": "code",
   "execution_count": 18,
   "metadata": {
    "collapsed": true
   },
   "outputs": [],
   "source": [
    "ca1_neuron = Neuron.load('/media/sahil/NCBS_Shares_BGStim/patch_data/161013/c1/plots/c1.pkl')"
   ]
  },
  {
   "cell_type": "code",
   "execution_count": 19,
   "metadata": {
    "collapsed": true
   },
   "outputs": [],
   "source": [
    "coordwise = ca1_neuron.experiment[\"Control\"][1].coordwise\n",
    "epsp_dict = np.zeros((12,12))\n",
    "\n",
    "for coord in coordwise:\n",
    "    epsp_dict[list(coord)[0]] = coordwise[coord].average_feature[0]"
   ]
  },
  {
   "cell_type": "code",
   "execution_count": 20,
   "metadata": {
    "scrolled": false
   },
   "outputs": [
    {
     "data": {
      "image/png": "[encoded data removed]",
      "text/plain": [
       "<matplotlib.figure.Figure at 0x7fb0b48ac310>"
      ]
     },
     "metadata": {},
     "output_type": "display_data"
    }
   ],
   "source": [
    "epsp_dict = np.ma.masked_where(epsp_dict == 0., epsp_dict)\n",
    "\n",
    "vmax = np.max(epsp_dict)\n",
    "vmin = np.min(epsp_dict)\n",
    "cmap = LinearSegmentedColormap.from_list('CA1_blues', [(0., 'white'), (1., (0,.5,.5,1.))])\n",
    "cmap.set_bad(color='white')\n",
    "\n",
    "fig, ax = plt.subplots()\n",
    "heatmap = ax.pcolormesh(epsp_dict, cmap=cmap, vmin=vmin, vmax=vmax)\n",
    "circle1 = plt.Circle((7.5, 5.5), 0.75, color='r', fill=False)\n",
    "\n",
    "ax.set_title(\"CA1 cell response\")\n",
    "\n",
    "# mark a specific square?\n",
    "zeros = np.zeros((12,12))\n",
    "stim_coords = np.where(epsp_dict>0)\n",
    "zeros[stim_coords] = 1.\n",
    "c = np.ma.masked_array(zeros, zeros == 0.)  # mask squares where value == 1\n",
    "ax.pcolormesh(np.arange(13), np.arange(13), c, alpha=0.5, zorder=2, facecolor='none', edgecolors='k',\n",
    "               cmap='gray', linewidth=1.)\n",
    "\n",
    "ax.invert_yaxis()\n",
    "for axis in [ax.xaxis, ax.yaxis]:\n",
    "    axis.set_ticks(np.arange(1,13), minor=True)\n",
    "    axis.set(ticks=np.arange(0,13,2)+0.5, ticklabels=np.arange(0,13,2)) #Skipping square labels\n",
    "\n",
    "ax.grid(True, which='minor', axis='both', linestyle='--', alpha=0.1, color='k')\n",
    "\n",
    "ax.set_xlim((0,13))\n",
    "ax.set_ylim((0,13))\n",
    "\n",
    "# Colorbar stuff\n",
    "cbar = plt.colorbar(heatmap, label=\"Average response (mV)\")\n",
    "cbar.ax.get_yaxis().labelpad = 10\n",
    "tick_locator = matplotlib.ticker.MaxNLocator(nbins=5)\n",
    "cbar.locator = tick_locator\n",
    "cbar.update_ticks()\n",
    "\n",
    "ax.add_artist(circle1)\n",
    "ax.set_aspect(1)\n",
    "simpleaxis(ax, every=True, outward=False)\n",
    "\n",
    "fig.set_figheight(2.)\n",
    "fig.set_figwidth(2.5)\n",
    "dump(fig,file('figures/fig1/1c.pkl','wb'))\n",
    "plt.show()"
   ]
  },
  {
   "cell_type": "markdown",
   "metadata": {},
   "source": [
    "## 1 H (CA1 jitter distribution) Traces Example Cell"
   ]
  },
  {
   "cell_type": "code",
   "execution_count": 21,
   "metadata": {},
   "outputs": [
    {
     "name": "stdout",
     "output_type": "stream",
     "text": [
      "3.76436152043\n"
     ]
    },
    {
     "data": {
      "image/png": "[encoded data removed]",
      "text/plain": [
       "<matplotlib.figure.Figure at 0x7fb0b17d1890>"
      ]
     },
     "metadata": {},
     "output_type": "display_data"
    }
   ],
   "source": [
    "fig, ax = plt.subplots()\n",
    "tsp = []\n",
    "for expType, exp in ca1_neuron:\n",
    "    if expType == \"Control\":\n",
    "        for trial in exp[1].coordwise[frozenset([(5,7)])].trials:\n",
    "\n",
    "            totalWindow = exp[1].marginOfInterest[1] - exp[1].marginOfBaseline[0]\n",
    "            totalTime = np.linspace(0., (totalWindow*1e3/exp[1].F_sample), totalWindow)\n",
    "            \n",
    "            photodiode = trial.photodiode[exp[1].marginOfBaseline[0]: exp[1].marginOfInterest[1]]*0.1e1\n",
    "            voltage = trial._filter(filter=ca1_neuron.filtering, trace=trial.voltage)\n",
    "            voltage, baseline = trial._normalizeToBaseline(voltage, voltage[exp[1].marginOfBaseline[0]:exp[1].marginOfBaseline[1]])\n",
    "            voltage = voltage[exp[1].marginOfBaseline[0]: exp[1].marginOfInterest[1]]*1e3\n",
    "            \n",
    "            ax.plot(totalTime[initTime:], voltage[initTime:], color=(0,.5,.5))\n",
    "            ax.plot(totalTime[initTime:], photodiode[initTime:] - 1., color='b')\n",
    "            tsp.append(totalTime[np.argmax(voltage)])\n",
    "            \n",
    "ax.set_xlabel(\"Time\")\n",
    "ax.set_ylabel(\"$V_m$\")\n",
    "ax.plot(tsp, [1.6]*len(tsp), 'k.', markersize=3)\n",
    "ax.get_xaxis().tick_bottom()\n",
    "ax.get_yaxis().tick_left()\n",
    "print(np.std(tsp, ddof=1))\n",
    "fig.set_figheight(1.5)\n",
    "fig.set_figwidth(1.5)\n",
    "simpleaxis(ax)\n",
    "ax.xaxis.set_tick_params(size=2)\n",
    "ax.yaxis.set_tick_params(size=2)\n",
    "dump(fig,file('figures/fig1/1g.pkl','wb'))\n",
    "plt.show()"
   ]
  },
  {
   "cell_type": "markdown",
   "metadata": {},
   "source": [
    "## CA1 jitter example cell"
   ]
  },
  {
   "cell_type": "code",
   "execution_count": 22,
   "metadata": {},
   "outputs": [
    {
     "data": {
      "image/png": "[encoded data removed]",
      "text/plain": [
       "<matplotlib.figure.Figure at 0x7fb0b4a49750>"
      ]
     },
     "metadata": {},
     "output_type": "display_data"
    }
   ],
   "source": [
    "fig, ax = plt.subplots()\n",
    "ca1_jitter = []\n",
    "for expType, exp in ca1_neuron:\n",
    "    if expType == \"Control\":\n",
    "        for coord in exp[1].coordwise:\n",
    "            tsp = []\n",
    "            for trial in exp[1].coordwise[coord].trials:\n",
    "                time = np.linspace(0,100,len(trial.interestWindow))\n",
    "                tsp.append(time[np.argmax(trial.interestWindow)])\n",
    "            ca1_jitter.append(np.std(tsp, ddof = 1))\n",
    "ax.set_xlabel(\"CA1 jitter (ms)\")\n",
    "ax.set_ylabel(\"# trials\")\n",
    "bins = np.linspace(0,50,20)\n",
    "ax.hist(ca1_jitter, bins=bins)\n",
    "ax.set_xlim((0,50))\n",
    "fig.set_figheight(1.5)\n",
    "fig.set_figwidth(1.5)\n",
    "simpleaxis(ax)\n",
    "dump(fig,file('figures/fig1/1h.pkl','wb'))\n",
    "plt.show()"
   ]
  },
  {
   "cell_type": "markdown",
   "metadata": {},
   "source": [
    "## CA1 amplitude variability "
   ]
  },
  {
   "cell_type": "code",
   "execution_count": 23,
   "metadata": {},
   "outputs": [
    {
     "data": {
      "image/png": "[encoded data removed]",
      "text/plain": [
       "<matplotlib.figure.Figure at 0x7fb0b4e13690>"
      ]
     },
     "metadata": {},
     "output_type": "display_data"
    },
    {
     "data": {
      "image/png": "[encoded data removed]",
      "text/plain": [
       "<matplotlib.figure.Figure at 0x7fb0b1c12790>"
      ]
     },
     "metadata": {},
     "output_type": "display_data"
    }
   ],
   "source": [
    "ca1_amp_jitter = []\n",
    "average_psp = []\n",
    "for expType, exp in ca1_neuron:\n",
    "    if expType == \"Control\":\n",
    "        for coord in exp[1].coordwise:\n",
    "            amp = []\n",
    "            for trial in exp[1].coordwise[coord].trials:\n",
    "                amp.append(trial.feature[0])\n",
    "            average_psp.append(exp[1].coordwise[coord].average_feature[0])\n",
    "            ca1_amp_jitter.append(np.std(amp, ddof = 1))\n",
    "            \n",
    "fig, ax = plt.subplots()\n",
    "ax.set_xlabel(\"CA1 amplitude variability (mV)\")\n",
    "ax.set_ylabel(\"# trials\")\n",
    "bins = 10\n",
    "ax.hist(ca1_amp_jitter, bins=bins)\n",
    "ax.set_xlim((0,1))\n",
    "fig.set_figheight(1.5)\n",
    "fig.set_figwidth(1.5)\n",
    "simpleaxis(ax)\n",
    "# dump(fig,file('figures/fig1/1i.pkl','wb'))\n",
    "plt.show()\n",
    "\n",
    "fig, ax = plt.subplots()\n",
    "average_psp = np.array(average_psp)\n",
    "indices = np.argsort(average_psp)\n",
    "ca1_amp_jitter = np.array(ca1_amp_jitter)\n",
    "ax.bar(np.arange(len(average_psp)), average_psp[indices], yerr = ca1_amp_jitter[indices], ecolor='0.5')\n",
    "ax.set_xlabel(\"sorted stimulus index\")\n",
    "ax.set_ylabel(\"average amplitude\")\n",
    "fig.set_figheight(1.5)\n",
    "fig.set_figwidth(1.5)\n",
    "simpleaxis(ax)\n",
    "# dump(fig,file('figures/fig1/1j.pkl','wb'))\n",
    "plt.show()"
   ]
  },
  {
   "cell_type": "markdown",
   "metadata": {},
   "source": [
    "### Fano factor example cell"
   ]
  },
  {
   "cell_type": "code",
   "execution_count": 24,
   "metadata": {},
   "outputs": [
    {
     "data": {
      "image/png": "[encoded data removed]",
      "text/plain": [
       "<matplotlib.figure.Figure at 0x7fb0b4ccd110>"
      ]
     },
     "metadata": {},
     "output_type": "display_data"
    }
   ],
   "source": [
    "ca1_amp_jitter = []\n",
    "average_psp = []\n",
    "means = []\n",
    "for expType, exp in ca1_neuron:\n",
    "    if expType == \"Control\":\n",
    "        for coord in exp[1].coordwise:\n",
    "            amp = []\n",
    "            for trial in exp[1].coordwise[coord].trials:\n",
    "                amp.append(trial.feature[0])\n",
    "            average_psp.append(exp[1].coordwise[coord].average_feature[0])\n",
    "            ca1_amp_jitter.append(np.var(amp, ddof = 1)/np.mean(amp))\n",
    "            means.append(np.mean(amp))\n",
    "            \n",
    "fig, ax = plt.subplots()\n",
    "ax.set_xlabel(\"CA1 amplitude \\n variability (mV)\")\n",
    "ax.set_ylabel(\"# trials\")\n",
    "bins = 10\n",
    "ax.hist(ca1_amp_jitter, bins=bins)\n",
    "ax.set_xlim((0,1))\n",
    "fig.set_figheight(1.5)\n",
    "fig.set_figwidth(1.5)\n",
    "simpleaxis(ax)\n",
    "# dump(fig,file('figures/fig1/1i.pkl','wb'))\n",
    "plt.show()"
   ]
  },
  {
   "cell_type": "markdown",
   "metadata": {},
   "source": [
    "## Binomial process generated plots"
   ]
  },
  {
   "cell_type": "code",
   "execution_count": 25,
   "metadata": {},
   "outputs": [
    {
     "name": "stderr",
     "output_type": "stream",
     "text": [
      "/usr/local/lib/python2.7/dist-packages/ipykernel_launcher.py:10: RuntimeWarning: invalid value encountered in double_scalars\n",
      "  # Remove the CWD from sys.path while we load stuff.\n"
     ]
    },
    {
     "data": {
      "image/png": "[encoded data removed]",
      "text/plain": [
       "<matplotlib.figure.Figure at 0x7fb0b4e29e50>"
      ]
     },
     "metadata": {},
     "output_type": "display_data"
    }
   ],
   "source": [
    "repeats = 3\n",
    "maxSynapses = 30\n",
    "rel_p = 0.2\n",
    "C = []\n",
    "numSynapses = np.random.choice(range(maxSynapses), 1000)\n",
    "for n in numSynapses:\n",
    "    synapseOut = []\n",
    "    for j in range(repeats):\n",
    "        synapseOut.append(0.2*np.random.binomial(n=n, p = rel_p))\n",
    "    coeff = np.nanvar(synapseOut, ddof = 1)/np.nanmean(synapseOut)\n",
    "    if not np.isnan(coeff):\n",
    "        C.append(coeff)\n",
    "bins = 30\n",
    "fig, ax = plt.subplots()\n",
    "# ax.set_xlim((0,1))\n",
    "# n = np.linspace(1,50,50)\n",
    "# C = 2./np.sqrt(n)\n",
    "# print (C)\n",
    "ax.hist(C,bins=bins)\n",
    "fig.set_figheight(1.5)\n",
    "fig.set_figwidth(1.5)\n",
    "plt.show()"
   ]
  },
  {
   "cell_type": "markdown",
   "metadata": {},
   "source": [
    "Population statistics"
   ]
  },
  {
   "cell_type": "code",
   "execution_count": 36,
   "metadata": {
    "scrolled": true
   },
   "outputs": [
    {
     "name": "stdout",
     "output_type": "stream",
     "text": [
      "('Reading ', '/media/sahil/NCBS_Shares_BGStim/patch_data/150828/c2/plots/c2.pkl')\n",
      "('Reading ', '/media/sahil/NCBS_Shares_BGStim/patch_data/150902/c1/plots/c1.pkl')\n",
      "('Reading ', '/media/sahil/NCBS_Shares_BGStim/patch_data/150902/c2/plots/c2.pkl')\n",
      "('Reading ', '/media/sahil/NCBS_Shares_BGStim/patch_data/150904/c1/plots/c1.pkl')\n",
      "('Reading ', '/media/sahil/NCBS_Shares_BGStim/patch_data/150904/c3/plots/c3.pkl')\n",
      "('Reading ', '/media/sahil/NCBS_Shares_BGStim/patch_data/160126/c3/plots/c3.pkl')\n",
      "('Reading ', '/media/sahil/NCBS_Shares_BGStim/patch_data/160209/c4/plots/c4.pkl')\n",
      "('Reading ', '/media/sahil/NCBS_Shares_BGStim/patch_data/160219/c5/plots/c5.pkl')\n",
      "('Reading ', '/media/sahil/NCBS_Shares_BGStim/patch_data/160223/c2/plots/c2.pkl')\n",
      "('Reading ', '/media/sahil/NCBS_Shares_BGStim/patch_data/160223/c3/plots/c3.pkl')\n",
      "('Reading ', '/media/sahil/NCBS_Shares_BGStim/patch_data/160513/c5/plots/c5.pkl')\n",
      "('Reading ', '/media/sahil/NCBS_Shares_BGStim/patch_data/160617/c5/plots/c5.pkl')\n",
      "('Reading ', '/media/sahil/NCBS_Shares_BGStim/patch_data/160817/c2/plots/c2.pkl')\n",
      "('Reading ', '/media/sahil/NCBS_Shares_BGStim/patch_data/160830/c1/plots/c1.pkl')\n",
      "('Reading ', '/media/sahil/NCBS_Shares_BGStim/patch_data/160920/c1/plots/c1.pkl')\n",
      "('Reading ', '/media/sahil/NCBS_Shares_BGStim/patch_data/160927/c5/plots/c5.pkl')\n",
      "('Reading ', '/media/sahil/NCBS_Shares_BGStim/patch_data/160928/c3/plots/c3.pkl')\n",
      "('Reading ', '/media/sahil/NCBS_Shares_BGStim/patch_data/160928/c4/plots/c4.pkl')\n",
      "('Reading ', '/media/sahil/NCBS_Shares_BGStim/patch_data/161013/c1/plots/c1.pkl')\n",
      "('Reading ', '/media/sahil/NCBS_Shares_BGStim/patch_data/161026/c1/plots/c1.pkl')\n",
      "('Reading ', '/media/sahil/NCBS_Shares_BGStim/patch_data/161027/c3/plots/c3.pkl')\n",
      "('Reading ', '/media/sahil/NCBS_Shares_BGStim/patch_data/161109/c3/plots/c3.pkl')\n",
      "('Reading ', '/media/sahil/NCBS_Shares_BGStim/patch_data/161116/c2/plots/c2.pkl')\n",
      "('Reading ', '/media/sahil/NCBS_Shares_BGStim/patch_data/161117/c1/plots/c1.pkl')\n",
      "('Reading ', '/media/sahil/NCBS_Shares_BGStim/patch_data/161228/c1/plots/c1.pkl')\n",
      "('Reading ', '/media/sahil/NCBS_Shares_BGStim/patch_data/170104/c4/plots/c4.pkl')\n",
      "('Reading ', '/media/sahil/NCBS_Shares_BGStim/patch_data/170208/c3/plots/c3.pkl')\n",
      "('Reading ', '/media/sahil/NCBS_Shares_BGStim/patch_data/170222/c2/plots/c2.pkl')\n",
      "('Reading ', '/media/sahil/NCBS_Shares_BGStim/patch_data/170220/c1/plots/c1.pkl')\n",
      "('Reading ', '/media/sahil/NCBS_Shares_BGStim/patch_data/170317/c1/plots/c1.pkl')\n",
      "('Reading ', '/media/sahil/NCBS_Shares_BGStim/patch_data/170317/c3/plots/c3.pkl')\n",
      "('Reading ', '/media/sahil/NCBS_Shares_BGStim/patch_data/170317/c4/plots/c4.pkl')\n",
      "('Reading ', '/media/sahil/NCBS_Shares_BGStim/patch_data/170303/c1/plots/c1.pkl')\n",
      "('Reading ', '/media/sahil/NCBS_Shares_BGStim/patch_data/170802/c1/plots/c1.pkl')\n",
      "('Reading ', '/media/sahil/NCBS_Shares_BGStim/patch_data/RS_Analysis/Patch_Recording/Control_RS_short/1_c4_150827/plots/1_c4_150827.pkl')\n",
      "('Reading ', '/media/sahil/NCBS_Shares_BGStim/patch_data/RS_Analysis/Patch_Recording/Control_RS_short/2_c1_150828/plots/2_c1_150828.pkl')\n",
      "('Reading ', '/media/sahil/NCBS_Shares_BGStim/patch_data/RS_Analysis/Patch_Recording/Control_RS_short/3_c1_150929/plots/3_c1_150929.pkl')\n",
      "('Reading ', '/media/sahil/NCBS_Shares_BGStim/patch_data/RS_Analysis/Patch_Recording/Control_RS_short/6_c2_160513/plots/6_c2_160513.pkl')\n",
      "('Reading ', '/media/sahil/NCBS_Shares_BGStim/patch_data/RS_Analysis/Patch_Recording/RS_TBS_short/5_c4_160122/plots/5_c4_160122.pkl')\n",
      "Read 39 files.\n"
     ]
    }
   ],
   "source": [
    "neuronList = []\n",
    "with open(\"/media/sahil/NCBS_Shares_BGStim/patch_data/current_clamp_files.txt\", 'r') as fp:\n",
    "    fileList = fp.read().splitlines()\n",
    "    for i,filename in enumerate(fileList):\n",
    "        fileList[i] += \"plots/\" + filename.split('/')[-2] + \".pkl\"\n",
    "        try:\n",
    "            print (\"Reading \", fileList[i])\n",
    "            neuronList.append(Neuron.load(fileList[i]))\n",
    "        except:\n",
    "            print (\"Couldn't read\", fileList[i])\n",
    "print (\"Read {} files.\".format(len(fileList)))"
   ]
  },
  {
   "cell_type": "code",
   "execution_count": null,
   "metadata": {
    "collapsed": true
   },
   "outputs": [],
   "source": [
    "# neuronList = load(open('/home/bhalla/Documents/Codes/data/currentClampCells.pkl','rb'))"
   ]
  },
  {
   "cell_type": "markdown",
   "metadata": {},
   "source": [
    "## 1 I CA1 variability (Fano factor) all cells"
   ]
  },
  {
   "cell_type": "code",
   "execution_count": 42,
   "metadata": {
    "collapsed": true
   },
   "outputs": [],
   "source": [
    "def figureI(feature = 0):\n",
    "    ''' Get's the fraction of times an AP occurs verus PSPs '''\n",
    "    epsp_1sq = []\n",
    "    squares = 1\n",
    "    feature = 0\n",
    "    numBins = 200\n",
    "    ca1_amp_jitter = []\n",
    "    valid_neurons = []\n",
    "    for neuron in neuronList:\n",
    "        if neuron is not None:\n",
    "#             print (neuron)\n",
    "            for expType, exp in neuron:\n",
    "                if expType == \"Control\":\n",
    "                    for coord in exp[1].coordwise:\n",
    "                        amp = []\n",
    "                        for trial in exp[1].coordwise[coord].trials:\n",
    "#                             print (coord, trial.feature)\n",
    "                            if trial.feature:\n",
    "                                if trial.feature[0] > 0: ## Removing negatives\n",
    "                                    amp.append(trial.feature[0])\n",
    "#                         average_psp.append(exp[1].coordwise[coord].average_feature[0])\n",
    "                        if len(amp) > 2:\n",
    "                            coeff_var = np.nanvar(amp, ddof = 1)/np.nanmean(amp)\n",
    "                            if not np.isnan(coeff_var):\n",
    "                                ca1_amp_jitter.append(coeff_var)\n",
    "                                valid_neurons.append(neuron.date + '_' + neuron.index)\n",
    "#                         means.append(np.mean(amp))\n",
    "        #print (np.mean(epsp_1sq), np.median(epsp_1sq), ss.mode(epsp_1sq))\n",
    "\n",
    "    ca1_amp_jitter = np.array(ca1_amp_jitter)\n",
    "    print (np.min(ca1_amp_jitter), np.max(ca1_amp_jitter))\n",
    "    print (len(np.where(ca1_amp_jitter<0.5)[0])/float(len(ca1_amp_jitter)))\n",
    "    print(\"Number of inputs = {}\".format(len(ca1_amp_jitter)))\n",
    "    print (ca1_amp_jitter[np.where(ca1_amp_jitter<0)])\n",
    "    print (\"Number of neurons = {}\".format(len(set(valid_neurons))))\n",
    "    fig, ax = plt.subplots()\n",
    "    ax.set_xlabel(\"CA1 peak \\n var/mean (mV)\")\n",
    "    ax.set_ylabel(\"# trials\")\n",
    "    bins = 30\n",
    "    ax.hist(ca1_amp_jitter,bins=bins)\n",
    "    ax.set_xlim(xmin=-0.1)\n",
    "    ax.set_ylim(ymin=0,ymax=200)\n",
    "    fig.set_figheight(1.5)\n",
    "    fig.set_figwidth(1.5)\n",
    "    simpleaxis(ax)\n",
    "    dump(fig,file('figures/fig1/1i.pkl','wb'))\n",
    "    plt.show()"
   ]
  },
  {
   "cell_type": "code",
   "execution_count": 43,
   "metadata": {},
   "outputs": [
    {
     "name": "stdout",
     "output_type": "stream",
     "text": [
      "(0.00074170819036654837, 2.4673939167134744)\n",
      "0.847482014388\n",
      "Number of inputs = 695\n",
      "[]\n",
      "Number of neurons = 28\n"
     ]
    },
    {
     "data": {
      "image/png": "[encoded data removed]",
      "text/plain": [
       "<matplotlib.figure.Figure at 0x7fb0b4a2cfd0>"
      ]
     },
     "metadata": {},
     "output_type": "display_data"
    }
   ],
   "source": [
    "figureI()"
   ]
  },
  {
   "cell_type": "markdown",
   "metadata": {},
   "source": [
    "## 1 J (distribution of EPSP one squares)"
   ]
  },
  {
   "cell_type": "code",
   "execution_count": 48,
   "metadata": {
    "collapsed": true
   },
   "outputs": [],
   "source": [
    "def figureJ(feature = 0):\n",
    "    ''' Get's the fraction of times an AP occurs verus PSPs '''\n",
    "    epsp_1sq = []\n",
    "    squares = 1\n",
    "    feature = 0\n",
    "    numBins = 200\n",
    "    valid_neurons = []\n",
    "    for neuron in neuronList:\n",
    "        if neuron is not None:\n",
    "            try:\n",
    "                trials = neuron.experiment[\"Control\"][squares].trial\n",
    "                for trialNum in trials:\n",
    "                    trial = neuron.experiment[\"Control\"][squares].trial[trialNum]\n",
    "                    epsp_1sq.append(trial.feature[feature])\n",
    "                    valid_neurons.append(neuron.date + '_' + neuron.index)\n",
    "            except:\n",
    "                print(\"{}, {}: No control dataset!\".format(neuron.index, neuron.date))\n",
    "    #print (np.mean(epsp_1sq), np.median(epsp_1sq), ss.mode(epsp_1sq))\n",
    "    print(\"Number of trials = {}\".format(len(epsp_1sq)))\n",
    "    print(\"Number of neurons = {}\".format(len(set(valid_neurons))))\n",
    "    print(ss.kstest(epsp_1sq, \"lognorm\", ss.lognorm.fit(epsp_1sq)))\n",
    "    fig, ax = plt.subplots()\n",
    "    n, bins, patches = ax.hist(epsp_1sq, bins=numBins)\n",
    "    maxBin = np.argmax(n)\n",
    "    modeEPSP = bins[maxBin]\n",
    "    print (\"Mode is at \", modeEPSP)\n",
    "    ymin, ymax = ax.get_ylim()\n",
    "    ax.vlines(modeEPSP,ymin,ymax, linestyles='--', linewidth=1., color='0.7')\n",
    "    ax.annotate(\"{:.2f} mV\".format(modeEPSP), xy=(modeEPSP, ymax), xytext=(1.2*modeEPSP, ymax), textcoords='data')\n",
    "    ax.set_xlabel(\"PSP Amplitude (mV)\")\n",
    "    ax.set_ylabel(\"# recorded PSPs\")\n",
    "    fig.set_figheight(1.5)\n",
    "    fig.set_figwidth(1.5)\n",
    "    simpleaxis(ax, outward=False)\n",
    "    dump(fig,file('figures/fig1/1j.pkl','wb'))\n",
    "    plt.show()"
   ]
  },
  {
   "cell_type": "code",
   "execution_count": 49,
   "metadata": {},
   "outputs": [
    {
     "name": "stdout",
     "output_type": "stream",
     "text": [
      "c1, 170802: No control dataset!\n",
      "5_c4_160122, RS_TBS_short: No control dataset!\n",
      "Number of trials = 8845\n",
      "Number of neurons = 38\n",
      "KstestResult(statistic=0.10973007245541189, pvalue=6.2574699249949013e-93)\n",
      "('Mode is at ', 0.24567256009587446)\n"
     ]
    },
    {
     "data": {
      "image/png": "[encoded data removed]",
      "text/plain": [
       "<matplotlib.figure.Figure at 0x7fb0b49cc250>"
      ]
     },
     "metadata": {},
     "output_type": "display_data"
    }
   ],
   "source": [
    "figureJ()"
   ]
  },
  {
   "cell_type": "markdown",
   "metadata": {},
   "source": [
    "## 1 L (Fraction of APs and sublinear responses) Supplementary"
   ]
  },
  {
   "cell_type": "code",
   "execution_count": 45,
   "metadata": {
    "collapsed": true
   },
   "outputs": [],
   "source": [
    "def figureL(feature = 0):\n",
    "    ''' Get's the fraction of times an AP occurs verus PSPs '''\n",
    "    numNeurons = 0\n",
    "    numAP = 0\n",
    "    numPSP = 0\n",
    "    for neuron in neuronList:\n",
    "        if neuron is not None:\n",
    "            for experiment in neuron.experiment:\n",
    "                if experiment == \"Control\":    \n",
    "                    numNeurons+=1\n",
    "                    for squares in neuron.experiment[experiment]:\n",
    "                        nSq = neuron.experiment[experiment][squares].trial\n",
    "                        for trialnum in nSq:\n",
    "                            if nSq[trialnum].AP_flag:\n",
    "                                numAP+=1\n",
    "                            else:\n",
    "                                numPSP+=1\n",
    "    \n",
    "    fracAPs = float(numAP)/numPSP\n",
    "    fig, ax = plt.subplots()\n",
    "    index = np.arange(2)\n",
    "    width = 0.5\n",
    "    ax.bar(index, (numPSP, numAP), width)\n",
    "    ax.set_title(\"CA1 responses\")\n",
    "    ax.set_ylabel(\"Frequency\")\n",
    "    ax.set_xticks(index)\n",
    "    ax.set_xticklabels(('PSP', 'AP'))\n",
    "    #ax.set_yticks(list(ax.get_yticks()) + [numAP])\n",
    "    ax.annotate(\"{:.2f} %\".format(fracAPs*1e2), xy=(0.8, numAP*2.0), xytext=(0.75, numAP*5), textcoords='data')\n",
    "    xaxisVal = ax.get_xlim()[0]\n",
    "    ax.hlines(numAP, xaxisVal, index[1],linestyle=\"--\")\n",
    "    fig.set_figheight(1.5)\n",
    "    fig.set_figwidth(1.5)\n",
    "    ax.set_ylim(0,22500)\n",
    "#     ax.set_yscale('log')\n",
    "    simpleaxis(ax, outward=False)\n",
    "    ax.ticklabel_format(style='sci', axis='y', scilimits=(0,0))\n",
    "    ax.yaxis.major.formatter._useMathText = True\n",
    "    dump(fig,file('figures/fig1/1l.pkl','wb'))\n",
    "    plt.show()\n",
    "    print (\"Legend text: Number of cells: {}, number of points: {}, fraction of APS: {}\".format(numNeurons, numAP+numPSP, fracAPs))"
   ]
  },
  {
   "cell_type": "code",
   "execution_count": 47,
   "metadata": {
    "scrolled": false
   },
   "outputs": [
    {
     "data": {
      "image/png": "[encoded data removed]",
      "text/plain": [
       "<matplotlib.figure.Figure at 0x7fb0b1862490>"
      ]
     },
     "metadata": {},
     "output_type": "display_data"
    },
    {
     "name": "stdout",
     "output_type": "stream",
     "text": [
      "Legend text: Number of cells: 38, number of points: 18668, fraction of APS: 0.00989991885312\n"
     ]
    }
   ],
   "source": [
    "figureL()"
   ]
  },
  {
   "cell_type": "markdown",
   "metadata": {},
   "source": [
    "## 1 M (Desensitization of CA3)\n",
    "### Example cell"
   ]
  },
  {
   "cell_type": "code",
   "execution_count": null,
   "metadata": {
    "collapsed": true
   },
   "outputs": [],
   "source": [
    "# ca3_cell = '/media/sahil/NCBS_Shares_BGStim/patch_data/161013/c2_CA3_CPP/CPP/desensitization_161013_c2.txt'\n",
    "# desenCell = np.loadtxt(ca3_cell, delimiter=',')\n",
    "# fig, ax = plt.subplots()\n",
    "# ax.plot(desenCell, 'o--', markersize=3, mfc='1', markeredgecolor='0.5')\n",
    "# # ax.bar(range(len(desenCell)), desenCell)\n",
    "# ax.set_ylim(0,10)\n",
    "# ax.set_xlabel(\"Trial number\")\n",
    "# ax.set_ylabel(\"Number of APs\")\n",
    "# simpleaxis(ax)\n",
    "# fig.set_figheight(1.5)\n",
    "# fig.set_figwidth(1.5)\n",
    "# #dump(fig,file('figures/fig1/1m.pkl','wb'))\n",
    "# plt.show()"
   ]
  },
  {
   "cell_type": "markdown",
   "metadata": {},
   "source": [
    "### Population distribution of spikes and subthreshold"
   ]
  },
  {
   "cell_type": "code",
   "execution_count": null,
   "metadata": {
    "collapsed": true
   },
   "outputs": [],
   "source": [
    "# def figureL(feature = 0):\n",
    "#     ''' Get's the fraction of times an AP occurs verus PSPs '''\n",
    "#     numNeurons = 0\n",
    "#     numAP = 0\n",
    "#     numPSP = 0\n",
    "#     for neuron in neuronList:\n",
    "#         if neuron is not None:\n",
    "#             for experiment in neuron.experiment:\n",
    "#                 if experiment == \"Control\":    \n",
    "#                     numNeurons+=1\n",
    "#                     for squares in neuron.experiment[experiment]:\n",
    "#                         nSq = neuron.experiment[experiment][squares].trial\n",
    "#                         for trialnum in nSq:\n",
    "#                             if nSq[trialnum].AP_flag:\n",
    "#                                 numAP+=1\n",
    "#                             else:\n",
    "#                                 numPSP+=1\n",
    "    \n",
    "#     fracAPs = float(numAP)/numPSP\n",
    "#     fig, ax = plt.subplots()\n",
    "#     index = np.arange(2)\n",
    "#     width = 0.5\n",
    "#     ax.bar(index, (numPSP, numAP), width)\n",
    "#     ax.set_title(\"CA1 responses\")\n",
    "#     ax.set_ylabel(\"Frequency\")\n",
    "#     ax.set_xticks(index)\n",
    "#     ax.set_xticklabels(('PSP', 'AP'))\n",
    "#     #ax.set_yticks(list(ax.get_yticks()) + [numAP])\n",
    "#     ax.annotate(\"{:.2f} %\".format(fracAPs*1e2), xy=(0.8, numAP*2.0), xytext=(0.75, numAP*5), textcoords='data')\n",
    "#     xaxisVal = ax.get_xlim()[0]\n",
    "#     ax.hlines(numAP, xaxisVal, index[1],linestyle=\"--\")\n",
    "#     fig.set_figheight(1.5)\n",
    "#     fig.set_figwidth(1.5)\n",
    "#     ax.set_ylim(0,22500)\n",
    "# #     ax.set_yscale('log')\n",
    "#     simpleaxis(ax, outward=False)\n",
    "#     ax.ticklabel_format(style='sci', axis='y', scilimits=(0,0))\n",
    "#     ax.yaxis.major.formatter._useMathText = True\n",
    "#     dump(fig,file('figures/fig1/1l.pkl','wb'))\n",
    "#     plt.show()\n",
    "#     print (\"Legend text: Number of cells: {}, number of points: {}, fraction of APS: {}\".format(numNeurons, numAP+numPSP, fracAPs))"
   ]
  }
 ],
 "metadata": {
  "hide_input": false,
  "kernelspec": {
   "display_name": "Python 2",
   "language": "python",
   "name": "python2"
  },
  "language_info": {
   "codemirror_mode": {
    "name": "ipython",
    "version": 2
   },
   "file_extension": ".py",
   "mimetype": "text/x-python",
   "name": "python",
   "nbconvert_exporter": "python",
   "pygments_lexer": "ipython2",
   "version": "2.7.12"
  },
  "latex_envs": {
   "LaTeX_envs_menu_present": true,
   "autocomplete": true,
   "bibliofile": "biblio.bib",
   "cite_by": "apalike",
   "current_citInitial": 1,
   "eqLabelWithNumbers": true,
   "eqNumInitial": 1,
   "hotkeys": {
    "equation": "Ctrl-E",
    "itemize": "Ctrl-I"
   },
   "labels_anchors": false,
   "latex_user_defs": false,
   "report_style_numbering": false,
   "user_envs_cfg": false
  },
  "toc": {
   "colors": {
    "hover_highlight": "#DAA520",
    "navigate_num": "#000000",
    "navigate_text": "#333333",
    "running_highlight": "#FF0000",
    "selected_highlight": "#FFD700",
    "sidebar_border": "#EEEEEE",
    "wrapper_background": "#FFFFFF"
   },
   "moveMenuLeft": true,
   "nav_menu": {
    "height": "12px",
    "width": "252px"
   },
   "navigate_menu": true,
   "number_sections": true,
   "sideBar": true,
   "threshold": 4,
   "toc_cell": false,
   "toc_section_display": "block",
   "toc_window_display": true,
   "widenNotebook": false
  },
  "varInspector": {
   "cols": {
    "lenName": 16,
    "lenType": 16,
    "lenVar": 40
   },
   "kernels_config": {
    "python": {
     "delete_cmd_postfix": "",
     "delete_cmd_prefix": "del ",
     "library": "var_list.py",
     "varRefreshCmd": "print(var_dic_list())"
    },
    "r": {
     "delete_cmd_postfix": ") ",
     "delete_cmd_prefix": "rm(",
     "library": "var_list.r",
     "varRefreshCmd": "cat(var_dic_list()) "
    }
   },
   "types_to_exclude": [
    "module",
    "function",
    "builtin_function_or_method",
    "instance",
    "_Feature"
   ],
   "window_display": false
  }
 },
 "nbformat": 4,
 "nbformat_minor": 2
}
