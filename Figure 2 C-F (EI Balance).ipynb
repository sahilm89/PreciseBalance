{
 "cells": [
  {
   "cell_type": "markdown",
   "metadata": {},
   "source": [
    "# EI balance in different CA1 neurons."
   ]
  },
  {
   "cell_type": "code",
   "execution_count": 1,
   "metadata": {},
   "outputs": [],
   "source": [
    "import sys\n",
    "sys.path.append(\"../\")\n",
    "import glob\n",
    "from Linearity import Neuron\n",
    "import numpy as np\n",
    "import scipy.stats as ss\n",
    "import matplotlib\n",
    "import matplotlib.pyplot as plt\n",
    "from matplotlib.font_manager import findfont, FontProperties\n",
    "matplotlib.rcParams['text.usetex'] = False\n",
    "matplotlib.rc('text.latex', preamble=r'\\usepackage{cmbright}')\n",
    "matplotlib.rc('font',**{'family':'sans-serif','sans-serif':['Arial']})\n",
    "plt.style.use('neuron')\n",
    "from pickle import dump"
   ]
  },
  {
   "cell_type": "code",
   "execution_count": 2,
   "metadata": {},
   "outputs": [],
   "source": [
    "def simpleaxis(axes, every=False, outward=False):\n",
    "    if not isinstance(axes, (list, np.ndarray)):\n",
    "        axes = [axes]\n",
    "    for ax in axes:\n",
    "        ax.spines['top'].set_visible(False)\n",
    "        ax.spines['right'].set_visible(False)\n",
    "        if (outward):\n",
    "            ax.spines['bottom'].set_position(('outward', 10))\n",
    "            ax.spines['left'].set_position(('outward', 10))\n",
    "        if every:\n",
    "            ax.spines['bottom'].set_visible(False)\n",
    "            ax.spines['left'].set_visible(False)\n",
    "        ax.get_xaxis().tick_bottom()\n",
    "        ax.get_yaxis().tick_left()\n",
    "        ax.set_title('')"
   ]
  },
  {
   "cell_type": "code",
   "execution_count": 3,
   "metadata": {},
   "outputs": [],
   "source": [
    "#Colorscheme for squares\n",
    "color_sqr = { index+1: color for index, color in enumerate(matplotlib.cm.viridis(np.linspace(0,1,9)))}"
   ]
  },
  {
   "cell_type": "code",
   "execution_count": 4,
   "metadata": {},
   "outputs": [],
   "source": [
    "voltageClampFiles = '/media/sahil/NCBS_Shares_BGStim/patch_data/voltage_clamp_files.txt'"
   ]
  },
  {
   "cell_type": "code",
   "execution_count": 5,
   "metadata": {},
   "outputs": [],
   "source": [
    "with open (voltageClampFiles,'r') as r:\n",
    "    dirnames = r.read().splitlines()"
   ]
  },
  {
   "cell_type": "code",
   "execution_count": 6,
   "metadata": {},
   "outputs": [],
   "source": [
    "#Colorscheme for cells\n",
    "color_cell = matplotlib.cm.plasma(np.linspace(0,1,len(dirnames)))"
   ]
  },
  {
   "cell_type": "code",
   "execution_count": 7,
   "metadata": {},
   "outputs": [],
   "source": [
    "dirnames = ['/home/bhalla/Documents/Codes/data' + j for j in ['/media/sahil/NCBS_Shares_BGStim/patch_data/161220/c2_EI/',\n",
    " '/media/sahil/NCBS_Shares_BGStim/patch_data/170510/c2_EI/',\n",
    " '/media/sahil/NCBS_Shares_BGStim/patch_data/170524/c3_EI/',\n",
    " '/media/sahil/NCBS_Shares_BGStim/patch_data/170524/c1_EI/',\n",
    " '/media/sahil/NCBS_Shares_BGStim/patch_data/170530/c2_EI/',\n",
    " '/media/sahil/NCBS_Shares_BGStim/patch_data/170530/c1_EI/',\n",
    " '/media/sahil/NCBS_Shares_BGStim/patch_data/170531/c2_EI/',\n",
    " '/media/sahil/NCBS_Shares_BGStim/patch_data/170531/c4_EI/',\n",
    " '/media/sahil/NCBS_Shares_BGStim/patch_data/170531/c1_EI/',\n",
    " '/media/sahil/NCBS_Shares_BGStim/patch_data/170720/c5_EI/',\n",
    " '/media/sahil/NCBS_Shares_BGStim/patch_data/170720/c3_EI/',\n",
    " '/media/sahil/NCBS_Shares_BGStim/patch_data/170720/c4_EI/',\n",
    " '/media/sahil/NCBS_Shares_BGStim/patch_data/170720/c2_EI/']]"
   ]
  },
  {
   "cell_type": "code",
   "execution_count": 8,
   "metadata": {},
   "outputs": [],
   "source": [
    "neurons = []\n",
    "for dirname in dirnames:\n",
    "    cellIndex = dirname.split('/')[-2]\n",
    "    filename = dirname + 'plots/' + cellIndex + '.pkl'\n",
    "    neurons.append(Neuron.load(filename))"
   ]
  },
  {
   "cell_type": "code",
   "execution_count": 9,
   "metadata": {
    "code_folding": [],
    "scrolled": false
   },
   "outputs": [
    {
     "name": "stdout",
     "output_type": "stream",
     "text": [
      "c2_EI 161220\n",
      "1\n",
      "1\n",
      "1\n",
      "1\n",
      "1\n"
     ]
    },
    {
     "data": {
      "image/png": "[encoded data removed]",
      "text/plain": [
       "<matplotlib.figure.Figure at 0x7f45110391d0>"
      ]
     },
     "metadata": {},
     "output_type": "display_data"
    },
    {
     "data": {
      "image/png": "[encoded data removed]",
      "text/plain": [
       "<matplotlib.figure.Figure at 0x7f4510dc2310>"
      ]
     },
     "metadata": {},
     "output_type": "display_data"
    },
    {
     "name": "stdout",
     "output_type": "stream",
     "text": [
      "79.89190348478172\n",
      "c2_EI 170510\n",
      "2\n",
      "2\n",
      "2\n",
      "2\n",
      "2\n"
     ]
    },
    {
     "data": {
      "image/png": "[encoded data removed]",
      "text/plain": [
       "<matplotlib.figure.Figure at 0x7f4510f9f610>"
      ]
     },
     "metadata": {},
     "output_type": "display_data"
    },
    {
     "name": "stdout",
     "output_type": "stream",
     "text": [
      "55.49284656484512\n",
      "c3_EI 170524\n",
      "c1_EI 170524\n",
      "c2_EI 170530\n",
      "1\n",
      "1\n",
      "2\n",
      "2\n",
      "1\n",
      "1\n",
      "2\n",
      "1\n",
      "2\n",
      "2\n"
     ]
    },
    {
     "data": {
      "image/png": "[encoded data removed]",
      "text/plain": [
       "<matplotlib.figure.Figure at 0x7f4510f9f950>"
      ]
     },
     "metadata": {},
     "output_type": "display_data"
    },
    {
     "data": {
      "image/png": "[encoded data removed]",
      "text/plain": [
       "<matplotlib.figure.Figure at 0x7f45100f7350>"
      ]
     },
     "metadata": {},
     "output_type": "display_data"
    },
    {
     "data": {
      "image/png": "[encoded data removed]",
      "text/plain": [
       "<matplotlib.figure.Figure at 0x7f4510fdb650>"
      ]
     },
     "metadata": {},
     "output_type": "display_data"
    },
    {
     "name": "stdout",
     "output_type": "stream",
     "text": [
      "70.35389569571599\n",
      "c1_EI 170530\n",
      "1\n",
      "1\n",
      "2\n",
      "2\n",
      "1\n",
      "1\n",
      "2\n",
      "1\n",
      "2\n",
      "2\n"
     ]
    },
    {
     "data": {
      "image/png": "[encoded data removed]",
      "text/plain": [
       "<matplotlib.figure.Figure at 0x7f4510e156d0>"
      ]
     },
     "metadata": {},
     "output_type": "display_data"
    },
    {
     "name": "stdout",
     "output_type": "stream",
     "text": [
      "198.33809693430769\n",
      "c2_EI 170531\n",
      "c4_EI 170531\n",
      "c1_EI 170531\n",
      "1\n",
      "1\n",
      "2\n",
      "2\n",
      "1\n",
      "1\n",
      "2\n",
      "1\n",
      "2\n",
      "2\n"
     ]
    },
    {
     "data": {
      "image/png": "[encoded data removed]",
      "text/plain": [
       "<matplotlib.figure.Figure at 0x7f4510fc5f50>"
      ]
     },
     "metadata": {},
     "output_type": "display_data"
    },
    {
     "data": {
      "image/png": "[encoded data removed]",
      "text/plain": [
       "<matplotlib.figure.Figure at 0x7f450da94c50>"
      ]
     },
     "metadata": {},
     "output_type": "display_data"
    },
    {
     "data": {
      "image/png": "[encoded data removed]",
      "text/plain": [
       "<matplotlib.figure.Figure at 0x7f450da3fa50>"
      ]
     },
     "metadata": {},
     "output_type": "display_data"
    },
    {
     "name": "stdout",
     "output_type": "stream",
     "text": [
      "580.1148691065638\n",
      "c5_EI 170720\n",
      "2\n",
      "2\n",
      "2\n",
      "2\n",
      "2\n"
     ]
    },
    {
     "data": {
      "image/png": "[encoded data removed]",
      "text/plain": [
       "<matplotlib.figure.Figure at 0x7f450da9a850>"
      ]
     },
     "metadata": {},
     "output_type": "display_data"
    },
    {
     "name": "stdout",
     "output_type": "stream",
     "text": [
      "54.03636367952714\n",
      "c3_EI 170720\n",
      "2\n",
      "2\n",
      "2\n",
      "2\n",
      "2\n"
     ]
    },
    {
     "data": {
      "image/png": "[encoded data removed]",
      "text/plain": [
       "<matplotlib.figure.Figure at 0x7f450da94110>"
      ]
     },
     "metadata": {},
     "output_type": "display_data"
    },
    {
     "name": "stdout",
     "output_type": "stream",
     "text": [
      "205.90539404089233\n",
      "c4_EI 170720\n",
      "2\n",
      "2\n",
      "2\n",
      "2\n",
      "2\n"
     ]
    },
    {
     "data": {
      "image/png": "[encoded data removed]",
      "text/plain": [
       "<matplotlib.figure.Figure at 0x7f450d9cb510>"
      ]
     },
     "metadata": {},
     "output_type": "display_data"
    },
    {
     "name": "stdout",
     "output_type": "stream",
     "text": [
      "93.54859161711\n",
      "c2_EI 170720\n",
      "1\n",
      "1\n",
      "2\n",
      "2\n",
      "1\n",
      "1\n",
      "2\n",
      "1\n",
      "2\n",
      "2\n"
     ]
    },
    {
     "data": {
      "image/png": "[encoded data removed]",
      "text/plain": [
       "<matplotlib.figure.Figure at 0x7f4510138490>"
      ]
     },
     "metadata": {},
     "output_type": "display_data"
    },
    {
     "name": "stdout",
     "output_type": "stream",
     "text": [
      "121.8553343995456\n",
      "Number of neurons is 9\n"
     ]
    },
    {
     "data": {
      "text/plain": [
       "<matplotlib.figure.Figure at 0x7f4510994b90>"
      ]
     },
     "metadata": {},
     "output_type": "display_data"
    }
   ],
   "source": [
    "from mpl_toolkits.axes_grid1 import make_axes_locatable\n",
    "import math\n",
    "from matplotlib import mlab\n",
    "\n",
    "feature = 1\n",
    "areaScalingFactor = 1e9 # nA.ms\n",
    "scalingFactor = areaScalingFactor\n",
    "r_squared = []\n",
    "slopes = []\n",
    "valid_neurons = []\n",
    "studentised_res = []\n",
    "coord_sqr_all_cells = []\n",
    "fig2, ax2 = plt.subplots()\n",
    "for index, n in enumerate(neurons):\n",
    "    n = neurons[index]\n",
    "    print(n.index, n.date)\n",
    "#     print (n.features)\n",
    "    obs_exc, obs_inh = {}, {}\n",
    "    exc_error, inh_error = {}, {}\n",
    "    amplitude = {}\n",
    "    sqrs = []\n",
    "    coord_sqrs = {}\n",
    "    fig, ax = plt.subplots()\n",
    "    # fig.suptitle(\"Representative cell {}, {}\".format(n.index,n.date), fontsize=18)\n",
    "    for expType,expt in n:\n",
    "        for sqr in expt:\n",
    "            if sqr == 1 or sqr == 2:\n",
    "                if (expType == 1):\n",
    "                    sqrs.append(sqr)\n",
    "                    for coord in expt[sqr].coordwise:\n",
    "                        obs_exc[coord] = expt[sqr].coordwise[coord].average_feature[feature]\n",
    "                        exc_error[coord] = np.var([trial.feature[feature] for trial in expt[sqr].coordwise[coord].trials], ddof = 1)\n",
    "                        amplitude[coord] = -expt[sqr].coordwise[coord].average_feature[5]\n",
    "                        coord_sqrs[coord] = sqr\n",
    "                elif (expType == 2):\n",
    "                    for coord in expt[sqr].coordwise:\n",
    "                        obs_inh[coord] = expt[sqr].coordwise[coord].average_feature[feature]\n",
    "                        inh_error[coord] = np.var([trial.feature[feature] for trial in expt[sqr].coordwise[coord].trials], ddof = 1)\n",
    "\n",
    "    if len(set(obs_exc).intersection(set(obs_inh))):\n",
    "        exc, inh = [], []\n",
    "        amp = []\n",
    "        marker = {1:'o', 2:'v'}\n",
    "        coord_sqr = []\n",
    "        for coord in set(obs_exc).intersection(set(obs_inh)):\n",
    "            exc.append(-obs_exc[coord]*scalingFactor)\n",
    "            inh.append(obs_inh[coord]*scalingFactor)\n",
    "            amp.append(amplitude[coord]*scalingFactor)\n",
    "            coord_sqr.append(coord_sqrs[coord])\n",
    "            ax.errorbar(-obs_exc[coord]*scalingFactor, obs_inh[coord]*scalingFactor, xerr=exc_error[coord]*scalingFactor, yerr=inh_error[coord]*scalingFactor,markersize=3, c='k', fmt='.', alpha=1, markerfacecolor='k', ecolor='gray')\n",
    "            ax.scatter(-obs_exc[coord]*scalingFactor, obs_inh[coord]*scalingFactor, c=color_sqr[coord_sqrs[coord]], s=15, marker=marker[coord_sqrs[coord]])\n",
    "            print(coord_sqrs[coord])\n",
    "            valid_neurons.append(n.date + '_' + n.index)\n",
    "\n",
    "        slope, intercept, rval, pval, stderr = ss.linregress(exc, inh)\n",
    "\n",
    "        excRange = np.linspace(0, 1.1*max(exc), 100)\n",
    "        inhFit = excRange*slope + intercept\n",
    "\n",
    "        r_squared.append(rval**2)\n",
    "        slopes.append(slope)\n",
    "\n",
    "        ax.plot(excRange, inhFit, '--', c='gray', label=\"I/E {:.2f}\\n\".format(slope) + \"$\\mathregular{R^2}$ \" + \" {:.2f}\".format(rval**2))\n",
    "\n",
    "        xlim_old = ax.get_xlim()\n",
    "        ylim_old = ax.get_ylim()\n",
    "        minlim, maxlim = min(xlim_old[0], ylim_old[0]), max(xlim_old[1], ylim_old[1])\n",
    "        ax.plot((0,maxlim), (0,maxlim),'--')\n",
    "        ax.set_xlim(0,maxlim)\n",
    "        ax.set_ylim(0,maxlim)\n",
    "#         ax.set_xlabel(\"Excitation (nA.ms)\")\n",
    "#         ax.set_ylabel(\"Inhibition (nA.ms)\")\n",
    "#         ax.set_xlabel(\"Excitation (pA)\")\n",
    "#         ax.set_ylabel(\"Inhibition (pA)\")\n",
    "        fig.set_figheight(1.5)\n",
    "        fig.set_figwidth(1.5)\n",
    "        simpleaxis(ax)\n",
    "        ax.legend(loc='lower right')\n",
    "        dump(fig,file('figures/fig2/2_oneSq_{}_{}.pkl'.format(n.index, n.date),'wb'))\n",
    "        plt.show()\n",
    "        plt.close(fig)\n",
    "#         plt.savefig(\"/media/sahil/NCBS_Shares_BGStim/Paper/EI_figures_Aug9/{}_{}.svg\".format(n.date,n.index) , transparent=True, bbox_inches='tight')\n",
    "        \n",
    "        \n",
    "        predicted = slope*np.array(exc) + intercept\n",
    "        actual = inh\n",
    "        residual = actual - predicted       \n",
    "#         ax2.scatter(amp, residual/np.std(predicted) ,s=5,c=color_cell[index])\n",
    "        ax2.scatter(amp, residual/np.std(residual,ddof=1) ,s=3,c=[color_sqr[i] for i in coord_sqr])\n",
    "        studentised_res.append(residual/np.std(residual,ddof=1))\n",
    "        coord_sqr_all_cells.append(coord_sqr)\n",
    "        print( np.max(amp))\n",
    "        \n",
    "ax2.set_xscale('log')\n",
    "ax2.set_ylabel(\"Standardized residuals\")\n",
    "ax2.set_xlabel(\"Amplitude (pA)\")\n",
    "xmin, xmax = ax2.get_xlim()\n",
    "ymin,ymax = -3,3\n",
    "ax2.xaxis.set_major_formatter(matplotlib.ticker.ScalarFormatter())\n",
    "# ax2.set_ylim(ymin, ymax)\n",
    "# ax2.set_xlim(0, 100)\n",
    "ax2.hlines(y=0, xmin=xmin, xmax = xmax,linestyles='--')\n",
    "# ax2.set_xlabel(\"Area under curve (pA)\")\n",
    "ax2.get_xaxis().tick_bottom()\n",
    "divider = make_axes_locatable(ax2)\n",
    "axHisty = divider.append_axes(\"right\", 1.2, pad=0.1, sharey=ax2)\n",
    "\n",
    "# make some labels invisible\n",
    "plt.setp(axHisty.get_yticklabels(),\n",
    "         visible=False)\n",
    "\n",
    "# now determine nice limits by hand:\n",
    "# binwidth = 0.25\n",
    "# xymax = np.max([np.max(np.fabs(x)), np.max(np.fabs(y))])\n",
    "# lim = (int(xymax/binwidth) + 1)*binwidth\n",
    "\n",
    "# bins = np.arange(-lim, lim + binwidth, binwidth)\n",
    "# axHistx.hist(x, bins=bins)\n",
    "list_res = np.concatenate(studentised_res).ravel()\n",
    "list_coords = np.concatenate(coord_sqr_all_cells).ravel()\n",
    "\n",
    "res_square = []\n",
    "color_square = []\n",
    "for i in sorted(list(set(list_coords))):\n",
    "    res_square.append(list_res[np.where(list_coords == i)])\n",
    "    color_square.append(color_sqr[i])\n",
    "\n",
    "res_hist = axHisty.hist(res_square, bins=20, orientation='horizontal', stacked=True, color=color_square)\n",
    "axHisty.yaxis.set_visible(True)\n",
    "\n",
    "mu = 0\n",
    "variance = 1\n",
    "sigma = math.sqrt(variance)\n",
    "x = np.linspace(mu - 3*sigma, mu + 3*sigma, len(list_coords))\n",
    "\n",
    "dx = res_hist[1][1] - res_hist[1][0]\n",
    "scale = len(list_res)*dx\n",
    "\n",
    "\n",
    "axHisty.plot(mlab.normpdf(x, mu, sigma)*scale,x, '--',color='red')\n",
    "axHisty.set_xlabel(\"# PSCs\")\n",
    "\n",
    "# the xaxis of axHistx and yaxis of axHisty are shared with axScatter,\n",
    "# thus there is no need to manually adjust the xlim and ylim of these\n",
    "# axis.\n",
    "\n",
    "#axHistx.axis[\"bottom\"].major_ticklabels.set_visible(False)\n",
    "# for tl in axHistx.get_xticklabels():\n",
    "#     tl.set_visible(False)\n",
    "# axHistx.set_yticks([0, 50, 100])\n",
    "\n",
    "simpleaxis(ax2)\n",
    "simpleaxis(axHisty,every=True)\n",
    "axHisty.spines['bottom'].set_visible(True)\n",
    "\n",
    "fig2.set_figheight(1.5)\n",
    "fig2.set_figwidth(3.5)\n",
    "# plt.show(fig2)\n",
    "plt.savefig('figures/fig2/2_temp.svg', transparent=True, bbox_inches='tight')\n",
    "print (\"Number of neurons is {}\".format(len(set(valid_neurons))))"
   ]
  },
  {
   "cell_type": "code",
   "execution_count": 10,
   "metadata": {
    "scrolled": false
   },
   "outputs": [
    {
     "name": "stdout",
     "output_type": "stream",
     "text": [
      "[6.66881869e-10 5.04447377e-10 1.06942594e-09 2.50946046e-09\n",
      " 3.34977981e-10 2.04297467e-10 4.22047287e-10 1.29722812e-09\n",
      " 8.49708716e-10 1.89419827e-10]\n"
     ]
    },
    {
     "data": {
      "image/png": "[encoded data removed]",
      "text/plain": [
       "<matplotlib.figure.Figure at 0x7f451102ead0>"
      ]
     },
     "metadata": {},
     "output_type": "display_data"
    },
    {
     "name": "stdout",
     "output_type": "stream",
     "text": [
      "pFail: E_mean= 8.04789504326e-10, I_mean = 4.13928138922e-09\n"
     ]
    }
   ],
   "source": [
    "fig, ax = plt.subplots()\n",
    "exc, inh = [], []\n",
    "exc_e, inh_e = [], []\n",
    "fail_e, fail_i = [], []\n",
    "amp = []\n",
    "coord_sqr = []\n",
    "for coord in set(obs_exc).intersection(set(obs_inh)):\n",
    "    exc.append(-obs_exc[coord])#*scalingFactor)\n",
    "    inh.append(obs_inh[coord])#*scalingFactor)\n",
    "    inh_e.append(inh_error[coord])#*scalingFactor)\n",
    "    exc_e.append(exc_error[coord])#*scalingFactor)\n",
    "fail_e = np.array(exc_e)/np.array(exc)\n",
    "fail_i = np.array(inh_e)/np.array(inh)\n",
    "print (fail_e)\n",
    "ax.hist(fail_e, color='b') #, s=15)\n",
    "ax.hist(fail_i, color='r') #, s=15)\n",
    "ymin,ymax = ax.get_ylim()\n",
    "ax.vlines(x=np.mean(fail_e),ymin=ymin,ymax=ymax,color='b')\n",
    "ax.vlines(x=np.mean(fail_i),ymin=ymin,ymax=ymax,color='r')\n",
    "ax.set_ylim(ymin=0)\n",
    "plt.show()\n",
    "print(\"pFail: E_mean= {}, I_mean = {}\".format(np.mean(fail_e), np.mean(fail_i)))"
   ]
  },
  {
   "cell_type": "code",
   "execution_count": 11,
   "metadata": {},
   "outputs": [],
   "source": [
    "def cart2pol(x, y):\n",
    "    rho = np.sqrt(x**2 + y**2)\n",
    "    phi = np.arctan2(y, x)\n",
    "    return(rho, phi)\n",
    "\n",
    "def pol2cart(rho, phi):\n",
    "    x = rho * np.cos(phi)\n",
    "    y = rho * np.sin(phi)\n",
    "    return(x, y)"
   ]
  },
  {
   "cell_type": "markdown",
   "metadata": {},
   "source": [
    "## Polar coordinates"
   ]
  },
  {
   "cell_type": "code",
   "execution_count": 12,
   "metadata": {
    "scrolled": false
   },
   "outputs": [
    {
     "name": "stderr",
     "output_type": "stream",
     "text": [
      "No handlers could be found for logger \"matplotlib.legend\"\n"
     ]
    },
    {
     "data": {
      "image/png": "[encoded data removed]",
      "text/plain": [
       "<matplotlib.figure.Figure at 0x7f4510962c50>"
      ]
     },
     "metadata": {},
     "output_type": "display_data"
    }
   ],
   "source": [
    "feature = 1\n",
    "scalingFactor = 1e9\n",
    "# r_squared = []\n",
    "# slopes = []\n",
    "fig, ax = plt.subplots()\n",
    "for index, n in enumerate(neurons):\n",
    "    n = neurons[index]\n",
    "    obs_exc, obs_inh = {}, {}\n",
    "    exc_error, inh_error = {}, {}\n",
    "    sqrs = []\n",
    "\n",
    "    # fig.suptitle(\"Representative cell {}, {}\".format(n.index,n.date), fontsize=18)\n",
    "    for expType,expt in n:\n",
    "        for sqr in expt:\n",
    "            if (expType == 1):\n",
    "                sqrs.append(sqr)\n",
    "                for coord in expt[sqr].coordwise:\n",
    "                    obs_exc[coord] = expt[sqr].coordwise[coord].average_feature[5]\n",
    "                    exc_error[coord] = np.std([trial.feature[5] for trial in expt[sqr].coordwise[coord].trials], ddof = 1)\n",
    "            elif (expType == 2):\n",
    "                for coord in expt[sqr].coordwise:\n",
    "                    obs_inh[coord] = expt[sqr].coordwise[coord].average_feature[0]\n",
    "                    inh_error[coord] = np.std([trial.feature[0] for trial in expt[sqr].coordwise[coord].trials], ddof = 1)\n",
    "\n",
    "    exc, inh = [], []\n",
    "    for coord in set(obs_exc).intersection(set(obs_inh)):\n",
    "        exc.append(-obs_exc[coord])\n",
    "        inh.append(obs_inh[coord])\n",
    "        #ax.errorbar(-obs_exc[coord]*scalingFactor, obs_inh[coord]*scalingFactor, xerr=exc_error[coord]*scalingFactor, yerr=inh_error[coord]*scalingFactor,markersize=3, c='k', fmt='.', alpha=1, markerfacecolor='k', ecolor='gray')\n",
    "    exc, inh = np.array(exc), np.array(inh)\n",
    "#     axisMax = np.max([np.max(exc), np.max(inh)])\n",
    "    axisMax = 1e-9\n",
    "    exc , inh = exc/axisMax, inh/axisMax\n",
    "    indices = np.argsort(exc)\n",
    "    exc = exc[indices]\n",
    "    inh = inh[indices]\n",
    "    r, theta = cart2pol(exc, inh)\n",
    "    ax.plot(theta, exc, '.-', color=color_cell[index])\n",
    "    ax.set_xlim(0,0.75*np.pi)\n",
    "#     ax.set_ylim(ymin=5.)\n",
    "    ax.vlines(x=0.785,ymin=0.,ymax=200.,linestyles='--')\n",
    "    ax.set_ylim(50.,200)\n",
    "#     slope, intercept, rval, pval, stderr = ss.linregress(exc, inh)\n",
    "#     excRange = np.linspace(0, 1.1*max(exc), 100)\n",
    "#     inhFit = excRange*slope + intercept\n",
    "    \n",
    "#     r_squared.append(rval**2)\n",
    "#     slopes.append(slope)\n",
    "    \n",
    "#     ax.plot(excRange, inhFit, '--', c='gray', label=\"slope {:.2f}, $r^2$ {:.2f}\".format(slope, rval**2))\n",
    "\n",
    "#     xlim_old = ax.get_xlim()\n",
    "#     ylim_old = ax.get_ylim()\n",
    "#     minlim, maxlim = min(xlim_old[0], ylim_old[0]), max(xlim_old[1], ylim_old[1])\n",
    "#     ax.plot((0,maxlim), (0,maxlim),'--')\n",
    "#     ax.set_xlim(0,maxlim)\n",
    "#     ax.set_ylim(0,maxlim)\n",
    "#     ax.set_xlabel(\"Excitation (pA)\")\n",
    "#     ax.set_ylabel(\"Inhibition (pA)\")\n",
    "fig.set_figheight(10)\n",
    "fig.set_figwidth(10)\n",
    "simpleaxis(ax)\n",
    "plt.legend(loc='lower right')\n",
    "plt.show()\n",
    "#plt.savefig(\"/media/sahil/NCBS_Shares_BGStim/EI_figures_Aug9/{}_{}.png\".format(n.date,n.index))\n",
    "plt.close()"
   ]
  },
  {
   "cell_type": "markdown",
   "metadata": {},
   "source": [
    "## Figure 2 C (Example Cell)"
   ]
  },
  {
   "cell_type": "code",
   "execution_count": 13,
   "metadata": {},
   "outputs": [
    {
     "data": {
      "image/png": "[encoded data removed]",
      "text/plain": [
       "<matplotlib.figure.Figure at 0x7f45108c1190>"
      ]
     },
     "metadata": {},
     "output_type": "display_data"
    }
   ],
   "source": [
    "index = 8\n",
    "feature = 1\n",
    "n = neurons[index]\n",
    "obs_exc, obs_inh = {}, {}\n",
    "exc_error, inh_error = {}, {}\n",
    "sqrs = []\n",
    "fig, ax = plt.subplots()\n",
    "# fig.suptitle(\"Representative cell {}, {}\".format(n.index,n.date), fontsize=18)\n",
    "for expType,expt in n:\n",
    "    for sqr in expt:\n",
    "        if (expType == 1):\n",
    "            sqrs.append(sqr)\n",
    "            for coord in expt[sqr].coordwise:\n",
    "                obs_exc[coord] = expt[sqr].coordwise[coord].average_feature[feature]\n",
    "                exc_error[coord] = np.std([trial.feature[feature] for trial in expt[sqr].coordwise[coord].trials], ddof = 1)\n",
    "        elif (expType == 2):\n",
    "            for coord in expt[sqr].coordwise:\n",
    "                obs_inh[coord] = expt[sqr].coordwise[coord].average_feature[feature]\n",
    "                inh_error[coord] = np.std([trial.feature[feature] for trial in expt[sqr].coordwise[coord].trials], ddof = 1)\n",
    "\n",
    "exc, inh = [], []\n",
    "for coord in set(obs_exc).intersection(set(obs_inh)):\n",
    "    exc.append(-obs_exc[coord]*scalingFactor)\n",
    "    inh.append(obs_inh[coord]*scalingFactor)\n",
    "    ax.errorbar(-obs_exc[coord]*scalingFactor, obs_inh[coord]*scalingFactor, xerr=exc_error[coord]*scalingFactor, yerr=inh_error[coord]*scalingFactor,markersize=3, c='k', fmt='.', alpha=1, markerfacecolor='k', ecolor='gray')\n",
    "\n",
    "slope, intercept, rval, pval, stderr = ss.linregress(exc, inh)\n",
    "\n",
    "excRange = np.linspace(0, 1.3*max(exc), 100)\n",
    "inhFit = excRange*slope + intercept\n",
    "\n",
    "ax.plot(excRange, inhFit, '--', c='gray', label=\"slope {:.2f}, $R^2$ {:.2f}\".format(slope, rval**2))\n",
    "\n",
    "xlim_old = ax.get_xlim()\n",
    "ylim_old = ax.get_ylim()\n",
    "minlim, maxlim = min(xlim_old[0], ylim_old[0]), max(xlim_old[1], ylim_old[1])\n",
    "ax.plot((0,maxlim), (0,maxlim),'--')\n",
    "ax.set_xlim(0,maxlim)\n",
    "ax.set_ylim(0,maxlim)\n",
    "ax.set_xlabel(\"Excitation (nA.ms)\")\n",
    "ax.set_ylabel(\"Inhibition (nA.ms)\")\n",
    "fig.set_figheight(2)\n",
    "fig.set_figwidth(2)\n",
    "simpleaxis(ax)\n",
    "plt.legend(loc='lower right')\n",
    "# dump(fig,file('figures/fig2/2c.pkl','wb'))\n",
    "plt.show()"
   ]
  },
  {
   "cell_type": "markdown",
   "metadata": {},
   "source": [
    "## Only one square and two square"
   ]
  },
  {
   "cell_type": "code",
   "execution_count": 14,
   "metadata": {},
   "outputs": [
    {
     "ename": "NameError",
     "evalue": "name 'line_exc1' is not defined",
     "output_type": "error",
     "traceback": [
      "\u001b[0;31m---------------------------------------------------------------------------\u001b[0m",
      "\u001b[0;31mNameError\u001b[0m                                 Traceback (most recent call last)",
      "\u001b[0;32m<ipython-input-14-5048370c84d7>\u001b[0m in \u001b[0;36m<module>\u001b[0;34m()\u001b[0m\n\u001b[1;32m     78\u001b[0m \u001b[0max\u001b[0m\u001b[0;34m.\u001b[0m\u001b[0mspines\u001b[0m\u001b[0;34m[\u001b[0m\u001b[0;34m'left'\u001b[0m\u001b[0;34m]\u001b[0m\u001b[0;34m.\u001b[0m\u001b[0mset_color\u001b[0m\u001b[0;34m(\u001b[0m\u001b[0;34m'olive'\u001b[0m\u001b[0;34m)\u001b[0m\u001b[0;34m\u001b[0m\u001b[0m\n\u001b[1;32m     79\u001b[0m \u001b[0max_copy\u001b[0m\u001b[0;34m.\u001b[0m\u001b[0mspines\u001b[0m\u001b[0;34m[\u001b[0m\u001b[0;34m'right'\u001b[0m\u001b[0;34m]\u001b[0m\u001b[0;34m.\u001b[0m\u001b[0mset_color\u001b[0m\u001b[0;34m(\u001b[0m\u001b[0;34m'#8b0046'\u001b[0m\u001b[0;34m)\u001b[0m\u001b[0;34m\u001b[0m\u001b[0m\n\u001b[0;32m---> 80\u001b[0;31m \u001b[0mlines\u001b[0m \u001b[0;34m=\u001b[0m \u001b[0mline_exc1\u001b[0m \u001b[0;34m+\u001b[0m \u001b[0mline_exc2\u001b[0m \u001b[0;34m+\u001b[0m \u001b[0mline_inh1\u001b[0m \u001b[0;34m+\u001b[0m \u001b[0mline_inh2\u001b[0m\u001b[0;34m\u001b[0m\u001b[0m\n\u001b[0m\u001b[1;32m     81\u001b[0m \u001b[0;31m# labs = [l.get_label() for l in lines]\u001b[0m\u001b[0;34m\u001b[0m\u001b[0;34m\u001b[0m\u001b[0m\n\u001b[1;32m     82\u001b[0m \u001b[0;31m# ax.legend(lines, labs, loc=0)\u001b[0m\u001b[0;34m\u001b[0m\u001b[0;34m\u001b[0m\u001b[0m\n",
      "\u001b[0;31mNameError\u001b[0m: name 'line_exc1' is not defined"
     ]
    },
    {
     "data": {
      "image/png": "[encoded data removed]",
      "text/plain": [
       "<matplotlib.figure.Figure at 0x7f451104e550>"
      ]
     },
     "metadata": {},
     "output_type": "display_data"
    }
   ],
   "source": [
    "index = 5\n",
    "feature = 1\n",
    "n = neurons[index]\n",
    "obs_exc, obs_inh = {}, {}\n",
    "exc_error, inh_error = {}, {}\n",
    "sqrs = []\n",
    "# fig, ax = plt.subplots()\n",
    "# fig.suptitle(\"Representative cell {}, {}\".format(n.index,n.date), fontsize=18)\n",
    "areaScalingFactor = 1e9 # nA.ms\n",
    "for expType,expt in n:\n",
    "    for sqr in expt:\n",
    "        if sqr in [1,2,3]:\n",
    "            if (expType == 1):\n",
    "                sqrs.append(sqr)\n",
    "                for coord in expt[sqr].coordwise:\n",
    "                    obs_exc[coord] = expt[sqr].coordwise[coord].average_feature[5]*areaScalingFactor\n",
    "                    exc_error[coord] = np.std([trial.feature[5]*areaScalingFactor for trial in expt[sqr].coordwise[coord].trials], ddof = 1)\n",
    "            elif (expType == 2):\n",
    "                for coord in expt[sqr].coordwise:\n",
    "                    obs_inh[coord] = expt[sqr].coordwise[coord].average_feature[0]*areaScalingFactor\n",
    "                    inh_error[coord] = np.std([trial.feature[0]*areaScalingFactor for trial in expt[sqr].coordwise[coord].trials], ddof = 1)\n",
    "\n",
    "exc, inh = [], []\n",
    "coord_len = []\n",
    "exc_e, inh_e = [], []\n",
    "for coord in set(obs_exc).intersection(set(obs_inh)):\n",
    "    exc.append(-obs_exc[coord])\n",
    "    inh.append(obs_inh[coord])\n",
    "    coord_len.append(len(coord))\n",
    "    exc_e.append(exc_error[coord])\n",
    "    inh_e.append(inh_error[coord])\n",
    "#     ax.errorbar(-obs_exc[coord]*scalingFactor, obs_inh[coord]*scalingFactor, xerr=exc_error[coord]*scalingFactor, yerr=inh_error[coord]*scalingFactor,markersize=3, c='k', fmt='.', alpha=1, markerfacecolor='k', ecolor='gray')\n",
    "\n",
    "coord_len = np.array(coord_len)\n",
    "exc = np.array(exc)\n",
    "inh = np.array(inh)\n",
    "exc_e = np.array(exc_e)\n",
    "inh_e = np.array(inh_e)\n",
    "\n",
    "index_1 = np.where(coord_len==1)\n",
    "exc_1 = exc[index_1]\n",
    "inh_1 = inh[index_1]\n",
    "exc_1_e = exc_e[index_1]\n",
    "inh_1_e = inh_e[index_1]\n",
    "\n",
    "index_2 = np.where(coord_len==2)\n",
    "exc_2 = exc[index_2]\n",
    "inh_2 = inh[index_2]\n",
    "exc_2_e = exc_e[index_2]\n",
    "inh_2_e = inh_e[index_2]\n",
    "\n",
    "index_3 = np.where(coord_len==3)\n",
    "exc_3 = exc[index_3]\n",
    "inh_3 = inh[index_3]\n",
    "\n",
    "fig, ax = plt.subplots()\n",
    "plotline1, caplines1, barlinecols1  = ax.errorbar(np.arange(len(exc_1)), exc_1,  yerr = exc_1_e , markersize=6, label=\"Exc\",c='olive', fmt='.-', uplims=True)\n",
    "plotline2, caplines2, barlinecols2 = ax.errorbar(len(exc_1) + np.arange(len(exc_2)), exc_2,  yerr = exc_2_e, markersize=6 ,c='olive', fmt='.-', uplims=True)\n",
    "# line_exc3 = ax.plot(len(exc_1) + len(exc_2) + np.arange(len(exc_3)), exc_3, '.-', markersize=6 ,c=color_sqr[3])\n",
    "\n",
    "# ax.xaxis.set_ticks([1,3,5,7,9])\n",
    "ax_copy = ax.twinx()\n",
    "plotline3, caplines3, barlinecols3  = ax_copy.errorbar( np.arange(len(inh_1)), inh_1,  yerr = inh_1_e, markersize=6, label=\"Inh\",c='#8b0046', fmt='.-', lolims=True)\n",
    "plotline4, caplines4, barlinecols4  = ax_copy.errorbar( len(inh_1) + np.arange(len(inh_2)), inh_2,  yerr = inh_2_e, markersize=6 ,c='#8b0046', fmt='.-', lolims=True)\n",
    "# line_inh3 = ax_copy.plot( len(inh_1) + len(inh_2) + np.arange(len(inh_3)), inh_3, 'v-', markersize=6 ,c=color_sqr[3])\n",
    "ax.set_title(\"Different number of squares show consistent EI ratios\")\n",
    "ax.set_xlabel(\"# stimulus\")\n",
    "\n",
    "caplines1[0].set_marker('_')\n",
    "caplines1[0].set_markersize(5)\n",
    "caplines2[0].set_marker('_')\n",
    "caplines2[0].set_markersize(5)\n",
    "caplines3[0].set_marker('_')\n",
    "caplines3[0].set_markersize(5)\n",
    "caplines4[0].set_marker('_')\n",
    "caplines4[0].set_markersize(5)\n",
    "\n",
    "ax.spines['left'].set_color('olive')\n",
    "ax_copy.spines['right'].set_color('#8b0046')\n",
    "lines = line_exc1 + line_exc2 + line_inh1 + line_inh2\n",
    "# labs = [l.get_label() for l in lines]\n",
    "# ax.legend(lines, labs, loc=0)\n",
    "\n",
    "simpleaxis(ax)\n",
    "simpleaxis(ax_copy,every=True)\n",
    "ax_copy.spines['right'].set_visible(True)\n",
    "ax_copy.get_yaxis().tick_right()\n",
    "\n",
    "ax.set_ylim(ymin=0., ymax=206.)\n",
    "ax_copy.set_ylim(ymin=0., ymax=515.)\n",
    "\n",
    "ax.set_yticks(np.linspace(0,206.,3))\n",
    "ax_copy.set_yticks(np.linspace(0,516.,3))\n",
    "\n",
    "ax.set_ylabel(\"Excitation (pA)\")\n",
    "ax_copy.set_ylabel(\"Inhibition (pA)\")\n",
    "\n",
    "fig.set_figheight(1.5)\n",
    "fig.set_figwidth(3.)\n",
    "\n",
    "dump(fig,file('figures/fig2/2_precise_small.pkl','wb'))\n",
    "plt.savefig('figures/fig2/2_precise_small.svg')\n",
    "plt.show()\n",
    "#ax.set_ylabel(\"$r^2$ values\")\n",
    "# ax_copy.set_ylim((0.1,10))\n",
    "print(ax.get_ylim())\n",
    "print(ax_copy.get_ylim())\n",
    "# ax_copy.set_yscale(\"log\")\n",
    "\n",
    "print(index_1)"
   ]
  },
  {
   "cell_type": "code",
   "execution_count": null,
   "metadata": {},
   "outputs": [],
   "source": [
    "exc"
   ]
  },
  {
   "cell_type": "markdown",
   "metadata": {},
   "source": [
    "### Plotting residuals"
   ]
  },
  {
   "cell_type": "code",
   "execution_count": null,
   "metadata": {},
   "outputs": [],
   "source": [
    "predicted = slope*np.array(exc) + intercept\n",
    "actual = inh\n",
    "residual = actual - predicted\n",
    "fig, ax = plt.subplots()\n",
    "ax.scatter(predicted, residual,s=20)\n",
    "xmin, xmax = ax.get_xlim()\n",
    "ax.hlines(y=0, xmin=xmin, xmax = xmax,linestyles='--')\n",
    "ax.set_ylim(-30,30)\n",
    "simpleaxis(ax)\n",
    "plt.show()"
   ]
  },
  {
   "cell_type": "code",
   "execution_count": null,
   "metadata": {},
   "outputs": [],
   "source": []
  },
  {
   "cell_type": "markdown",
   "metadata": {},
   "source": [
    "## Figure F (I/E ratio) Population"
   ]
  },
  {
   "cell_type": "code",
   "execution_count": null,
   "metadata": {},
   "outputs": [],
   "source": [
    "fig, ax = plt.subplots()\n",
    "ax.hist(slopes)\n",
    "ax.set_xlabel(\"I/E Ratio\")\n",
    "ax.set_ylabel(\"# neurons\")\n",
    "ax.set_xlim(xmin=0.)\n",
    "ax.set_xticks([0,2,4,6])\n",
    "# ax.set_yticks([0,1,2])\n",
    "fig.set_figheight(1.5)\n",
    "fig.set_figwidth(1.5)\n",
    "simpleaxis(ax)\n",
    "dump(fig,file('figures/fig2/2f.pkl','wb'))\n",
    "plt.show()"
   ]
  },
  {
   "cell_type": "markdown",
   "metadata": {},
   "source": [
    "## Figure G (r-squared) Population"
   ]
  },
  {
   "cell_type": "code",
   "execution_count": null,
   "metadata": {},
   "outputs": [],
   "source": [
    "fig, ax = plt.subplots()\n",
    "ax.hist(r_squared)\n",
    "# ax[0].set_title(\"$r^2$ for linear regression\")\n",
    "ax.set_xlabel(\"$R^2$\")\n",
    "ax.set_ylabel(\"# neurons\")\n",
    "ax.set_xlim(xmin=0., xmax=1)\n",
    "fig.set_figheight(1.5)\n",
    "fig.set_figwidth(1.5)\n",
    "simpleaxis(ax)\n",
    "dump(fig,file('figures/fig2/2g_oneSq.pkl','wb'))\n",
    "plt.show()"
   ]
  },
  {
   "cell_type": "code",
   "execution_count": 15,
   "metadata": {
    "scrolled": true
   },
   "outputs": [
    {
     "data": {
      "text/plain": [
       "(0.8002346820840309, 0.24627777523205255)"
      ]
     },
     "execution_count": 15,
     "metadata": {},
     "output_type": "execute_result"
    }
   ],
   "source": [
    "np.mean(r_squared), np.std(r_squared,ddof=1)"
   ]
  },
  {
   "cell_type": "code",
   "execution_count": 16,
   "metadata": {},
   "outputs": [
    {
     "data": {
      "text/plain": [
       "[0.8262996922771971,\n",
       " 0.994965141091018,\n",
       " 0.6245336974347766,\n",
       " 0.9020256958902456,\n",
       " 0.854792020016494,\n",
       " 0.21506129639994828,\n",
       " 0.9854464325226124,\n",
       " 0.954164521293694,\n",
       " 0.8448236418302931]"
      ]
     },
     "execution_count": 16,
     "metadata": {},
     "output_type": "execute_result"
    }
   ],
   "source": [
    "r_squared"
   ]
  },
  {
   "cell_type": "code",
   "execution_count": 17,
   "metadata": {},
   "outputs": [
    {
     "data": {
      "text/plain": [
       "{0: 'epsp_max',\n",
       " 1: 'epsp_area',\n",
       " 2: 'epsp_avg',\n",
       " 3: 'epsp_time_to_peak',\n",
       " 4: 'epsp_area_to_peak',\n",
       " 5: 'epsp_min',\n",
       " 6: 'epsp_onset'}"
      ]
     },
     "execution_count": 17,
     "metadata": {},
     "output_type": "execute_result"
    }
   ],
   "source": [
    "n.features"
   ]
  },
  {
   "cell_type": "markdown",
   "metadata": {},
   "source": [
    "## Figure 2 (D): r-square and (E): I/E changes with number of squares"
   ]
  },
  {
   "cell_type": "code",
   "execution_count": 13,
   "metadata": {
    "scrolled": false
   },
   "outputs": [
    {
     "data": {
      "image/png": "[encoded data removed]",
      "text/plain": [
       "<matplotlib.figure.Figure at 0x7fc827111590>"
      ]
     },
     "metadata": {},
     "output_type": "display_data"
    },
    {
     "data": {
      "image/png": "[encoded data removed]",
      "text/plain": [
       "<matplotlib.figure.Figure at 0x7fc8272a0ad0>"
      ]
     },
     "metadata": {},
     "output_type": "display_data"
    }
   ],
   "source": [
    "slopes = []\n",
    "index = 8\n",
    "n = neurons[index]\n",
    "obs_exc, obs_inh = {}, {}\n",
    "sqrs = {}\n",
    "feature = 1\n",
    "\n",
    "fig, ax = plt.subplots()\n",
    "# f.suptitle(\"Representative cell {}, {}\".format(n.index,n.date), fontsize=18)\n",
    "\n",
    "r_sqrs, slopes, sqrs = [], [], []\n",
    "\n",
    "for sqr in set(n.experiment[1]).intersection(set(n.experiment[2])):\n",
    "    exc, inh = [], []\n",
    "    exc_error, inh_error = [], []\n",
    "    for coord in set(n.experiment[1][sqr].coordwise).intersection(set(n.experiment[1][sqr].coordwise)):\n",
    "        exc.append(-n.experiment[1][sqr].coordwise[coord].average_feature[feature]*scalingFactor)\n",
    "        inh.append(n.experiment[2][sqr].coordwise[coord].average_feature[feature]*scalingFactor)\n",
    "        exc_error.append(np.std([trial.feature[feature] for trial in n.experiment[1][sqr].coordwise[coord].trials], ddof = 1)*scalingFactor)\n",
    "        inh_error.append(np.std([trial.feature[feature] for trial in n.experiment[2][sqr].coordwise[coord].trials], ddof = 1)*scalingFactor)\n",
    "    ax.scatter(exc, inh, c=color_sqr[sqr], s=5, label=sqr)\n",
    "    #ax[0].errorbar(exc, inh, xerr=exc_error, yerr=inh_error, c='k', fmt='.', alpha=0.1)\n",
    "\n",
    "    slope, intercept, rval, pval, stderr = ss.linregress(exc, inh)\n",
    "\n",
    "    excRange = np.linspace(0.9*min(exc), 1.1*max(exc), 100)\n",
    "    inhFit = excRange*slope + intercept\n",
    "\n",
    "    ax.plot(excRange, inhFit, '--', c=color_sqr[sqr])\n",
    "    sqrs.append(sqr)\n",
    "    slopes.append(slope)\n",
    "    r_sqrs.append(rval**2)\n",
    "\n",
    "xlim_old = ax.get_xlim()\n",
    "ylim_old = ax.get_ylim()\n",
    "minlim, maxlim = min(xlim_old[0], ylim_old[0]), max(xlim_old[1], ylim_old[1])\n",
    "ax.plot((0,maxlim), (0,maxlim),'--', label=\"P=1\")\n",
    "ax.set_xlim(0,maxlim)\n",
    "ax.set_ylim(0,maxlim)\n",
    "ax.set_title(\"Linear regression showing proportional E and I\")\n",
    "ax.set_xlabel(\"Excitation (nA.ms)\")\n",
    "ax.set_ylabel(\"Inhibition (nA.ms)\")\n",
    "#ax.legend(loc='lower right')\n",
    "fig.set_figheight(1.5)\n",
    "fig.set_figwidth(1.5)\n",
    "simpleaxis(ax)\n",
    "dump(fig,file('figures/fig2/2d.pkl','wb'))\n",
    "plt.show()\n",
    "\n",
    "fig, ax = plt.subplots()\n",
    "line1 = ax.plot(sqrs, r_sqrs, '.-', markersize=6, label=\"$R^2$\",c='k')\n",
    "ax.set_ylim((0,1))\n",
    "ax.xaxis.set_ticks([1,3,5,7,9])\n",
    "ax_copy = ax.twinx()\n",
    "line2 = ax_copy.plot(sqrs, slopes, '.-', markersize=6, label=\"I/E\",c='m')\n",
    "ax.set_title(\"Different number of squares show consistent EI ratios\")\n",
    "ax.set_xlabel(\"# squares\")\n",
    "#ax.set_ylabel(\"$r^2$ values\")\n",
    "ax_copy.set_ylim((0.1,10))\n",
    "#ax_copy.set_ylabel(\"E/I Ratio (P)\")\n",
    "ax_copy.set_yscale(\"log\")\n",
    "\n",
    "\n",
    "for index, n in enumerate(neurons):\n",
    "    n = neurons[index]\n",
    "    r_sqrs, slopes, sqrs = [], [], []\n",
    "    for sqr in set(n.experiment[1]).intersection(set(n.experiment[2])):\n",
    "        exc, inh = [], []\n",
    "        exc_error, inh_error = [], []\n",
    "        for coord in set(n.experiment[1][sqr].coordwise).intersection(set(n.experiment[1][sqr].coordwise)):\n",
    "            exc.append(-n.experiment[1][sqr].coordwise[coord].average_feature[feature]*scalingFactor)\n",
    "            inh.append(n.experiment[2][sqr].coordwise[coord].average_feature[feature]*scalingFactor)\n",
    "            exc_error.append(np.std([trial.feature[feature] for trial in n.experiment[1][sqr].coordwise[coord].trials], ddof = 1)*scalingFactor)\n",
    "            inh_error.append(np.std([trial.feature[feature] for trial in n.experiment[2][sqr].coordwise[coord].trials], ddof = 1)*scalingFactor)\n",
    "            \n",
    "        slope, intercept, rval, pval, stderr = ss.linregress(exc, inh)\n",
    "\n",
    "        sqrs.append(sqr)\n",
    "        slopes.append(slope)\n",
    "        r_sqrs.append(rval**2)\n",
    "    \n",
    "    ax.plot(sqrs, r_sqrs, '.-', markersize=6,c='k', alpha=0.2, markerfacecolor='w')\n",
    "    ax_copy.plot(sqrs, slopes, '.-', markersize=6, c='m', alpha=0.2, markerfacecolor='w')\n",
    "    \n",
    "ax.spines['left'].set_color('k')\n",
    "ax_copy.spines['right'].set_color('m')\n",
    "lines = line1+line2\n",
    "labs = [l.get_label() for l in lines]\n",
    "ax.legend(lines, labs, loc=0)\n",
    "fig.set_figheight(1.5)\n",
    "fig.set_figwidth(1.5)\n",
    "simpleaxis(ax)\n",
    "simpleaxis(ax_copy,every=True)\n",
    "ax_copy.spines['right'].set_visible(True)\n",
    "ax_copy.get_yaxis().tick_right()\n",
    "\n",
    "dump(fig,file('figures/fig2/2e.pkl','wb'))\n",
    "plt.show()"
   ]
  },
  {
   "cell_type": "markdown",
   "metadata": {},
   "source": [
    "    A. shows tight balance between tight balance between excitation and inhibition at the CA1 neuron. \n",
    "    B. shows r-square for linear regression showing high degree of correlation between E and I. \n",
    "    C. showing different proportionality P of all CA1 neurons."
   ]
  }
 ],
 "metadata": {
  "hide_input": false,
  "kernelspec": {
   "display_name": "Python 2",
   "language": "python",
   "name": "python2"
  },
  "language_info": {
   "codemirror_mode": {
    "name": "ipython",
    "version": 2
   },
   "file_extension": ".py",
   "mimetype": "text/x-python",
   "name": "python",
   "nbconvert_exporter": "python",
   "pygments_lexer": "ipython2",
   "version": "2.7.12"
  },
  "latex_envs": {
   "LaTeX_envs_menu_present": true,
   "autocomplete": true,
   "bibliofile": "biblio.bib",
   "cite_by": "apalike",
   "current_citInitial": 1,
   "eqLabelWithNumbers": true,
   "eqNumInitial": 1,
   "hotkeys": {
    "equation": "Ctrl-E",
    "itemize": "Ctrl-I"
   },
   "labels_anchors": false,
   "latex_user_defs": false,
   "report_style_numbering": false,
   "user_envs_cfg": false
  },
  "toc": {
   "colors": {
    "hover_highlight": "#DAA520",
    "navigate_num": "#000000",
    "navigate_text": "#333333",
    "running_highlight": "#FF0000",
    "selected_highlight": "#FFD700",
    "sidebar_border": "#EEEEEE",
    "wrapper_background": "#FFFFFF"
   },
   "moveMenuLeft": true,
   "nav_menu": {
    "height": "12px",
    "width": "252px"
   },
   "navigate_menu": true,
   "number_sections": true,
   "sideBar": true,
   "threshold": 4,
   "toc_cell": false,
   "toc_section_display": "block",
   "toc_window_display": true,
   "widenNotebook": false
  },
  "varInspector": {
   "cols": {
    "lenName": 16,
    "lenType": 16,
    "lenVar": 40
   },
   "kernels_config": {
    "python": {
     "delete_cmd_postfix": "",
     "delete_cmd_prefix": "del ",
     "library": "var_list.py",
     "varRefreshCmd": "print(var_dic_list())"
    },
    "r": {
     "delete_cmd_postfix": ") ",
     "delete_cmd_prefix": "rm(",
     "library": "var_list.r",
     "varRefreshCmd": "cat(var_dic_list()) "
    }
   },
   "types_to_exclude": [
    "module",
    "function",
    "builtin_function_or_method",
    "instance",
    "_Feature"
   ],
   "window_display": false
  }
 },
 "nbformat": 4,
 "nbformat_minor": 2
}
